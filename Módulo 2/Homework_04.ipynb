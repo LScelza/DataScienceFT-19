{
 "cells": [
  {
   "cell_type": "markdown",
   "metadata": {},
   "source": [
    "1. Considera el experimento que consiste en un empleado que arma un producto."
   ]
  },
  {
   "cell_type": "markdown",
   "metadata": {},
   "source": [
    "a. Defina la variable aleatoria que represente el tiempo en minutos requerido para armar el producto."
   ]
  },
  {
   "cell_type": "markdown",
   "metadata": {},
   "source": [
    "x = tiempo\n",
    "\n",
    "rango x = (0, infinito)"
   ]
  },
  {
   "cell_type": "markdown",
   "metadata": {},
   "source": [
    "b. ¿Qué valores toma la variable aleatoria?"
   ]
  },
  {
   "cell_type": "markdown",
   "metadata": {},
   "source": [
    "Puede tomar cualquier valor positivo."
   ]
  },
  {
   "cell_type": "markdown",
   "metadata": {},
   "source": [
    "c. ¿Es una variable aleatoria discreta o continua?"
   ]
  },
  {
   "cell_type": "markdown",
   "metadata": {},
   "source": [
    "Continua."
   ]
  },
  {
   "cell_type": "markdown",
   "metadata": {},
   "source": [
    "2. Considera el experimento que consiste en lanzar una moneda dos veces."
   ]
  },
  {
   "cell_type": "markdown",
   "metadata": {},
   "source": [
    "a. Enumere los resultados experimentales."
   ]
  },
  {
   "cell_type": "markdown",
   "metadata": {},
   "source": [
    "1. Cara - Cara\n",
    "\n",
    "2. Cara - Cruz\n",
    "\n",
    "3. Cruz - Cara\n",
    "\n",
    "4. Cruz - Cruz"
   ]
  },
  {
   "cell_type": "markdown",
   "metadata": {},
   "source": [
    "b. Defina una variable aleatoria que represente el número de caras en los dos lanzamientos."
   ]
  },
  {
   "cell_type": "markdown",
   "metadata": {},
   "source": [
    "x = Número de caras en dos lanzamientos\n",
    "\n",
    "Valores posibles = 0, 1, 2"
   ]
  },
  {
   "cell_type": "markdown",
   "metadata": {},
   "source": [
    "c. Dé el valor que la variable aleatoria tomará en cada uno de los resultados experimentales."
   ]
  },
  {
   "cell_type": "markdown",
   "metadata": {},
   "source": [
    "1. Cara - Cara = 2\n",
    "\n",
    "2. Cara - Cruz = 1\n",
    "\n",
    "3. Cruz - Cara = 1\n",
    "\n",
    "4. Cruz - Cruz = 0"
   ]
  },
  {
   "cell_type": "markdown",
   "metadata": {},
   "source": [
    "d. ¿Es una variable aleatoria discreta o continua?\n"
   ]
  },
  {
   "cell_type": "markdown",
   "metadata": {},
   "source": [
    "Discreta."
   ]
  },
  {
   "cell_type": "markdown",
   "metadata": {},
   "source": [
    "3. Considera las decisiones de compra de los próximos tres clientes que lleguen a la tienda de ropa Martin Clothing Store. De acuerdo con la experiencia, el gerente de la tienda estima que la probabilidad de que un cliente realice una compra es 0.30. "
   ]
  },
  {
   "cell_type": "markdown",
   "metadata": {},
   "source": [
    "a. Describa si cumple con las reglas para clasificarlo como un experimiento binomial."
   ]
  },
  {
   "cell_type": "markdown",
   "metadata": {},
   "source": [
    "Se pueden hacer experimentos iguales. Cada experimento tiene dos resultados posibles. Un experimento no es afectado por los resultados de otro. Se supone que para todos los clientes se aplica la misma probabilidad. Teniendo en cuenta estos factores, se puede clasificar como binomial."
   ]
  },
  {
   "cell_type": "markdown",
   "metadata": {},
   "source": [
    "b. ¿Cuál es la probabilidad de que dos de los próximos tres clientes realicen una compra?"
   ]
  },
  {
   "cell_type": "code",
   "execution_count": 8,
   "metadata": {},
   "outputs": [
    {
     "name": "stdout",
     "output_type": "stream",
     "text": [
      "La probabilidad de que 2 de los próximos 3 clientes realicen una compra es de 0.19.\n"
     ]
    }
   ],
   "source": [
    "# Acá tenemos que usar la fórmula de distribución binomial.\n",
    "\n",
    "import scipy.stats as sp\n",
    "\n",
    "\"\"\"\n",
    "Para hacer esta cuenta usamos el método binom.pmf() en scipy. Hay que pasarle los siguientes argumentos:\n",
    "el resultado que buscamos calcular, el número de ensayos  y la probabilidad de éxito de cada ensayo.\n",
    "\n",
    "Resultado que deseamos calcular: 2 (número de casos favorables buscados).\n",
    "Número de ensayos: 3 (muestra de clientes).\n",
    "Probabilidad de éxito de cada ensayo: 0.3\n",
    "\"\"\"\n",
    "p_x = round(sp.binom.pmf(2,3,0.3),2)\n",
    "print(f'La probabilidad de que 2 de los próximos 3 clientes realicen una compra es de {p_x}.')"
   ]
  },
  {
   "cell_type": "markdown",
   "metadata": {},
   "source": [
    "c. ¿Cuál es la probabilidad de que cuatro de los próximos diez clientes realicen una compra?"
   ]
  },
  {
   "cell_type": "code",
   "execution_count": 9,
   "metadata": {},
   "outputs": [
    {
     "name": "stdout",
     "output_type": "stream",
     "text": [
      "La probabilidad de que 4 de los próximos 10 clientes realicen una compra es de 0.2.\n"
     ]
    }
   ],
   "source": [
    "# Es similar al anterior, solo que con otros valores.\n",
    "\n",
    "p_x = round(sp.binom.pmf(4,10,0.3),2)\n",
    "print(f'La probabilidad de que 4 de los próximos 10 clientes realicen una compra es de {p_x}.')"
   ]
  },
  {
   "cell_type": "markdown",
   "metadata": {},
   "source": [
    "4.  A la oficina de reservaciones de una aerolínea regional llegan 48 llamadas por hora."
   ]
  },
  {
   "cell_type": "markdown",
   "metadata": {},
   "source": [
    "a. Calcule la probabilidad de recibir cinco llamadas en un lapso de 5 minutos."
   ]
  },
  {
   "cell_type": "code",
   "execution_count": 18,
   "metadata": {},
   "outputs": [
    {
     "name": "stdout",
     "output_type": "stream",
     "text": [
      "La probabilidad de recibir 5 llamadas en 5 minutos es de 0.16.\n"
     ]
    }
   ],
   "source": [
    "# En este caso, como estamos hablando de tiempo, usamos la distribución de Poisson.\n",
    "\n",
    "\"\"\"\n",
    "Para hacer este cálculo usamos el método poisson.pmf() en scipy. Hay que pasarle los siguientes argumentos:\n",
    "el resultado que buscamos calcular y el promedio de eventos por intervalos de tiempo.\n",
    "\n",
    "Resultado que deseamos calcular: 5 (Número de llamadas).\n",
    "Promedio por intervalo: Sabemos que llegan 48 llamadas por hora. Entiendo que ese es el promedio. Pero Nos piden cada 5 minutos, por lo que hay que pasar ese promedio a minutos.\n",
    "\"\"\"\n",
    "prom_5_minutos = 48/60*5  # Regla de 3.\n",
    "p_x_5_5 = round(sp.poisson.pmf(5, prom_5_minutos),2)  # Probabilidad de 5 llamadas en 5 minutos.\n",
    "print(f'La probabilidad de recibir 5 llamadas en 5 minutos es de {p_x_5_5}.')\n",
    "\n"
   ]
  },
  {
   "cell_type": "markdown",
   "metadata": {},
   "source": [
    "b. Estime la probabilidad de recibir exactamente 10 llamadas en un lapso de 15 minutos."
   ]
  },
  {
   "cell_type": "code",
   "execution_count": 19,
   "metadata": {},
   "outputs": [
    {
     "name": "stdout",
     "output_type": "stream",
     "text": [
      "La probabilidad de recibir 10 llamadas en 15 minutos es de 0.1.\n"
     ]
    }
   ],
   "source": [
    "# Es similar al anterior, pero tenemos que cambiar el promedio por intervalo y la cantidad buscada.\n",
    "\n",
    "prom_15_minutos = 48/60*15\n",
    "p_x_10_15 = round(sp.poisson.pmf(10, prom_15_minutos),2)  # Probabilidad de 10 llamadas en 15 minutos.\n",
    "print(f'La probabilidad de recibir 10 llamadas en 15 minutos es de {p_x_10_15}.')"
   ]
  },
  {
   "cell_type": "markdown",
   "metadata": {},
   "source": [
    "c. Suponga que no hay ninguna llamada en espera. Si el agente de viajes necesitará 5 minutos para la llamada que está atendiendo, ¿cuántas llamadas habrá en espera para cuando él termine? ¿Cuál es la probabilidad de que no haya ninguna llamada en espera?"
   ]
  },
  {
   "cell_type": "code",
   "execution_count": 20,
   "metadata": {},
   "outputs": [
    {
     "name": "stdout",
     "output_type": "stream",
     "text": [
      "Se espera que cuando el agente termine con una llamada, suponiendo que no hay ninguna en espera, hayan entrado 4.0.\n"
     ]
    }
   ],
   "source": [
    "# Para el primer punto solamente tenemos que utilizar el promedio que calculamos para cinco minutos.\n",
    "# O al menos no se me ocurre otra manera de calcularlo. \n",
    "\n",
    "print(f'Se espera que cuando el agente termine con una llamada, suponiendo que no hay ninguna en espera, hayan entrado {prom_5_minutos}.')"
   ]
  },
  {
   "cell_type": "code",
   "execution_count": 22,
   "metadata": {},
   "outputs": [
    {
     "name": "stdout",
     "output_type": "stream",
     "text": [
      "La probabilidad de recibir 0 llamadas en 5 minutos es de 0.02.\n",
      "Probabilidad estimada de manera lógica: 0.\n"
     ]
    }
   ],
   "source": [
    "# Para el segundo punto tenemos que repetir lo que hicimos antes, solo que el número buscado es 0.\n",
    "\n",
    "p_x_0_5 = round(sp.poisson.pmf(0, prom_5_minutos),2)  # Probabilidad de 0 llamadas en 5 minutos.\n",
    "print(f'La probabilidad de recibir 0 llamadas en 5 minutos es de {p_x_0_5}.')\n",
    "\n",
    "# Como se espera un promedio de 4 llamadas en cinco minutos, estimaría esta probabilidad en 0.\n",
    "\n",
    "print('Probabilidad estimada de manera lógica: 0.')\n"
   ]
  },
  {
   "cell_type": "markdown",
   "metadata": {},
   "source": [
    "d. Si en este momento no hay ninguna llamada, ¿cuál es la probabilidad de que el agente de viajes pueda tomar 3 minutos de descanso sin ser interrumpido por una llamada?"
   ]
  },
  {
   "cell_type": "code",
   "execution_count": 23,
   "metadata": {},
   "outputs": [
    {
     "name": "stdout",
     "output_type": "stream",
     "text": [
      "La probabilidad de recibir 0 llamadas en 3 minutos es de 0.09.\n"
     ]
    }
   ],
   "source": [
    "# Es similar, pero buscamos la probabilidad de 0 llamadas en 3 minutos. \n",
    "# Tenemos que usar la regla de 3 para calcular el promedio en este período de tiempo.\n",
    "\n",
    "prom_3_minutos = 48/60*3\n",
    "p_x_0_3 = round(sp.poisson.pmf(0, prom_3_minutos),2)  # Probabilidad de 0 llamadas en 3 minutos.\n",
    "print(f'La probabilidad de recibir 0 llamadas en 3 minutos es de {p_x_0_3}.')\n"
   ]
  },
  {
   "cell_type": "markdown",
   "metadata": {},
   "source": [
    "5. En una encuesta realizada por Gallup Organization, se les preguntó a los interrogados, “Cuál es el deporte que prefieres ver”. Futbol y básquetbol ocuparon el primero y segundo lugar de preferencia (www.gallup.com, 3 de enero de 2004). Si en un grupo de 10 individuos, siete prefieren futbol y tres prefieren básquetbol. Se toma una muestra aleatoria de tres de estas personas."
   ]
  },
  {
   "cell_type": "markdown",
   "metadata": {},
   "source": [
    "a. ¿Cuál es la probabilidad de que exactamente dos prefieren el futbol?"
   ]
  },
  {
   "cell_type": "code",
   "execution_count": 25,
   "metadata": {},
   "outputs": [
    {
     "name": "stdout",
     "output_type": "stream",
     "text": [
      "La probabilidad de que en una muestra de 3 personas 2 elijan fútbol  (en base a la encuesta mencionada) es de 0.52.\n"
     ]
    }
   ],
   "source": [
    "# Acá tenemos que calcular la distribución hipergeométrica. \n",
    "\n",
    "\"\"\"\n",
    "En este caso vamos a usar el método hypergeom(). Le tenemos que pasar los siguientes argumentos:\n",
    "\n",
    "Total de población.\n",
    "Total de casos favorables.\n",
    "Número de muestra.\n",
    "Casos favorables buscados en la muestra.\n",
    "\n",
    "En el ejercicio:\n",
    "\n",
    "Población: 10\n",
    "Total casos favorables: 7\n",
    "Muestra: 3\n",
    "Casos favorables buscados: 2\n",
    "\"\"\"\n",
    "\n",
    "hg = sp.hypergeom(10,7,3)\n",
    "p_2_3 = round(hg.pmf(2),2)  # Probabilidad de 2 fútbol en 3 personas.\n",
    "\n",
    "print(f'La probabilidad de que en una muestra de 3 personas 2 elijan fútbol  (en base a la encuesta mencionada) es de {p_2_3}.')\n",
    "\n"
   ]
  },
  {
   "cell_type": "markdown",
   "metadata": {},
   "source": [
    "b. ¿De que la mayoría (ya sean dos o tres) prefiere el futbol?"
   ]
  },
  {
   "cell_type": "code",
   "execution_count": 36,
   "metadata": {},
   "outputs": [
    {
     "name": "stdout",
     "output_type": "stream",
     "text": [
      "0.99\n",
      "La probabilidad de que 2 o 3 personas elijan fútbol es de 0.82.\n"
     ]
    }
   ],
   "source": [
    "# Sabemos que la suma de las probabilidades debe dar 1. \n",
    "# Calculamos la probabilidad de que 3 personas de 3 elijan fútbol.\n",
    "\n",
    "p_3_3 = round(hg.pmf(3),2)  # Probabilidad de 3 fútbol en 3 personas.\n",
    "\n",
    "# Ahora de que 1 sola persona de 3 elija fútbol.\n",
    "\n",
    "p_1_3 = round(hg.pmf(1),2)  # Probabilidad de 1 fútbol en 3 personas.\n",
    "\n",
    "# Comprobamos el resultado:\n",
    "\n",
    "print(round(p_1_3 + p_2_3 + p_3_3, 2))\n",
    "\n",
    "# No da 1 por el redondeo que piden. Da 0.99, pero lo tomamos como 1.\n",
    "\n",
    "# Sabemos que 1 = P(1) + P(2) + P(3)\n",
    "# Por lo tanto P(2) + P(3) = 1 - P(1)\n",
    "p_2_o_3 = round(1 - p_1_3,2)\n",
    "\n",
    "print(f'La probabilidad de que 2 o 3 personas elijan fútbol es de {p_2_o_3}.')\n"
   ]
  },
  {
   "cell_type": "markdown",
   "metadata": {},
   "source": [
    "6. La probabilidad de que a un estudiante le guste este modulo es de 0.7 (en Henry somos optimistas), cual es la probabilidad de que les guste este módulo a 6 de los 10 estudiantes."
   ]
  },
  {
   "cell_type": "code",
   "execution_count": 37,
   "metadata": {},
   "outputs": [
    {
     "name": "stdout",
     "output_type": "stream",
     "text": [
      "La probabilidad de que a 6 de 10 estudiantes les guste el módulo es de 0.2.\n"
     ]
    }
   ],
   "source": [
    "# En este caso hay que usar distribución binomial, ya que hay dos resultados posibles (les gusta o no les gusta)\n",
    "# y se está asignando una probabilidad a cada estudiante de 0.7\n",
    "# Los argumentos que hay que pasar están explicados más arriba.\n",
    "\n",
    "p_henry = round(sp.binom.pmf(6,10,0.7),2)\n",
    "\n",
    "print(f'La probabilidad de que a 6 de 10 estudiantes les guste el módulo es de {p_henry}.')\n"
   ]
  },
  {
   "cell_type": "markdown",
   "metadata": {},
   "source": [
    "7. De todos los push a Git en un Henry Challenge, el 90% lo envía a término. Si se envían 9 ¿cuál es la probabilidad de que 7 lleguen a término?"
   ]
  },
  {
   "cell_type": "code",
   "execution_count": 39,
   "metadata": {},
   "outputs": [
    {
     "name": "stdout",
     "output_type": "stream",
     "text": [
      "La probabilidad de que 7 lleguen a término es de 0.17.\n"
     ]
    }
   ],
   "source": [
    "# Similar al anterior.\n",
    "\n",
    "p_push_7_9 = round(sp.binom.pmf(7,9,0.9),2)\n",
    "print(f'La probabilidad de que 7 lleguen a término es de {p_push_7_9}.')"
   ]
  },
  {
   "cell_type": "markdown",
   "metadata": {},
   "source": [
    "8. En relación con el enunciado anterior cálcule la probabilidad de que 7 o más lleguen a término."
   ]
  },
  {
   "cell_type": "code",
   "execution_count": 41,
   "metadata": {},
   "outputs": [
    {
     "name": "stdout",
     "output_type": "stream",
     "text": [
      "La probabilidad de que 7 o más lleguen a término es de 0.95.\n"
     ]
    }
   ],
   "source": [
    "# Hay tres resultados posibles: 7, 8 y 9 (7 o más). Por lo tanto, hay que sumar las 3 probabilidades.\n",
    "\n",
    "p_push_8_9 = round(sp.binom.pmf(8,9,0.9),2)\n",
    "p_push_9_9 = round(sp.binom.pmf(9,9,0.9),2)\n",
    "p_7_8_9  = round(p_push_7_9 + p_push_8_9 + p_push_9_9, 2)\n",
    "print(f'La probabilidad de que 7 o más lleguen a término es de {p_7_8_9}.')"
   ]
  },
  {
   "cell_type": "markdown",
   "metadata": {},
   "source": [
    "9. La cantidad de alumnos promedio que se ausentan en un día de clases en la carrera de Data Science es de 10. Calcular cual es la probabilidad de que se ausenten 7 alumnos."
   ]
  },
  {
   "cell_type": "code",
   "execution_count": 42,
   "metadata": {},
   "outputs": [
    {
     "name": "stdout",
     "output_type": "stream",
     "text": [
      "La probabilidad de que se ausenten 7 alumnos en un día es de 0.09.\n"
     ]
    }
   ],
   "source": [
    "# Distribución de Poisson.\n",
    "# Sabemos el número buscado (7) y el promedio en un intervalo (10/día).\n",
    "\n",
    "prom = 10\n",
    "p_7 = round(sp.poisson.pmf(7, prom),2)  # Probabilidad de que falten 7 en un día.\n",
    "print(f'La probabilidad de que se ausenten 7 alumnos en un día es de {p_7}.')\n",
    "\n"
   ]
  },
  {
   "cell_type": "markdown",
   "metadata": {},
   "source": [
    "10. Cuando inicia una clase, los estudiantes ingresan a un ritmo de 5 estudiantes por minuto. Calcular cual es la probabilidad de que ingresen 7 estudiantes por minuto."
   ]
  },
  {
   "cell_type": "code",
   "execution_count": 43,
   "metadata": {},
   "outputs": [
    {
     "name": "stdout",
     "output_type": "stream",
     "text": [
      "La probabilidad de que entren 7 alumnos por minuto es de 0.1.\n"
     ]
    }
   ],
   "source": [
    "# Similar a lo que hicimos antes. Sabemos el número buscado (7) y el promedio en ese intervalo de tiempo (5).\n",
    "\n",
    "prom = 5\n",
    "p_7 = round(sp.poisson.pmf(7, prom),2)  # Probabilidad de entren 7 por minuto.\n",
    "print(f'La probabilidad de que entren 7 alumnos por minuto es de {p_7}.')"
   ]
  }
 ],
 "metadata": {
  "kernelspec": {
   "display_name": "Python 3",
   "language": "python",
   "name": "python3"
  },
  "language_info": {
   "codemirror_mode": {
    "name": "ipython",
    "version": 3
   },
   "file_extension": ".py",
   "mimetype": "text/x-python",
   "name": "python",
   "nbconvert_exporter": "python",
   "pygments_lexer": "ipython3",
   "version": "3.11.2"
  }
 },
 "nbformat": 4,
 "nbformat_minor": 2
}
