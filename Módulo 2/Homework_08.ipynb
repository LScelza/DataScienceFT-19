{
 "cells": [
  {
   "cell_type": "markdown",
   "metadata": {},
   "source": [
    "1. Bajar el CSV de Oferta Gastronómica desde Buenos Aires Data (https://data.buenosaires.gob.ar/dataset/). Idealmente hacer esto con Python."
   ]
  },
  {
   "cell_type": "code",
   "execution_count": 1,
   "metadata": {},
   "outputs": [],
   "source": [
    "import pandas as pd\n",
    "import pymysql\n"
   ]
  },
  {
   "cell_type": "markdown",
   "metadata": {},
   "source": [
    "Creamos un DataFrame de pandas con el csv."
   ]
  },
  {
   "cell_type": "code",
   "execution_count": 22,
   "metadata": {},
   "outputs": [],
   "source": [
    "df = pd.read_csv('https://cdn.buenosaires.gob.ar/datosabiertos/datasets/ente-de-turismo/oferta-establecimientos-gastronomicos/oferta_gastronomica.csv')"
   ]
  },
  {
   "cell_type": "code",
   "execution_count": 4,
   "metadata": {},
   "outputs": [
    {
     "data": {
      "text/html": [
       "<div>\n",
       "<style scoped>\n",
       "    .dataframe tbody tr th:only-of-type {\n",
       "        vertical-align: middle;\n",
       "    }\n",
       "\n",
       "    .dataframe tbody tr th {\n",
       "        vertical-align: top;\n",
       "    }\n",
       "\n",
       "    .dataframe thead th {\n",
       "        text-align: right;\n",
       "    }\n",
       "</style>\n",
       "<table border=\"1\" class=\"dataframe\">\n",
       "  <thead>\n",
       "    <tr style=\"text-align: right;\">\n",
       "      <th></th>\n",
       "      <th>long</th>\n",
       "      <th>lat</th>\n",
       "      <th>id</th>\n",
       "      <th>nombre</th>\n",
       "      <th>categoria</th>\n",
       "      <th>cocina</th>\n",
       "      <th>ambientacion</th>\n",
       "      <th>telefono</th>\n",
       "      <th>mail</th>\n",
       "      <th>horario</th>\n",
       "      <th>calle_nombre</th>\n",
       "      <th>calle_altura</th>\n",
       "      <th>calle_cruce</th>\n",
       "      <th>direccion_completa</th>\n",
       "      <th>barrio</th>\n",
       "      <th>comuna</th>\n",
       "      <th>codigo_postal</th>\n",
       "      <th>codigo_postal_argentino</th>\n",
       "    </tr>\n",
       "  </thead>\n",
       "  <tbody>\n",
       "    <tr>\n",
       "      <th>0</th>\n",
       "      <td>-58.363307</td>\n",
       "      <td>-34.622963</td>\n",
       "      <td>1602</td>\n",
       "      <td>GUANTANAMERA</td>\n",
       "      <td>RESTAURANTE</td>\n",
       "      <td>CUBANA</td>\n",
       "      <td>MODERNO</td>\n",
       "      <td>4314 0770</td>\n",
       "      <td>NaN</td>\n",
       "      <td>NaN</td>\n",
       "      <td>MOREAU DE JUSTO ALICIA</td>\n",
       "      <td>2092</td>\n",
       "      <td>NaN</td>\n",
       "      <td>MOREAU DE JUSTO, ALICIA AV. 2092</td>\n",
       "      <td>Puerto Madero</td>\n",
       "      <td>Comuna 1</td>\n",
       "      <td>1107.0</td>\n",
       "      <td>C1107AFP</td>\n",
       "    </tr>\n",
       "    <tr>\n",
       "      <th>1</th>\n",
       "      <td>-58.392330</td>\n",
       "      <td>-34.621554</td>\n",
       "      <td>676</td>\n",
       "      <td>1843 VINACOTECA</td>\n",
       "      <td>VINERIA</td>\n",
       "      <td>NaN</td>\n",
       "      <td>NaN</td>\n",
       "      <td>4779 0806</td>\n",
       "      <td>NaN</td>\n",
       "      <td>lunes a domingo de 8 a 00</td>\n",
       "      <td>HUMBERTO 1º</td>\n",
       "      <td>1843</td>\n",
       "      <td>NaN</td>\n",
       "      <td>HUMBERTO 1º 1843</td>\n",
       "      <td>San Cristobal</td>\n",
       "      <td>Comuna 3</td>\n",
       "      <td>NaN</td>\n",
       "      <td>NaN</td>\n",
       "    </tr>\n",
       "    <tr>\n",
       "      <th>2</th>\n",
       "      <td>-58.453542</td>\n",
       "      <td>-34.560311</td>\n",
       "      <td>487</td>\n",
       "      <td>2080 EXPRESS</td>\n",
       "      <td>RESTAURANTE</td>\n",
       "      <td>TRADICIONAL</td>\n",
       "      <td>CLASICO PORTEÑO</td>\n",
       "      <td>4788 4500</td>\n",
       "      <td>NaN</td>\n",
       "      <td>lunes a domingo de 8 a 00</td>\n",
       "      <td>JURAMENTO</td>\n",
       "      <td>2080</td>\n",
       "      <td>NaN</td>\n",
       "      <td>JURAMENTO AV. 2080</td>\n",
       "      <td>Belgrano</td>\n",
       "      <td>Comuna 13</td>\n",
       "      <td>1428.0</td>\n",
       "      <td>C1428DNH</td>\n",
       "    </tr>\n",
       "  </tbody>\n",
       "</table>\n",
       "</div>"
      ],
      "text/plain": [
       "        long        lat    id           nombre    categoria       cocina  \\\n",
       "0 -58.363307 -34.622963  1602     GUANTANAMERA  RESTAURANTE       CUBANA   \n",
       "1 -58.392330 -34.621554   676  1843 VINACOTECA      VINERIA          NaN   \n",
       "2 -58.453542 -34.560311   487     2080 EXPRESS  RESTAURANTE  TRADICIONAL   \n",
       "\n",
       "      ambientacion   telefono mail                    horario  \\\n",
       "0          MODERNO  4314 0770  NaN                        NaN   \n",
       "1              NaN  4779 0806  NaN  lunes a domingo de 8 a 00   \n",
       "2  CLASICO PORTEÑO  4788 4500  NaN  lunes a domingo de 8 a 00   \n",
       "\n",
       "             calle_nombre  calle_altura calle_cruce  \\\n",
       "0  MOREAU DE JUSTO ALICIA          2092         NaN   \n",
       "1             HUMBERTO 1º          1843         NaN   \n",
       "2               JURAMENTO          2080         NaN   \n",
       "\n",
       "                 direccion_completa         barrio     comuna  codigo_postal  \\\n",
       "0  MOREAU DE JUSTO, ALICIA AV. 2092  Puerto Madero   Comuna 1         1107.0   \n",
       "1                  HUMBERTO 1º 1843  San Cristobal   Comuna 3            NaN   \n",
       "2                JURAMENTO AV. 2080       Belgrano  Comuna 13         1428.0   \n",
       "\n",
       "  codigo_postal_argentino  \n",
       "0                C1107AFP  \n",
       "1                     NaN  \n",
       "2                C1428DNH  "
      ]
     },
     "execution_count": 4,
     "metadata": {},
     "output_type": "execute_result"
    }
   ],
   "source": [
    "df.head(3)"
   ]
  },
  {
   "cell_type": "markdown",
   "metadata": {},
   "source": [
    "2. Crear una tabla con los siguientes campos: id_local, nombre, categoria, direccion, barrio, comuna, para posteriormente poblarla con los datos bajados, utilzando el conector desde el script de Python."
   ]
  },
  {
   "cell_type": "markdown",
   "metadata": {},
   "source": [
    "Voy a crear una conexión con MySQL y en database no voy a poner nada, para después crear una nueva base de datos."
   ]
  },
  {
   "cell_type": "code",
   "execution_count": 5,
   "metadata": {},
   "outputs": [],
   "source": [
    "conexion = pymysql.connect(host='localhost', user='#####', password='#####', database='')"
   ]
  },
  {
   "cell_type": "markdown",
   "metadata": {},
   "source": [
    "Se conectó bien. Ahora voy a crear una base de datos nueva."
   ]
  },
  {
   "cell_type": "code",
   "execution_count": 8,
   "metadata": {},
   "outputs": [
    {
     "data": {
      "text/plain": [
       "1"
      ]
     },
     "execution_count": 8,
     "metadata": {},
     "output_type": "execute_result"
    }
   ],
   "source": [
    "query1 = 'CREATE DATABASE Nueva'  # Instrucción para crear la nueva base de datos (igual que en SQL).\n",
    "c = conexion.cursor()  # El método cursor() de la instancia conexion sirve para ejecutar las consultas.\n",
    "c.execute(query1)\n",
    "\n"
   ]
  },
  {
   "cell_type": "markdown",
   "metadata": {},
   "source": [
    "Indica que se ejecutó bien. Verifico en MySQL y está la base de datos nueva."
   ]
  },
  {
   "cell_type": "markdown",
   "metadata": {},
   "source": [
    "Para evitar errores, actualizo conexion y conexion.cursor() con la nueva db."
   ]
  },
  {
   "cell_type": "code",
   "execution_count": 9,
   "metadata": {},
   "outputs": [],
   "source": [
    "conexion = pymysql.connect(host='localhost', user='#####', password='#####', database='Nueva')"
   ]
  },
  {
   "cell_type": "code",
   "execution_count": 10,
   "metadata": {},
   "outputs": [],
   "source": [
    "c = conexion.cursor()"
   ]
  },
  {
   "cell_type": "markdown",
   "metadata": {},
   "source": [
    "Ahora creo la nueva tabla (igual que en SQL)."
   ]
  },
  {
   "cell_type": "code",
   "execution_count": 20,
   "metadata": {},
   "outputs": [
    {
     "data": {
      "text/plain": [
       "0"
      ]
     },
     "execution_count": 20,
     "metadata": {},
     "output_type": "execute_result"
    }
   ],
   "source": [
    "query2 = \"\"\"CREATE TABLE Locales(idLocal INT NOT NULL PRIMARY KEY,  # Si no ordenamos el DataFrame y lo queremos pasar \n",
    "                                                                    # tal como está, no ponemos AUTO_INCREMENT\n",
    "\t\t\t\t\t\t\t\tnombre VARCHAR(50),\n",
    "                                categoria VARCHAR(20),\n",
    "                                direccion VARCHAR(50),\n",
    "                                barrio VARCHAR(30),\n",
    "                                comuna VARCHAR(15))\"\"\"  # Con comillas triples, porque está en varias líneas.\n",
    "\n",
    "\n",
    "c.execute(query2)\n"
   ]
  },
  {
   "cell_type": "markdown",
   "metadata": {},
   "source": [
    "Indica que se ejecutó bien. Verifico en MySQL y se creó."
   ]
  },
  {
   "cell_type": "markdown",
   "metadata": {},
   "source": [
    "Si revisamos bien todo el df, hay valores que son NaN. Para evitar errores, los reemplazo."
   ]
  },
  {
   "cell_type": "code",
   "execution_count": 49,
   "metadata": {},
   "outputs": [],
   "source": [
    "df = df.fillna('N/A')"
   ]
  },
  {
   "cell_type": "markdown",
   "metadata": {},
   "source": [
    "Ahora hay que insertar los valores en la tabla:"
   ]
  },
  {
   "cell_type": "code",
   "execution_count": 26,
   "metadata": {},
   "outputs": [],
   "source": [
    "for i in range(len(df)):\n",
    "    valores = (df.loc[i, 'id'], df.loc[i, 'nombre'], df.loc[i, 'categoria'], df.loc[i, 'direccion_completa'], \n",
    "               df.loc[i, 'barrio'], df.loc[i, 'comuna'])\n",
    "    query3 = 'INSERT INTO Locales(idLocal, nombre, categoria, direccion, barrio, comuna) VALUES(%s, %s, %s, %s, %s, %s)'\n",
    "    c.execute(query3, valores)\n",
    "\n",
    "conexion.commit()"
   ]
  },
  {
   "cell_type": "markdown",
   "metadata": {},
   "source": [
    "Se insertaron correctamente."
   ]
  },
  {
   "cell_type": "markdown",
   "metadata": {},
   "source": [
    "Cerramos la conexión."
   ]
  },
  {
   "cell_type": "code",
   "execution_count": 28,
   "metadata": {},
   "outputs": [],
   "source": [
    "conexion.close()"
   ]
  },
  {
   "cell_type": "markdown",
   "metadata": {},
   "source": [
    "3. A partir de tener los datos disponibles, responder a las siguientes preguntas:\n",
    "\n",
    "   a) ¿Cuál es el barrio con mayor cantidad de Pubs?\n",
    "\n",
    " "
   ]
  },
  {
   "cell_type": "markdown",
   "metadata": {},
   "source": [
    "Volvemos a conectarnos."
   ]
  },
  {
   "cell_type": "code",
   "execution_count": 29,
   "metadata": {},
   "outputs": [],
   "source": [
    "conexion = pymysql.connect(host='localhost', user='#####', password='#####', database='Nueva')\n",
    "c = conexion.cursor()"
   ]
  },
  {
   "cell_type": "code",
   "execution_count": 41,
   "metadata": {},
   "outputs": [
    {
     "name": "stdout",
     "output_type": "stream",
     "text": [
      "('Recoleta', 8)\n",
      "('Caballito', 6)\n",
      "('Villa Devoto', 5)\n",
      "('Flores', 4)\n",
      "('Mataderos', 4)\n",
      "('Retiro', 4)\n",
      "('Palermo', 3)\n",
      "('San Nicolas', 3)\n",
      "('Balvanera', 2)\n",
      "('Liniers', 2)\n",
      "('NuÃƒÂ±ez', 2)\n",
      "('Villa Del Parque', 2)\n",
      "('Agronomia', 2)\n",
      "('Villa Ortuzar', 2)\n",
      "('Monserrat', 1)\n",
      "('Villa Santa Rita', 1)\n",
      "('Villa Lugano', 1)\n",
      "('Villa Pueyrredon', 1)\n"
     ]
    }
   ],
   "source": [
    "query4 = 'SELECT barrio, COUNT(*) FROM Locales WHERE categoria = \"pub\" GROUP BY barrio ORDER BY 2 DESC'\n",
    "c.execute(query4)\n",
    "for fila in c:\n",
    "    print(fila)"
   ]
  },
  {
   "cell_type": "markdown",
   "metadata": {},
   "source": [
    "Recoleta."
   ]
  },
  {
   "cell_type": "markdown",
   "metadata": {},
   "source": [
    "  b) Obtener la cantidad de locales por categoría\n",
    "   "
   ]
  },
  {
   "cell_type": "code",
   "execution_count": 43,
   "metadata": {},
   "outputs": [
    {
     "name": "stdout",
     "output_type": "stream",
     "text": [
      "('RESTAURANTE', 1990)\n",
      "('CAFE', 334)\n",
      "('BAR', 247)\n",
      "('N/A', 116)\n",
      "('CONFITERIA', 55)\n",
      "('PUB', 53)\n",
      "('VINERIA', 22)\n",
      "('SANDWICHERIA', 4)\n",
      "('DELIVERY & TAKE AWAY', 2)\n"
     ]
    }
   ],
   "source": [
    "query5 = 'SELECT categoria, COUNT(*) FROM Locales GROUP BY categoria ORDER BY 2 DESC'\n",
    "c.execute(query5)\n",
    "for fila in c:\n",
    "    print(fila)"
   ]
  },
  {
   "cell_type": "markdown",
   "metadata": {},
   "source": [
    "c) Obtener la cantidad de restaurantes por comuna"
   ]
  },
  {
   "cell_type": "code",
   "execution_count": 47,
   "metadata": {},
   "outputs": [
    {
     "name": "stdout",
     "output_type": "stream",
     "text": [
      "('Comuna 1', 609)\n",
      "('Comuna 14', 366)\n",
      "('Comuna 2', 227)\n",
      "('Comuna 3', 145)\n",
      "('Comuna 13', 108)\n",
      "('Comuna 4', 95)\n",
      "('Comuna 6', 87)\n",
      "('Comuna 7', 64)\n",
      "('Comuna 15', 57)\n",
      "('Comuna 5', 56)\n",
      "('Comuna 9', 52)\n",
      "('Comuna 10', 43)\n",
      "('Comuna 12', 42)\n",
      "('Comuna 11', 33)\n",
      "('Comuna 8', 6)\n"
     ]
    }
   ],
   "source": [
    "query6 = 'SELECT  comuna, COUNT(*) FROM Locales WHERE categoria = \"RESTAURANTE\" GROUP BY comuna ORDER BY 2 DESC'\n",
    "c.execute(query6)\n",
    "for fila in c:\n",
    "    print(fila)"
   ]
  },
  {
   "cell_type": "markdown",
   "metadata": {},
   "source": [
    "Importante: siempre cerrar la conexión."
   ]
  },
  {
   "cell_type": "code",
   "execution_count": 48,
   "metadata": {},
   "outputs": [],
   "source": [
    "conexion.close()"
   ]
  }
 ],
 "metadata": {
  "kernelspec": {
   "display_name": "Python 3",
   "language": "python",
   "name": "python3"
  },
  "language_info": {
   "codemirror_mode": {
    "name": "ipython",
    "version": 3
   },
   "file_extension": ".py",
   "mimetype": "text/x-python",
   "name": "python",
   "nbconvert_exporter": "python",
   "pygments_lexer": "ipython3",
   "version": "3.11.2"
  }
 },
 "nbformat": 4,
 "nbformat_minor": 2
}
