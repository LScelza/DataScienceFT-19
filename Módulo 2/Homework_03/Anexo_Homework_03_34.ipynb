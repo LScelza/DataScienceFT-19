{
 "cells": [
  {
   "cell_type": "code",
   "execution_count": 1,
   "metadata": {},
   "outputs": [],
   "source": [
    "import pandas as pd\n"
   ]
  },
  {
   "cell_type": "markdown",
   "metadata": {},
   "source": [
    "34. La tabla siguiente muestra las probabilidades de los distintos tipos sanguíneo en la población."
   ]
  },
  {
   "cell_type": "markdown",
   "metadata": {},
   "source": [
    "![GrupoSanguineo](/TablasAnexo/Tabla2.png)"
   ]
  },
  {
   "cell_type": "code",
   "execution_count": 4,
   "metadata": {},
   "outputs": [
    {
     "data": {
      "text/html": [
       "<div>\n",
       "<style scoped>\n",
       "    .dataframe tbody tr th:only-of-type {\n",
       "        vertical-align: middle;\n",
       "    }\n",
       "\n",
       "    .dataframe tbody tr th {\n",
       "        vertical-align: top;\n",
       "    }\n",
       "\n",
       "    .dataframe thead th {\n",
       "        text-align: right;\n",
       "    }\n",
       "</style>\n",
       "<table border=\"1\" class=\"dataframe\">\n",
       "  <thead>\n",
       "    <tr style=\"text-align: right;\">\n",
       "      <th></th>\n",
       "      <th>A</th>\n",
       "      <th>B</th>\n",
       "      <th>AB</th>\n",
       "      <th>0</th>\n",
       "    </tr>\n",
       "  </thead>\n",
       "  <tbody>\n",
       "    <tr>\n",
       "      <th>Rh+</th>\n",
       "      <td>0.34</td>\n",
       "      <td>0.09</td>\n",
       "      <td>0.04</td>\n",
       "      <td>0.38</td>\n",
       "    </tr>\n",
       "    <tr>\n",
       "      <th>Rh-</th>\n",
       "      <td>0.06</td>\n",
       "      <td>0.02</td>\n",
       "      <td>0.01</td>\n",
       "      <td>0.06</td>\n",
       "    </tr>\n",
       "  </tbody>\n",
       "</table>\n",
       "</div>"
      ],
      "text/plain": [
       "        A     B    AB     0\n",
       "Rh+  0.34  0.09  0.04  0.38\n",
       "Rh-  0.06  0.02  0.01  0.06"
      ]
     },
     "execution_count": 4,
     "metadata": {},
     "output_type": "execute_result"
    }
   ],
   "source": [
    "df = pd.DataFrame(columns=['A', 'B', 'AB', '0'], index=['Rh+', 'Rh-'])\n",
    "df.loc['Rh+', 'A'] = 0.34\n",
    "df.loc['Rh+', 'B'] = 0.09\n",
    "df.loc['Rh+', 'AB'] = 0.04\n",
    "df.loc['Rh+', '0'] = 0.38\n",
    "df.loc['Rh-', 'A'] = 0.06\n",
    "df.loc['Rh-', 'B'] = 0.02\n",
    "df.loc['Rh-', 'AB'] = 0.01\n",
    "df.loc['Rh-', '0'] = 0.06\n",
    "\n",
    "df"
   ]
  },
  {
   "cell_type": "markdown",
   "metadata": {},
   "source": [
    "a. ¿Cuál es la probabilidad de que una persona tenga sangre tipo O?"
   ]
  },
  {
   "cell_type": "code",
   "execution_count": 5,
   "metadata": {},
   "outputs": [
    {
     "name": "stdout",
     "output_type": "stream",
     "text": [
      "La probabilidad es de 0.44.\n"
     ]
    }
   ],
   "source": [
    "# P(0) = P(Rh+ n 0) + P(Rh- n 0) \n",
    "p_0 = df.loc['Rh+', '0'] + df.loc['Rh-', '0']\n",
    "print(f'La probabilidad es de {p_0}.')"
   ]
  },
  {
   "cell_type": "markdown",
   "metadata": {},
   "source": [
    "b. ¿De que tenga sangre Rh-?"
   ]
  },
  {
   "cell_type": "code",
   "execution_count": 6,
   "metadata": {},
   "outputs": [
    {
     "name": "stdout",
     "output_type": "stream",
     "text": [
      "La probabilidad es de 0.15.\n"
     ]
    }
   ],
   "source": [
    "# P(Rh-) = P(Rh- n A) + P(Rh- n B) + P(Rh- n AB) + P(Rh- n 0) \n",
    "p_rh_negativo = df.loc['Rh-', 'A'] + df.loc['Rh-', 'B'] + df.loc['Rh-', 'AB'] + df.loc['Rh-', '0']\n",
    "print(f'La probabilidad es de {p_rh_negativo}.')"
   ]
  },
  {
   "cell_type": "markdown",
   "metadata": {},
   "source": [
    "c. ¿Cuál es la probabilidad de que una persona sea Rh- dado que la persona tiene sangre\n",
    "tipo O?"
   ]
  },
  {
   "cell_type": "markdown",
   "metadata": {},
   "source": [
    "En este caso hay que calcular P(Rh-|0). La fórmula es P(Rh- n 0) = P(0) * P(Rh-|0). Igual que antes, despejamos y queda: P(Rh-|0) = P(Rh- n 0)/P(0)."
   ]
  },
  {
   "cell_type": "code",
   "execution_count": 10,
   "metadata": {},
   "outputs": [
    {
     "name": "stdout",
     "output_type": "stream",
     "text": [
      "La probabilidad es de 0.13636363636363635.\n"
     ]
    }
   ],
   "source": [
    "p_rh_negativo_dado_0 = df.loc['Rh-', '0']/p_0\n",
    "print(f'La probabilidad es de {p_rh_negativo_dado_0}.')\n"
   ]
  },
  {
   "cell_type": "markdown",
   "metadata": {},
   "source": [
    "d. ¿Cuál es la probabilidad de que una persona tenga sangre tipo B dado que es Rh+?"
   ]
  },
  {
   "cell_type": "markdown",
   "metadata": {},
   "source": [
    "Similar al punto anterior. En este caso, P(B|Rh+) = P(B n Rh+)/P(Rh+)"
   ]
  },
  {
   "cell_type": "code",
   "execution_count": 11,
   "metadata": {},
   "outputs": [
    {
     "name": "stdout",
     "output_type": "stream",
     "text": [
      "La probabilidad es de 0.10588235294117646.\n"
     ]
    }
   ],
   "source": [
    "p_rh_positivo = df.loc['Rh+', 'A'] + df.loc['Rh+', 'B'] + df.loc['Rh+', 'AB'] + df.loc['Rh+', '0']\n",
    "p_b_dado_rh_positivo = df.loc['Rh+', 'B']/p_rh_positivo\n",
    "print(f'La probabilidad es de {p_b_dado_rh_positivo}.')"
   ]
  },
  {
   "cell_type": "markdown",
   "metadata": {},
   "source": [
    "e. ¿Cuál es la probabilidad de que en un matrimonio, los dos sean Rh-?"
   ]
  },
  {
   "cell_type": "code",
   "execution_count": 12,
   "metadata": {},
   "outputs": [
    {
     "name": "stdout",
     "output_type": "stream",
     "text": [
      "La probabilidad es de 0.0225.\n"
     ]
    }
   ],
   "source": [
    "p_matrimonio = p_rh_negativo * p_rh_negativo\n",
    "print(f'La probabilidad es de {p_matrimonio}.')"
   ]
  },
  {
   "cell_type": "markdown",
   "metadata": {},
   "source": [
    "f. ¿Cuál es la probabilidad de que en un matrimonio, los dos tengan sangre AB?"
   ]
  },
  {
   "cell_type": "code",
   "execution_count": 13,
   "metadata": {},
   "outputs": [
    {
     "name": "stdout",
     "output_type": "stream",
     "text": [
      "La probabilidad es de 0.0025000000000000005.\n"
     ]
    }
   ],
   "source": [
    "p_ab = df.loc['Rh+', 'AB'] + df.loc['Rh-', 'AB']\n",
    "p_matrimonio_ab = p_ab * p_ab\n",
    "print(f'La probabilidad es de {p_matrimonio_ab}.')"
   ]
  }
 ],
 "metadata": {
  "kernelspec": {
   "display_name": "Python 3",
   "language": "python",
   "name": "python3"
  },
  "language_info": {
   "codemirror_mode": {
    "name": "ipython",
    "version": 3
   },
   "file_extension": ".py",
   "mimetype": "text/x-python",
   "name": "python",
   "nbconvert_exporter": "python",
   "pygments_lexer": "ipython3",
   "version": "3.11.2"
  }
 },
 "nbformat": 4,
 "nbformat_minor": 2
}
