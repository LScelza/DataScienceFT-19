{
 "cells": [
  {
   "cell_type": "code",
   "execution_count": 1,
   "metadata": {},
   "outputs": [],
   "source": [
    "import pandas as pd"
   ]
  },
  {
   "cell_type": "markdown",
   "metadata": {},
   "source": [
    "33. Una muestra de estudiantes de la maestría en administración de negocios, arrojó la siguiente información sobre la principal razón que tuvieron los estudiantes para elegir la escuela en donde\n",
    "hacen sus estudios."
   ]
  },
  {
   "cell_type": "markdown",
   "metadata": {},
   "source": [
    "![Escuelas](/TablasAnexo/Tabla1.png)"
   ]
  },
  {
   "cell_type": "markdown",
   "metadata": {},
   "source": [
    "a. Con estos datos elabore una tabla de probabilidad conjunta"
   ]
  },
  {
   "cell_type": "code",
   "execution_count": 2,
   "metadata": {},
   "outputs": [],
   "source": [
    "total = 1929\n",
    "\"\"\"\n",
    "Referencias:\n",
    "\n",
    "TC: Tiempo completo.\n",
    "MT: Medio tiempo.\n",
    "CA: Calidad.\n",
    "CO: Costo.\n",
    "O: Otras.\n",
    "\"\"\"\n",
    "# P(TCnCA):\n",
    "a = 421/total\n",
    "# P(MTnCA):\n",
    "b = 400/total\n",
    "# P(TCnCO):\n",
    "c = 393/total\n",
    "# P(MEnCO):\n",
    "d = 593/total\n",
    "# P(TCnO):\n",
    "e = 76/total\n",
    "# P(MTnO):\n",
    "f = 46/total\n"
   ]
  },
  {
   "cell_type": "markdown",
   "metadata": {},
   "source": [
    "Voy a hacer la tabla paso a paso para que se entiendan los valores."
   ]
  },
  {
   "cell_type": "code",
   "execution_count": 3,
   "metadata": {},
   "outputs": [
    {
     "data": {
      "text/html": [
       "<div>\n",
       "<style scoped>\n",
       "    .dataframe tbody tr th:only-of-type {\n",
       "        vertical-align: middle;\n",
       "    }\n",
       "\n",
       "    .dataframe tbody tr th {\n",
       "        vertical-align: top;\n",
       "    }\n",
       "\n",
       "    .dataframe thead th {\n",
       "        text-align: right;\n",
       "    }\n",
       "</style>\n",
       "<table border=\"1\" class=\"dataframe\">\n",
       "  <thead>\n",
       "    <tr style=\"text-align: right;\">\n",
       "      <th></th>\n",
       "      <th>Calidad</th>\n",
       "      <th>Costo/Conveniencia</th>\n",
       "      <th>Otras</th>\n",
       "      <th>Total</th>\n",
       "    </tr>\n",
       "  </thead>\n",
       "  <tbody>\n",
       "    <tr>\n",
       "      <th>Tiempo completo</th>\n",
       "      <td>0.218248</td>\n",
       "      <td>0.203733</td>\n",
       "      <td>0.039399</td>\n",
       "      <td>0.461379</td>\n",
       "    </tr>\n",
       "    <tr>\n",
       "      <th>Medio tiempo</th>\n",
       "      <td>0.207361</td>\n",
       "      <td>0.307413</td>\n",
       "      <td>0.023847</td>\n",
       "      <td>0.538621</td>\n",
       "    </tr>\n",
       "    <tr>\n",
       "      <th>Total</th>\n",
       "      <td>0.425609</td>\n",
       "      <td>0.511146</td>\n",
       "      <td>0.063245</td>\n",
       "      <td>1</td>\n",
       "    </tr>\n",
       "  </tbody>\n",
       "</table>\n",
       "</div>"
      ],
      "text/plain": [
       "                  Calidad Costo/Conveniencia     Otras     Total\n",
       "Tiempo completo  0.218248           0.203733  0.039399  0.461379\n",
       "Medio tiempo     0.207361           0.307413  0.023847  0.538621\n",
       "Total            0.425609           0.511146  0.063245         1"
      ]
     },
     "execution_count": 3,
     "metadata": {},
     "output_type": "execute_result"
    }
   ],
   "source": [
    "df = pd.DataFrame(columns=['Calidad', 'Costo/Conveniencia', 'Otras', 'Total'], index=['Tiempo completo', 'Medio tiempo', 'Total'])\n",
    "df.loc['Tiempo completo', 'Calidad'] = a\n",
    "df.loc['Medio tiempo', 'Calidad'] = b\n",
    "df.loc['Tiempo completo', 'Costo/Conveniencia'] = c\n",
    "df.loc['Medio tiempo', 'Costo/Conveniencia'] = d\n",
    "df.loc['Tiempo completo', 'Otras'] = e\n",
    "df.loc['Medio tiempo', 'Otras'] = f\n",
    "df.loc['Total', 'Calidad'] = a+b\n",
    "df.loc['Total', 'Costo/Conveniencia'] = c+d\n",
    "df.loc['Total', 'Otras'] = e+f\n",
    "df.loc['Tiempo completo', 'Total'] = a+c+e\n",
    "df.loc['Medio tiempo', 'Total'] = b+d+f\n",
    "df.loc['Total', 'Total'] = 1\n",
    "df"
   ]
  },
  {
   "cell_type": "markdown",
   "metadata": {},
   "source": [
    "b. Use las probabilidades marginales: calidad de la escuela, costo de la escuela y otras para comentar cuál es la principal razón por la que eligen una escuela."
   ]
  },
  {
   "cell_type": "code",
   "execution_count": 4,
   "metadata": {},
   "outputs": [
    {
     "name": "stdout",
     "output_type": "stream",
     "text": [
      "Calidad: 0.42560912389839295\n",
      "Costo: 0.5111456713322965\n",
      "Otras: 0.06324520476931052\n",
      "0.9999999999999999\n"
     ]
    }
   ],
   "source": [
    "total = 1929\n",
    "calidad = 821/total\n",
    "costo = 986/total\n",
    "otras = 122/total\n",
    "print(f'Calidad: {calidad}\\nCosto: {costo}\\nOtras: {otras}')\n",
    "print(calidad + costo + otras)"
   ]
  },
  {
   "cell_type": "markdown",
   "metadata": {},
   "source": [
    "El principal motivo por el que se eligen las escuelas, basándonos en probabilidades marginales, es el costo."
   ]
  },
  {
   "cell_type": "markdown",
   "metadata": {},
   "source": [
    "c. Si es un estudiante de tiempo completo, ¿cuál es la probabilidad de que la principal razón\n",
    "para su elección de la escuela haya sido la calidad de la escuela?"
   ]
  },
  {
   "cell_type": "markdown",
   "metadata": {},
   "source": [
    "Habla de tiempo completo, por lo que tenemos que calcular P(CA|TC). \n",
    "La fórmula es P(CAnTC) = P(TC) * P(CA|TC). Despejamos y queda P(CA|TC) = P(CAnTC)/P(TC)."
   ]
  },
  {
   "cell_type": "code",
   "execution_count": 16,
   "metadata": {},
   "outputs": [
    {
     "name": "stdout",
     "output_type": "stream",
     "text": [
      "La probabilidad es de 0.47303370786516846.\n"
     ]
    }
   ],
   "source": [
    "# P(CA|TC):\n",
    "x = a/(a+c+e)\n",
    "# a es P(TCnCA) y (a+c+e) es la probabilidad de tiempo completo.\n",
    "print(f'La probabilidad es de {x}.')\n",
    "\n"
   ]
  },
  {
   "cell_type": "markdown",
   "metadata": {},
   "source": [
    "d. Si es un estudiante de medio tiempo, ¿cuál es la probabilidad de que la principal razón para\n",
    "su elección de la escuela haya sido la calidad de la escuela?"
   ]
  },
  {
   "cell_type": "markdown",
   "metadata": {},
   "source": [
    "Similar al punto anterior, pero ahora tenemos que calcular P(CA|MT).La fórmula es  P(CAnMT) = P(MT) * P(CA|MT). Despejamos y queda P(CA|MT) = P(CAnMT)/P(MT)."
   ]
  },
  {
   "cell_type": "code",
   "execution_count": 17,
   "metadata": {},
   "outputs": [
    {
     "name": "stdout",
     "output_type": "stream",
     "text": [
      "La probabilidad es de 0.3849855630413859.\n"
     ]
    }
   ],
   "source": [
    "# P(CA|MT):\n",
    "x = b/(b+d+f)\n",
    "# b es P(MTnCA) y (b+d+f) es la probabilidad de medio tiempo.\n",
    "print(f'La probabilidad es de {x}.')"
   ]
  },
  {
   "cell_type": "markdown",
   "metadata": {},
   "source": [
    "e. Si A denota el evento es estudiante de tiempo completo y B denota el evento la calidad de\n",
    "la escuela fue la primera razón para su elección, ¿son independientes los eventos A y B? Justifique su respuesta."
   ]
  },
  {
   "cell_type": "markdown",
   "metadata": {},
   "source": [
    "Para comprobar si son independientes o no se debe verificar la siguiente ecuación: P(AnB) = PA * PB.\n",
    "En este caso sería P(TCnCA) = P(TC) * P(CA).\n"
   ]
  },
  {
   "cell_type": "code",
   "execution_count": 19,
   "metadata": {},
   "outputs": [
    {
     "name": "stdout",
     "output_type": "stream",
     "text": [
      "No son independientes.\n"
     ]
    }
   ],
   "source": [
    "# P(TCnCA) = a\n",
    "# P(TC) = a+c+e\n",
    "# P(CA) = a+b\n",
    "\n",
    "print('Son independientes.') if a == (a+c+e)*(a+b) else print('No son independientes.')"
   ]
  }
 ],
 "metadata": {
  "kernelspec": {
   "display_name": "Python 3",
   "language": "python",
   "name": "python3"
  },
  "language_info": {
   "codemirror_mode": {
    "name": "ipython",
    "version": 3
   },
   "file_extension": ".py",
   "mimetype": "text/x-python",
   "name": "python",
   "nbconvert_exporter": "python",
   "pygments_lexer": "ipython3",
   "version": "3.11.2"
  }
 },
 "nbformat": 4,
 "nbformat_minor": 2
}
