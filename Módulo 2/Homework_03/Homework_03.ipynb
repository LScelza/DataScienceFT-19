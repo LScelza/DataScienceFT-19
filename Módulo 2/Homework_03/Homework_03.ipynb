{
 "cells": [
  {
   "cell_type": "markdown",
   "metadata": {},
   "source": [
    "1. Suponga dos eventos, A y B, y que P(A) = 0.50, P(B) = 0.60 y P(A ∩ B) = 0.40.<br>\n",
    "- a. Halle P(A | B).\n",
    "- b. Halle P(B | A).\n",
    "- c. ¿A y B son independientes? ¿Por qué sí o por qué no?"
   ]
  },
  {
   "cell_type": "code",
   "execution_count": 4,
   "metadata": {},
   "outputs": [
    {
     "name": "stdout",
     "output_type": "stream",
     "text": [
      "P(A|B): 0.6666666666666667\n",
      "P(B|A): 0.8\n",
      "A y B no son eventos independientes.\n"
     ]
    }
   ],
   "source": [
    "\"\"\"\n",
    "P(AnB) = PB * P(A|B)\n",
    "P(AnB) = PA * P(B|A)\n",
    "\"\"\"\n",
    "\n",
    "# Para calcular P(A|B) simplemente despejamos de la primera fórmula:\n",
    "p_anb = 0.4\n",
    "pa = 0.5\n",
    "pb = 0.6\n",
    "p_a_dado_b = p_anb/pb\n",
    "\n",
    "# Para P(B|A) hacemos lo mismo con la segunda fórmula:\n",
    "p_b_dado_a = p_anb/pa\n",
    "\n",
    "print(f'P(A|B): {p_a_dado_b}\\nP(B|A): {p_b_dado_a}')\n",
    "\n",
    "# Para saber si son independientes, P(AnB) = PA * PB\n",
    "print('A y B son dos eventos independientes.') if p_anb == pa * pb else print('A y B no son eventos independientes.')\n"
   ]
  },
  {
   "cell_type": "markdown",
   "metadata": {},
   "source": [
    "2. Suponga dos eventos, A y B, que son mutuamente excluyentes. Admita, además, que P(A) = 0.30 y P(B) = 0.40.\n",
    "\n",
    "- a. Obtenga P(A ∩ B). ¿Existe intersección entre los dos conjuntos?.\n",
    "- b. Calcule P(A | B).\n",
    "- c. Un estudiante de estadística argumenta que los conceptos de eventos mutuamente excluyentes y eventos independientes son en realidad lo mismo y que si los eventos son mutuamente excluyentes deben ser también independientes. ¿Está usted de acuerdo? Use la información sobre las probabilidades para justificar su respuesta.\n"
   ]
  },
  {
   "cell_type": "markdown",
   "metadata": {},
   "source": [
    "a. P(AnB) = 0\n",
    "\n",
    "Al ser mutuamente excluyentes no hay intersección.\n",
    "\n",
    "b. P(A|B) = 0\n",
    "\n",
    "Si son mutuamente excluyentes no pueden darse los dos eventos, ya que uno excluye al otro. En este caso, si ya ocurrió B, la probabilidad de que ocurra A es 0.\n",
    "\n",
    "c. Si son mutuamente excluyentes no pueden ser independientes, ya que si ocurre un evento no puede ocurrir el otro. \n",
    "Matemáticamente:\n",
    "Si dos eventos son independientes, P(AnB) = PA * PB. En este caso, establecimos que P(AnB) es 0. Pero PA * PB no da cero (0.3 * 0.4). También establecimos que P(A|B) = 0, eso significa que no va a ocurrir A si ocurrió B.  "
   ]
  },
  {
   "cell_type": "markdown",
   "metadata": {},
   "source": [
    "Dada la siguiente tabla:\n",
    "\n",
    "![Sucesos](../_src/assets/sucesos.PNG)"
   ]
  },
  {
   "cell_type": "markdown",
   "metadata": {},
   "source": [
    "3. Si en la concesionaria se seleccionan dos ventas con reposición (Los sucesos son independientes.). Hallar la probabilidad de que las ventas sean:\n",
    " \n",
    "  - a. La primera de un comprador de “menos de 40 años” y la segunda de uno de \"entre 40 y 50 años\". \n",
    "  \n",
    "  - b. las dos sean de autos \"nacionales\"."
   ]
  },
  {
   "cell_type": "code",
   "execution_count": 7,
   "metadata": {},
   "outputs": [
    {
     "name": "stdout",
     "output_type": "stream",
     "text": [
      "a: 0.159375\n",
      "b: 0.390625\n"
     ]
    }
   ],
   "source": [
    "menos_40 = (24+6)/80\n",
    "entre_40_50 = (19+15)/80\n",
    "nacionales = 50/80\n",
    "a = menos_40 * entre_40_50 \n",
    "b = nacionales * nacionales\n",
    "print(f'a: {a}\\nb: {b}')"
   ]
  },
  {
   "cell_type": "markdown",
   "metadata": {},
   "source": [
    "4. Si la selección de las dos ventas se realiza sin reposición. Hallar la probabilidad de que las ventas sean:\n",
    "\n",
    "  Los sucesos son condicionales.\n",
    "\n",
    " - a. la primera de un comprador de “menos de 40 años” y la segunda de uno de \"entre 40 y 50 años\".\n",
    "\n",
    " - b. las dos sean de autos \"nacionales\"."
   ]
  },
  {
   "cell_type": "code",
   "execution_count": 9,
   "metadata": {},
   "outputs": [
    {
     "name": "stdout",
     "output_type": "stream",
     "text": [
      "a: 0.16139240506329114\n",
      "b: 0.3876582278481012\n"
     ]
    }
   ],
   "source": [
    "menos_40_2 = menos_40\n",
    "entre_40_50_2 = (19+15)/79\n",
    "a = menos_40_2 * entre_40_50_2\n",
    "nacionales_1 = nacionales\n",
    "nacionales_2 = 49/79\n",
    "b = nacionales_1 * nacionales_2\n",
    "print(f'a: {a}\\nb: {b}')"
   ]
  },
  {
   "cell_type": "markdown",
   "metadata": {},
   "source": [
    "5. Si la selección de las dos ventas se realiza sin reposición. Hallar la probabilidad de que las ventas sean:\n",
    "\n",
    "  Los sucesos son condicionales.\n",
    "  \n",
    " - a. De un comprador de “menos de 40 años” y de uno de \"entre 40 y 50 años\". Sin importar el orden."
   ]
  },
  {
   "cell_type": "code",
   "execution_count": 10,
   "metadata": {},
   "outputs": [
    {
     "name": "stdout",
     "output_type": "stream",
     "text": [
      "a: 0.3227848101265823\n"
     ]
    }
   ],
   "source": [
    "menos_40_compra1 = menos_40\n",
    "menos_40_compra2 = (24+6)/79\n",
    "entre_40_50_copmra1 = entre_40_50\n",
    "entre_40_50_compra2 = entre_40_50_2\n",
    "a = menos_40_compra1*entre_40_50_compra2 + entre_40_50_copmra1*menos_40_compra2\n",
    "print(f'a: {a}')\n"
   ]
  },
  {
   "cell_type": "markdown",
   "metadata": {},
   "source": [
    "6. Debido al aumento de los costos de los seguros, en un país 43 millones de personas, hay personas que no cuentan con un seguro médico. En la tabla siguiente se muestran datos muestrales representativos de la cantidad de personas que cuentan con seguro médico:\n",
    "\n",
    " ![Seguro](../_src/assets/seguro.PNG)"
   ]
  },
  {
   "cell_type": "markdown",
   "metadata": {},
   "source": [
    "a. Con estos datos elabore una tabla de probabilidad conjunta y úsela para responder las preguntas restantes."
   ]
  },
  {
   "cell_type": "code",
   "execution_count": 12,
   "metadata": {},
   "outputs": [
    {
     "name": "stdout",
     "output_type": "stream",
     "text": [
      "Total: 2000.\n",
      "Entre 18 y 34 la probabilidad de que tengan seguro médico es de 0.375.\n",
      "Para 35 o más, la probabilidad de que tengan seguro médico es de 0.475.\n"
     ]
    }
   ],
   "source": [
    "total = 750 + 170 + 950 + 130\n",
    "p_18_34 = 750/total\n",
    "p_35_mas = 950/total\n",
    "print(f'Total: {total}.')\n",
    "print(f'Entre 18 y 34 la probabilidad de que tengan seguro médico es de {p_18_34}.')\n",
    "print(f'Para 35 o más, la probabilidad de que tengan seguro médico es de {p_35_mas}.')"
   ]
  },
  {
   "cell_type": "markdown",
   "metadata": {},
   "source": [
    "b. ¿Qué indican las probabilidades marginales acerca de la edad de la población?"
   ]
  },
  {
   "cell_type": "markdown",
   "metadata": {},
   "source": [
    "b. Indican que es más probable que tengan seguro médico las personas de 35 años o más (con respecto al grupo de 18-34). Aunque esto puede no ser real, ya que las probabilidades marginales las calculamos sin tener en cuenta ningún contexto. En este ejemplo, hay una diferencia considerable en las muestras."
   ]
  },
  {
   "cell_type": "markdown",
   "metadata": {},
   "source": [
    "c. ¿Cuál es la probabilidad de que una persona tomada en forma aleatoria no tenga seguro médico?"
   ]
  },
  {
   "cell_type": "code",
   "execution_count": 16,
   "metadata": {},
   "outputs": [
    {
     "name": "stdout",
     "output_type": "stream",
     "text": [
      "La probabilidad es de 0.15.\n"
     ]
    }
   ],
   "source": [
    "total_con_seguro = 750 + 950\n",
    "total_sin_seguro = total - total_con_seguro \n",
    "p_1_sin_seguro = total_sin_seguro/total\n",
    "print(f'La probabilidad es de {p_1_sin_seguro}.')\n"
   ]
  },
  {
   "cell_type": "markdown",
   "metadata": {},
   "source": [
    "d. Si la persona tiene entre 18 y 34 años, ¿cuál es la probabilidad de que no tenga seguro médico?"
   ]
  },
  {
   "cell_type": "code",
   "execution_count": 22,
   "metadata": {},
   "outputs": [
    {
     "name": "stdout",
     "output_type": "stream",
     "text": [
      "La probabilidad es de 0.18478260869565216.\n"
     ]
    }
   ],
   "source": [
    "total_18_34 = 750 + 170\n",
    "sin_seguro_18_34 = 170\n",
    "p_sin_seguro_18_34 = sin_seguro_18_34/total_18_34\n",
    "print(f'La probabilidad es de {p_sin_seguro_18_34}.')"
   ]
  },
  {
   "cell_type": "markdown",
   "metadata": {},
   "source": [
    "e. Si la persona tiene 35 años o más ¿cuál es la probabilidad de que no tenga seguro médico?"
   ]
  },
  {
   "cell_type": "code",
   "execution_count": 23,
   "metadata": {},
   "outputs": [
    {
     "name": "stdout",
     "output_type": "stream",
     "text": [
      "La probabilidad es de 0.12037037037037036.\n"
     ]
    }
   ],
   "source": [
    "total_35_mas = 950 + 130\n",
    "sin_seguro_35_mas = 130\n",
    "p_sin_seguro_35_mas = sin_seguro_35_mas/total_35_mas\n",
    "print(f'La probabilidad es de {p_sin_seguro_35_mas}.')"
   ]
  },
  {
   "cell_type": "markdown",
   "metadata": {},
   "source": [
    "f. Si la persona no tiene seguro médico, ¿cuál es la probabilidad de que tenga entre 18 y 34 años?"
   ]
  },
  {
   "cell_type": "code",
   "execution_count": 25,
   "metadata": {},
   "outputs": [
    {
     "name": "stdout",
     "output_type": "stream",
     "text": [
      "La probabilidad es de 0.5666666666666667.\n"
     ]
    }
   ],
   "source": [
    "f = sin_seguro_18_34/total_sin_seguro\n",
    "print(f'La probabilidad es de {f}.')"
   ]
  }
 ],
 "metadata": {
  "kernelspec": {
   "display_name": "Python 3",
   "language": "python",
   "name": "python3"
  },
  "language_info": {
   "codemirror_mode": {
    "name": "ipython",
    "version": 3
   },
   "file_extension": ".py",
   "mimetype": "text/x-python",
   "name": "python",
   "nbconvert_exporter": "python",
   "pygments_lexer": "ipython3",
   "version": "3.11.2"
  }
 },
 "nbformat": 4,
 "nbformat_minor": 2
}
