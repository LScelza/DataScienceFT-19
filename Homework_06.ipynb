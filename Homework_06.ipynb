{
 "cells": [
  {
   "cell_type": "markdown",
   "metadata": {},
   "source": [
    "# Práctica Clase 6"
   ]
  },
  {
   "cell_type": "markdown",
   "metadata": {},
   "source": [
    "1) Cargar el dataset \"Emisiones_CO2.csv\" provisto en la clase 2 en un Dataframe de Pandas, quitar los registros que contengan valores faltantes e implementar una nueva columna, que contenga el resultado de una función Hash aplicada sobre el campo \"Código de País\" y se denomine \"Clave_Hash\".<br>\n",
    "Consideraciones: Se puede utilizar la función provista.\n"
   ]
  },
  {
   "cell_type": "code",
   "execution_count": 3,
   "metadata": {},
   "outputs": [],
   "source": [
    "def hash_function(key):\n",
    "    return sum(index * ord(character) for index, character in enumerate(repr(key), start=1))"
   ]
  },
  {
   "cell_type": "markdown",
   "metadata": {},
   "source": [
    "Voy a empezar entendiendo qué hace la función hash_function. Lo primero que puedo notar es que repr() es la representtación de un objeto y la representación de key va a incluir las comillas. Ejemplo: len(repr('pato')) va a ser 6, mientras que len(str('pato')) va a ser 4."
   ]
  },
  {
   "cell_type": "code",
   "execution_count": 4,
   "metadata": {},
   "outputs": [
    {
     "data": {
      "text/plain": [
       "4"
      ]
     },
     "execution_count": 4,
     "metadata": {},
     "output_type": "execute_result"
    }
   ],
   "source": [
    "len(str('pato'))"
   ]
  },
  {
   "cell_type": "code",
   "execution_count": 5,
   "metadata": {},
   "outputs": [
    {
     "data": {
      "text/plain": [
       "6"
      ]
     },
     "execution_count": 5,
     "metadata": {},
     "output_type": "execute_result"
    }
   ],
   "source": [
    "len(repr('pato'))"
   ]
  },
  {
   "cell_type": "markdown",
   "metadata": {},
   "source": [
    "(index * ord(character) for index, character in enumerate(repr(key), start=1)) es un generador. Lo probamos de la siguiente manera:\n"
   ]
  },
  {
   "cell_type": "code",
   "execution_count": 6,
   "metadata": {},
   "outputs": [
    {
     "name": "stdout",
     "output_type": "stream",
     "text": [
      "<generator object <genexpr> at 0x000001ADAB0366B0>\n"
     ]
    }
   ],
   "source": [
    "print((index * ord(character) for index, character in enumerate(repr('a'), start=1)))"
   ]
  },
  {
   "cell_type": "markdown",
   "metadata": {},
   "source": [
    "Vamos a pensar qué genera este generador:\n",
    "Es una tuple comprehension que multiplica el índice por el valor numérico del caracter en cada iteración, empezando por 1. Vamos a ver ejemplos de valores numéricos y de cómo se implementa la función."
   ]
  },
  {
   "cell_type": "code",
   "execution_count": 7,
   "metadata": {},
   "outputs": [
    {
     "data": {
      "text/plain": [
       "\"'a'\""
      ]
     },
     "execution_count": 7,
     "metadata": {},
     "output_type": "execute_result"
    }
   ],
   "source": [
    "repr('a')"
   ]
  },
  {
   "cell_type": "markdown",
   "metadata": {},
   "source": [
    "Vemos que la representación de 'a' consta de 3 caracteres (', a y ')."
   ]
  },
  {
   "cell_type": "code",
   "execution_count": 8,
   "metadata": {},
   "outputs": [
    {
     "data": {
      "text/plain": [
       "39"
      ]
     },
     "execution_count": 8,
     "metadata": {},
     "output_type": "execute_result"
    }
   ],
   "source": [
    "ord(\"'\") # Está dos veces, en la primera y en la tercera posición."
   ]
  },
  {
   "cell_type": "code",
   "execution_count": 9,
   "metadata": {},
   "outputs": [
    {
     "data": {
      "text/plain": [
       "97"
      ]
     },
     "execution_count": 9,
     "metadata": {},
     "output_type": "execute_result"
    }
   ],
   "source": [
    "ord('a')"
   ]
  },
  {
   "cell_type": "markdown",
   "metadata": {},
   "source": [
    "Sabemos que enumerate nos va a dar un índice y un valor. En este caso, el índice con el que empezamos no va a ser 0, va a ser 1 (start=1). Por lo tanto, para cada caracter nos va a dar la multiplicación entre el índice y el valor numérico del caracter. En el caso de 'a':\n",
    "\n",
    "': índice = 1; ord = 39 ==> 1 * 39 = 39\n",
    "a: índice = 2; ord = 97 ==> 2 * 97 = 194\n",
    "': índice = 3; ord = 39 ==> 3 * 39 = 117"
   ]
  },
  {
   "cell_type": "markdown",
   "metadata": {},
   "source": [
    "Para ver el contenido del generador y comprobar si funciona así, lo podemos guardar, por ejemplo, en una tupla:"
   ]
  },
  {
   "cell_type": "code",
   "execution_count": 10,
   "metadata": {},
   "outputs": [
    {
     "name": "stdout",
     "output_type": "stream",
     "text": [
      "(39, 194, 117)\n"
     ]
    }
   ],
   "source": [
    "a = tuple((index * ord(character) for index, character in enumerate(repr('a'), start=1)))\n",
    "print(a)\n"
   ]
  },
  {
   "cell_type": "markdown",
   "metadata": {},
   "source": [
    "Efectivamente, funciona así. Solo falta sum(), que suma todos los valores de la tupla. En el caso de 'a' debería devolver 350.\n",
    "Probemos la función con 'a':"
   ]
  },
  {
   "cell_type": "code",
   "execution_count": 11,
   "metadata": {},
   "outputs": [
    {
     "data": {
      "text/plain": [
       "350"
      ]
     },
     "execution_count": 11,
     "metadata": {},
     "output_type": "execute_result"
    }
   ],
   "source": [
    "hash_function('a')\n"
   ]
  },
  {
   "cell_type": "markdown",
   "metadata": {},
   "source": [
    "Ahora, antes de probar la función, hagamos los cálculos para 'pato' y 'tapo', para comprobar si estamos en lo correcto:"
   ]
  },
  {
   "cell_type": "code",
   "execution_count": 12,
   "metadata": {},
   "outputs": [
    {
     "name": "stdout",
     "output_type": "stream",
     "text": [
      "'pato'\n",
      "39\n",
      "112\n",
      "97\n",
      "116\n",
      "111\n",
      "39\n"
     ]
    }
   ],
   "source": [
    "print(repr('pato'))\n",
    "print(ord(\"'\"))\n",
    "print(ord('p'))\n",
    "print(ord('a'))\n",
    "print(ord('t'))\n",
    "print(ord('o'))\n",
    "print(ord(\"'\"))\n",
    "\n"
   ]
  },
  {
   "cell_type": "markdown",
   "metadata": {},
   "source": [
    "Siguiendo el mismo procedimiento que antes:\n",
    "1 * 39 ==> 39;\n",
    "2 * 112 ==> 224;\n",
    "3 * 97 ==> 291;\n",
    "4 * 116 ==> 464;\n",
    "5 * 111 ==> 555;\n",
    "6 * 39 ==> 234;"
   ]
  },
  {
   "cell_type": "code",
   "execution_count": 13,
   "metadata": {},
   "outputs": [
    {
     "data": {
      "text/plain": [
       "1807"
      ]
     },
     "execution_count": 13,
     "metadata": {},
     "output_type": "execute_result"
    }
   ],
   "source": [
    "a= (39, 224, 291, 464, 555, 234)\n",
    "sum(a)"
   ]
  },
  {
   "cell_type": "markdown",
   "metadata": {},
   "source": [
    "Y ahora usamos la función:\n"
   ]
  },
  {
   "cell_type": "code",
   "execution_count": 14,
   "metadata": {},
   "outputs": [
    {
     "data": {
      "text/plain": [
       "1807"
      ]
     },
     "execution_count": 14,
     "metadata": {},
     "output_type": "execute_result"
    }
   ],
   "source": [
    "hash_function('pato')"
   ]
  },
  {
   "cell_type": "markdown",
   "metadata": {},
   "source": [
    "Comprobemos el último ejemplo:\n"
   ]
  },
  {
   "cell_type": "code",
   "execution_count": 15,
   "metadata": {},
   "outputs": [
    {
     "name": "stdout",
     "output_type": "stream",
     "text": [
      "'tapo'\n",
      "39\n",
      "116\n",
      "97\n",
      "112\n",
      "111\n",
      "39\n"
     ]
    }
   ],
   "source": [
    "print(repr('tapo'))\n",
    "print(ord(\"'\"))\n",
    "print(ord('t'))\n",
    "print(ord('a'))\n",
    "print(ord('p'))\n",
    "print(ord('o'))\n",
    "print(ord(\"'\"))"
   ]
  },
  {
   "cell_type": "markdown",
   "metadata": {},
   "source": [
    "1 * 39 ==> 39;\n",
    "2 * 116 ==> 232;\n",
    "3 * 97 ==> 291;\n",
    "4 * 112 ==> 448;\n",
    "5 * 111 ==> 555;\n",
    "6 * 39 ==> 234;"
   ]
  },
  {
   "cell_type": "code",
   "execution_count": 16,
   "metadata": {},
   "outputs": [
    {
     "data": {
      "text/plain": [
       "1799"
      ]
     },
     "execution_count": 16,
     "metadata": {},
     "output_type": "execute_result"
    }
   ],
   "source": [
    "a = (39, 232, 291, 448, 555, 234)\n",
    "sum(a)"
   ]
  },
  {
   "cell_type": "code",
   "execution_count": 17,
   "metadata": {},
   "outputs": [
    {
     "name": "stdout",
     "output_type": "stream",
     "text": [
      "1799\n"
     ]
    }
   ],
   "source": [
    "print(hash_function('tapo'))"
   ]
  },
  {
   "cell_type": "code",
   "execution_count": 18,
   "metadata": {},
   "outputs": [
    {
     "name": "stdout",
     "output_type": "stream",
     "text": [
      "1807\n",
      "1799\n"
     ]
    }
   ],
   "source": [
    "print(hash_function('pato'))\n",
    "print(hash_function('tapo'))"
   ]
  },
  {
   "cell_type": "markdown",
   "metadata": {},
   "source": [
    "En el homework resuelto hay una explicación errónea, si empezamos por 0 no da todo 0, solo el primer valor. Y, como despues vamos sumando los otros (que no tienen índice 0 y van a devolver el resultado de una multiplicación), el resultado final no va a ser 0. Lo muestro en código:"
   ]
  },
  {
   "cell_type": "code",
   "execution_count": 19,
   "metadata": {},
   "outputs": [
    {
     "name": "stdout",
     "output_type": "stream",
     "text": [
      "1293\n",
      "1285\n"
     ]
    }
   ],
   "source": [
    "def hash_function_1(key):\n",
    "    return sum(index * ord(character) for index, character in enumerate(repr(key)))\n",
    "\n",
    "print(hash_function_1('pato'))\n",
    "print(hash_function_1('tapo'))"
   ]
  },
  {
   "cell_type": "code",
   "execution_count": 9,
   "metadata": {},
   "outputs": [],
   "source": [
    "import pandas as pd"
   ]
  },
  {
   "cell_type": "markdown",
   "metadata": {},
   "source": [
    "Primero, creamos el df:"
   ]
  },
  {
   "cell_type": "code",
   "execution_count": 21,
   "metadata": {},
   "outputs": [],
   "source": [
    "df = pd.read_csv('Emisiones_CO2.csv',sep='|',decimal=',', encoding='latin-1')"
   ]
  },
  {
   "cell_type": "markdown",
   "metadata": {},
   "source": [
    "Borramos los registros que contengan valores faltantes y guardamos el df:"
   ]
  },
  {
   "cell_type": "code",
   "execution_count": 22,
   "metadata": {},
   "outputs": [],
   "source": [
    "df.dropna(inplace=True)"
   ]
  },
  {
   "cell_type": "markdown",
   "metadata": {},
   "source": [
    "Creamos la nueva columna:"
   ]
  },
  {
   "cell_type": "code",
   "execution_count": 23,
   "metadata": {},
   "outputs": [],
   "source": [
    "df['Clave_Hash'] = 0"
   ]
  },
  {
   "cell_type": "markdown",
   "metadata": {},
   "source": [
    "Reemplazamos los valores por el resultado de aplicar la función hash_function al campo 'Código de país':"
   ]
  },
  {
   "cell_type": "code",
   "execution_count": 24,
   "metadata": {},
   "outputs": [],
   "source": [
    "df['Clave_Hash'] = df['Código de país'].apply(hash_function)"
   ]
  },
  {
   "cell_type": "code",
   "execution_count": 25,
   "metadata": {},
   "outputs": [
    {
     "data": {
      "text/html": [
       "<div>\n",
       "<style scoped>\n",
       "    .dataframe tbody tr th:only-of-type {\n",
       "        vertical-align: middle;\n",
       "    }\n",
       "\n",
       "    .dataframe tbody tr th {\n",
       "        vertical-align: top;\n",
       "    }\n",
       "\n",
       "    .dataframe thead th {\n",
       "        text-align: right;\n",
       "    }\n",
       "</style>\n",
       "<table border=\"1\" class=\"dataframe\">\n",
       "  <thead>\n",
       "    <tr style=\"text-align: right;\">\n",
       "      <th></th>\n",
       "      <th>Código de país</th>\n",
       "      <th>Nombre del país</th>\n",
       "      <th>Región</th>\n",
       "      <th>Año</th>\n",
       "      <th>CO2 (kt)</th>\n",
       "      <th>CO2 per cápita (toneladas métricas)</th>\n",
       "      <th>Clave_Hash</th>\n",
       "    </tr>\n",
       "  </thead>\n",
       "  <tbody>\n",
       "    <tr>\n",
       "      <th>26</th>\n",
       "      <td>ABW</td>\n",
       "      <td>Aruba</td>\n",
       "      <td>América Latina y Caribe</td>\n",
       "      <td>1986</td>\n",
       "      <td>179,683</td>\n",
       "      <td>2.868319</td>\n",
       "      <td>910</td>\n",
       "    </tr>\n",
       "    <tr>\n",
       "      <th>27</th>\n",
       "      <td>ABW</td>\n",
       "      <td>Aruba</td>\n",
       "      <td>América Latina y Caribe</td>\n",
       "      <td>1987</td>\n",
       "      <td>447,374</td>\n",
       "      <td>7.234964</td>\n",
       "      <td>910</td>\n",
       "    </tr>\n",
       "    <tr>\n",
       "      <th>28</th>\n",
       "      <td>ABW</td>\n",
       "      <td>Aruba</td>\n",
       "      <td>América Latina y Caribe</td>\n",
       "      <td>1988</td>\n",
       "      <td>612,389</td>\n",
       "      <td>10.026508</td>\n",
       "      <td>910</td>\n",
       "    </tr>\n",
       "    <tr>\n",
       "      <th>29</th>\n",
       "      <td>ABW</td>\n",
       "      <td>Aruba</td>\n",
       "      <td>América Latina y Caribe</td>\n",
       "      <td>1989</td>\n",
       "      <td>649,059</td>\n",
       "      <td>10.634733</td>\n",
       "      <td>910</td>\n",
       "    </tr>\n",
       "    <tr>\n",
       "      <th>30</th>\n",
       "      <td>ABW</td>\n",
       "      <td>Aruba</td>\n",
       "      <td>América Latina y Caribe</td>\n",
       "      <td>1990</td>\n",
       "      <td>1.840,83</td>\n",
       "      <td>29.620165</td>\n",
       "      <td>910</td>\n",
       "    </tr>\n",
       "    <tr>\n",
       "      <th>...</th>\n",
       "      <td>...</td>\n",
       "      <td>...</td>\n",
       "      <td>...</td>\n",
       "      <td>...</td>\n",
       "      <td>...</td>\n",
       "      <td>...</td>\n",
       "      <td>...</td>\n",
       "    </tr>\n",
       "    <tr>\n",
       "      <th>11122</th>\n",
       "      <td>ZWE</td>\n",
       "      <td>Zimbabue</td>\n",
       "      <td>África subsahariana</td>\n",
       "      <td>2007</td>\n",
       "      <td>9.732,22</td>\n",
       "      <td>0.731867</td>\n",
       "      <td>951</td>\n",
       "    </tr>\n",
       "    <tr>\n",
       "      <th>11123</th>\n",
       "      <td>ZWE</td>\n",
       "      <td>Zimbabue</td>\n",
       "      <td>África subsahariana</td>\n",
       "      <td>2008</td>\n",
       "      <td>7.682,37</td>\n",
       "      <td>0.569255</td>\n",
       "      <td>951</td>\n",
       "    </tr>\n",
       "    <tr>\n",
       "      <th>11124</th>\n",
       "      <td>ZWE</td>\n",
       "      <td>Zimbabue</td>\n",
       "      <td>África subsahariana</td>\n",
       "      <td>2009</td>\n",
       "      <td>8.239,75</td>\n",
       "      <td>0.600521</td>\n",
       "      <td>951</td>\n",
       "    </tr>\n",
       "    <tr>\n",
       "      <th>11125</th>\n",
       "      <td>ZWE</td>\n",
       "      <td>Zimbabue</td>\n",
       "      <td>África subsahariana</td>\n",
       "      <td>2010</td>\n",
       "      <td>9.028,15</td>\n",
       "      <td>0.646073</td>\n",
       "      <td>951</td>\n",
       "    </tr>\n",
       "    <tr>\n",
       "      <th>11126</th>\n",
       "      <td>ZWE</td>\n",
       "      <td>Zimbabue</td>\n",
       "      <td>África subsahariana</td>\n",
       "      <td>2011</td>\n",
       "      <td>9.860,56</td>\n",
       "      <td>0.691698</td>\n",
       "      <td>951</td>\n",
       "    </tr>\n",
       "  </tbody>\n",
       "</table>\n",
       "<p>9029 rows × 7 columns</p>\n",
       "</div>"
      ],
      "text/plain": [
       "      Código de país Nombre del país                   Región   Año  CO2 (kt)  \\\n",
       "26               ABW           Aruba  América Latina y Caribe  1986   179,683   \n",
       "27               ABW           Aruba  América Latina y Caribe  1987   447,374   \n",
       "28               ABW           Aruba  América Latina y Caribe  1988   612,389   \n",
       "29               ABW           Aruba  América Latina y Caribe  1989   649,059   \n",
       "30               ABW           Aruba  América Latina y Caribe  1990  1.840,83   \n",
       "...              ...             ...                      ...   ...       ...   \n",
       "11122            ZWE        Zimbabue      África subsahariana  2007  9.732,22   \n",
       "11123            ZWE        Zimbabue      África subsahariana  2008  7.682,37   \n",
       "11124            ZWE        Zimbabue      África subsahariana  2009  8.239,75   \n",
       "11125            ZWE        Zimbabue      África subsahariana  2010  9.028,15   \n",
       "11126            ZWE        Zimbabue      África subsahariana  2011  9.860,56   \n",
       "\n",
       "       CO2 per cápita (toneladas métricas)  Clave_Hash  \n",
       "26                                2.868319         910  \n",
       "27                                7.234964         910  \n",
       "28                               10.026508         910  \n",
       "29                               10.634733         910  \n",
       "30                               29.620165         910  \n",
       "...                                    ...         ...  \n",
       "11122                             0.731867         951  \n",
       "11123                             0.569255         951  \n",
       "11124                             0.600521         951  \n",
       "11125                             0.646073         951  \n",
       "11126                             0.691698         951  \n",
       "\n",
       "[9029 rows x 7 columns]"
      ]
     },
     "execution_count": 25,
     "metadata": {},
     "output_type": "execute_result"
    }
   ],
   "source": [
    "df"
   ]
  },
  {
   "cell_type": "markdown",
   "metadata": {},
   "source": [
    "Es posible que se repitan valores de has, debido a la suma de la combinacion de índices y valores en distintas posiciones. Pero el ejercicio no habla de esto."
   ]
  },
  {
   "cell_type": "markdown",
   "metadata": {},
   "source": [
    "Voy a hacer lo mismo, pero con otra función hash, para que no de valores repetidos."
   ]
  },
  {
   "cell_type": "code",
   "execution_count": 7,
   "metadata": {},
   "outputs": [
    {
     "name": "stdout",
     "output_type": "stream",
     "text": [
      "4483884644440x700x610x740x6f\n",
      "3203884644440x500x610x740x6f\n",
      "3880x61\n"
     ]
    }
   ],
   "source": [
    "def mi_hash_function(key):\n",
    "    hash = ''\n",
    "    key = str(key)\n",
    "    for letra in key:\n",
    "        hash += str(ord(letra) + ord(letra) * 3)\n",
    "    for letra in key:\n",
    "        hash += str(hex(ord(letra)))\n",
    "    return hash\n",
    "\n",
    "print(mi_hash_function('pato'))\n",
    "print(mi_hash_function('Pato'))\n",
    "print(mi_hash_function('a'))\n",
    "        \n"
   ]
  },
  {
   "cell_type": "code",
   "execution_count": 16,
   "metadata": {},
   "outputs": [],
   "source": [
    "df = pd.read_csv('Emisiones_CO2.csv',sep='|',decimal=',', encoding='latin-1')"
   ]
  },
  {
   "cell_type": "code",
   "execution_count": 17,
   "metadata": {},
   "outputs": [],
   "source": [
    "df.dropna(inplace=True)"
   ]
  },
  {
   "cell_type": "code",
   "execution_count": 18,
   "metadata": {},
   "outputs": [],
   "source": [
    "df['Clave_Hash'] = df['Código de país'].apply(mi_hash_function)"
   ]
  },
  {
   "cell_type": "code",
   "execution_count": 19,
   "metadata": {},
   "outputs": [
    {
     "data": {
      "text/html": [
       "<div>\n",
       "<style scoped>\n",
       "    .dataframe tbody tr th:only-of-type {\n",
       "        vertical-align: middle;\n",
       "    }\n",
       "\n",
       "    .dataframe tbody tr th {\n",
       "        vertical-align: top;\n",
       "    }\n",
       "\n",
       "    .dataframe thead th {\n",
       "        text-align: right;\n",
       "    }\n",
       "</style>\n",
       "<table border=\"1\" class=\"dataframe\">\n",
       "  <thead>\n",
       "    <tr style=\"text-align: right;\">\n",
       "      <th></th>\n",
       "      <th>Código de país</th>\n",
       "      <th>Nombre del país</th>\n",
       "      <th>Región</th>\n",
       "      <th>Año</th>\n",
       "      <th>CO2 (kt)</th>\n",
       "      <th>CO2 per cápita (toneladas métricas)</th>\n",
       "      <th>Clave_Hash</th>\n",
       "    </tr>\n",
       "  </thead>\n",
       "  <tbody>\n",
       "    <tr>\n",
       "      <th>26</th>\n",
       "      <td>ABW</td>\n",
       "      <td>Aruba</td>\n",
       "      <td>América Latina y Caribe</td>\n",
       "      <td>1986</td>\n",
       "      <td>179,683</td>\n",
       "      <td>2.868319</td>\n",
       "      <td>2602643480x410x420x57</td>\n",
       "    </tr>\n",
       "    <tr>\n",
       "      <th>27</th>\n",
       "      <td>ABW</td>\n",
       "      <td>Aruba</td>\n",
       "      <td>América Latina y Caribe</td>\n",
       "      <td>1987</td>\n",
       "      <td>447,374</td>\n",
       "      <td>7.234964</td>\n",
       "      <td>2602643480x410x420x57</td>\n",
       "    </tr>\n",
       "    <tr>\n",
       "      <th>28</th>\n",
       "      <td>ABW</td>\n",
       "      <td>Aruba</td>\n",
       "      <td>América Latina y Caribe</td>\n",
       "      <td>1988</td>\n",
       "      <td>612,389</td>\n",
       "      <td>10.026508</td>\n",
       "      <td>2602643480x410x420x57</td>\n",
       "    </tr>\n",
       "    <tr>\n",
       "      <th>29</th>\n",
       "      <td>ABW</td>\n",
       "      <td>Aruba</td>\n",
       "      <td>América Latina y Caribe</td>\n",
       "      <td>1989</td>\n",
       "      <td>649,059</td>\n",
       "      <td>10.634733</td>\n",
       "      <td>2602643480x410x420x57</td>\n",
       "    </tr>\n",
       "    <tr>\n",
       "      <th>30</th>\n",
       "      <td>ABW</td>\n",
       "      <td>Aruba</td>\n",
       "      <td>América Latina y Caribe</td>\n",
       "      <td>1990</td>\n",
       "      <td>1.840,83</td>\n",
       "      <td>29.620165</td>\n",
       "      <td>2602643480x410x420x57</td>\n",
       "    </tr>\n",
       "    <tr>\n",
       "      <th>...</th>\n",
       "      <td>...</td>\n",
       "      <td>...</td>\n",
       "      <td>...</td>\n",
       "      <td>...</td>\n",
       "      <td>...</td>\n",
       "      <td>...</td>\n",
       "      <td>...</td>\n",
       "    </tr>\n",
       "    <tr>\n",
       "      <th>11122</th>\n",
       "      <td>ZWE</td>\n",
       "      <td>Zimbabue</td>\n",
       "      <td>África subsahariana</td>\n",
       "      <td>2007</td>\n",
       "      <td>9.732,22</td>\n",
       "      <td>0.731867</td>\n",
       "      <td>3603482760x5a0x570x45</td>\n",
       "    </tr>\n",
       "    <tr>\n",
       "      <th>11123</th>\n",
       "      <td>ZWE</td>\n",
       "      <td>Zimbabue</td>\n",
       "      <td>África subsahariana</td>\n",
       "      <td>2008</td>\n",
       "      <td>7.682,37</td>\n",
       "      <td>0.569255</td>\n",
       "      <td>3603482760x5a0x570x45</td>\n",
       "    </tr>\n",
       "    <tr>\n",
       "      <th>11124</th>\n",
       "      <td>ZWE</td>\n",
       "      <td>Zimbabue</td>\n",
       "      <td>África subsahariana</td>\n",
       "      <td>2009</td>\n",
       "      <td>8.239,75</td>\n",
       "      <td>0.600521</td>\n",
       "      <td>3603482760x5a0x570x45</td>\n",
       "    </tr>\n",
       "    <tr>\n",
       "      <th>11125</th>\n",
       "      <td>ZWE</td>\n",
       "      <td>Zimbabue</td>\n",
       "      <td>África subsahariana</td>\n",
       "      <td>2010</td>\n",
       "      <td>9.028,15</td>\n",
       "      <td>0.646073</td>\n",
       "      <td>3603482760x5a0x570x45</td>\n",
       "    </tr>\n",
       "    <tr>\n",
       "      <th>11126</th>\n",
       "      <td>ZWE</td>\n",
       "      <td>Zimbabue</td>\n",
       "      <td>África subsahariana</td>\n",
       "      <td>2011</td>\n",
       "      <td>9.860,56</td>\n",
       "      <td>0.691698</td>\n",
       "      <td>3603482760x5a0x570x45</td>\n",
       "    </tr>\n",
       "  </tbody>\n",
       "</table>\n",
       "<p>9029 rows × 7 columns</p>\n",
       "</div>"
      ],
      "text/plain": [
       "      Código de país Nombre del país                   Región   Año  CO2 (kt)  \\\n",
       "26               ABW           Aruba  América Latina y Caribe  1986   179,683   \n",
       "27               ABW           Aruba  América Latina y Caribe  1987   447,374   \n",
       "28               ABW           Aruba  América Latina y Caribe  1988   612,389   \n",
       "29               ABW           Aruba  América Latina y Caribe  1989   649,059   \n",
       "30               ABW           Aruba  América Latina y Caribe  1990  1.840,83   \n",
       "...              ...             ...                      ...   ...       ...   \n",
       "11122            ZWE        Zimbabue      África subsahariana  2007  9.732,22   \n",
       "11123            ZWE        Zimbabue      África subsahariana  2008  7.682,37   \n",
       "11124            ZWE        Zimbabue      África subsahariana  2009  8.239,75   \n",
       "11125            ZWE        Zimbabue      África subsahariana  2010  9.028,15   \n",
       "11126            ZWE        Zimbabue      África subsahariana  2011  9.860,56   \n",
       "\n",
       "       CO2 per cápita (toneladas métricas)             Clave_Hash  \n",
       "26                                2.868319  2602643480x410x420x57  \n",
       "27                                7.234964  2602643480x410x420x57  \n",
       "28                               10.026508  2602643480x410x420x57  \n",
       "29                               10.634733  2602643480x410x420x57  \n",
       "30                               29.620165  2602643480x410x420x57  \n",
       "...                                    ...                    ...  \n",
       "11122                             0.731867  3603482760x5a0x570x45  \n",
       "11123                             0.569255  3603482760x5a0x570x45  \n",
       "11124                             0.600521  3603482760x5a0x570x45  \n",
       "11125                             0.646073  3603482760x5a0x570x45  \n",
       "11126                             0.691698  3603482760x5a0x570x45  \n",
       "\n",
       "[9029 rows x 7 columns]"
      ]
     },
     "execution_count": 19,
     "metadata": {},
     "output_type": "execute_result"
    }
   ],
   "source": [
    "df"
   ]
  },
  {
   "cell_type": "markdown",
   "metadata": {},
   "source": [
    "2. A partir del Dataframe creado en el punto 1, construir uno nuevo, que contenga solo los valores distintos de la tupla \"Clave_Hash\", \"Código de País\" , \"Nombre de país\" y \"Región\". Quitando luego del dataframe original los campos \"Código de País\" , \"Nombre de país\" y \"Región\""
   ]
  },
  {
   "cell_type": "markdown",
   "metadata": {},
   "source": [
    "Creamos el nuevo df."
   ]
  },
  {
   "cell_type": "code",
   "execution_count": 20,
   "metadata": {},
   "outputs": [],
   "source": [
    "df_nuevo = df.copy()"
   ]
  },
  {
   "cell_type": "code",
   "execution_count": 21,
   "metadata": {},
   "outputs": [
    {
     "data": {
      "text/html": [
       "<div>\n",
       "<style scoped>\n",
       "    .dataframe tbody tr th:only-of-type {\n",
       "        vertical-align: middle;\n",
       "    }\n",
       "\n",
       "    .dataframe tbody tr th {\n",
       "        vertical-align: top;\n",
       "    }\n",
       "\n",
       "    .dataframe thead th {\n",
       "        text-align: right;\n",
       "    }\n",
       "</style>\n",
       "<table border=\"1\" class=\"dataframe\">\n",
       "  <thead>\n",
       "    <tr style=\"text-align: right;\">\n",
       "      <th></th>\n",
       "      <th>Código de país</th>\n",
       "      <th>Nombre del país</th>\n",
       "      <th>Región</th>\n",
       "      <th>Año</th>\n",
       "      <th>CO2 (kt)</th>\n",
       "      <th>CO2 per cápita (toneladas métricas)</th>\n",
       "      <th>Clave_Hash</th>\n",
       "    </tr>\n",
       "  </thead>\n",
       "  <tbody>\n",
       "    <tr>\n",
       "      <th>26</th>\n",
       "      <td>ABW</td>\n",
       "      <td>Aruba</td>\n",
       "      <td>América Latina y Caribe</td>\n",
       "      <td>1986</td>\n",
       "      <td>179,683</td>\n",
       "      <td>2.868319</td>\n",
       "      <td>2602643480x410x420x57</td>\n",
       "    </tr>\n",
       "    <tr>\n",
       "      <th>27</th>\n",
       "      <td>ABW</td>\n",
       "      <td>Aruba</td>\n",
       "      <td>América Latina y Caribe</td>\n",
       "      <td>1987</td>\n",
       "      <td>447,374</td>\n",
       "      <td>7.234964</td>\n",
       "      <td>2602643480x410x420x57</td>\n",
       "    </tr>\n",
       "    <tr>\n",
       "      <th>28</th>\n",
       "      <td>ABW</td>\n",
       "      <td>Aruba</td>\n",
       "      <td>América Latina y Caribe</td>\n",
       "      <td>1988</td>\n",
       "      <td>612,389</td>\n",
       "      <td>10.026508</td>\n",
       "      <td>2602643480x410x420x57</td>\n",
       "    </tr>\n",
       "    <tr>\n",
       "      <th>29</th>\n",
       "      <td>ABW</td>\n",
       "      <td>Aruba</td>\n",
       "      <td>América Latina y Caribe</td>\n",
       "      <td>1989</td>\n",
       "      <td>649,059</td>\n",
       "      <td>10.634733</td>\n",
       "      <td>2602643480x410x420x57</td>\n",
       "    </tr>\n",
       "    <tr>\n",
       "      <th>30</th>\n",
       "      <td>ABW</td>\n",
       "      <td>Aruba</td>\n",
       "      <td>América Latina y Caribe</td>\n",
       "      <td>1990</td>\n",
       "      <td>1.840,83</td>\n",
       "      <td>29.620165</td>\n",
       "      <td>2602643480x410x420x57</td>\n",
       "    </tr>\n",
       "    <tr>\n",
       "      <th>...</th>\n",
       "      <td>...</td>\n",
       "      <td>...</td>\n",
       "      <td>...</td>\n",
       "      <td>...</td>\n",
       "      <td>...</td>\n",
       "      <td>...</td>\n",
       "      <td>...</td>\n",
       "    </tr>\n",
       "    <tr>\n",
       "      <th>11122</th>\n",
       "      <td>ZWE</td>\n",
       "      <td>Zimbabue</td>\n",
       "      <td>África subsahariana</td>\n",
       "      <td>2007</td>\n",
       "      <td>9.732,22</td>\n",
       "      <td>0.731867</td>\n",
       "      <td>3603482760x5a0x570x45</td>\n",
       "    </tr>\n",
       "    <tr>\n",
       "      <th>11123</th>\n",
       "      <td>ZWE</td>\n",
       "      <td>Zimbabue</td>\n",
       "      <td>África subsahariana</td>\n",
       "      <td>2008</td>\n",
       "      <td>7.682,37</td>\n",
       "      <td>0.569255</td>\n",
       "      <td>3603482760x5a0x570x45</td>\n",
       "    </tr>\n",
       "    <tr>\n",
       "      <th>11124</th>\n",
       "      <td>ZWE</td>\n",
       "      <td>Zimbabue</td>\n",
       "      <td>África subsahariana</td>\n",
       "      <td>2009</td>\n",
       "      <td>8.239,75</td>\n",
       "      <td>0.600521</td>\n",
       "      <td>3603482760x5a0x570x45</td>\n",
       "    </tr>\n",
       "    <tr>\n",
       "      <th>11125</th>\n",
       "      <td>ZWE</td>\n",
       "      <td>Zimbabue</td>\n",
       "      <td>África subsahariana</td>\n",
       "      <td>2010</td>\n",
       "      <td>9.028,15</td>\n",
       "      <td>0.646073</td>\n",
       "      <td>3603482760x5a0x570x45</td>\n",
       "    </tr>\n",
       "    <tr>\n",
       "      <th>11126</th>\n",
       "      <td>ZWE</td>\n",
       "      <td>Zimbabue</td>\n",
       "      <td>África subsahariana</td>\n",
       "      <td>2011</td>\n",
       "      <td>9.860,56</td>\n",
       "      <td>0.691698</td>\n",
       "      <td>3603482760x5a0x570x45</td>\n",
       "    </tr>\n",
       "  </tbody>\n",
       "</table>\n",
       "<p>9029 rows × 7 columns</p>\n",
       "</div>"
      ],
      "text/plain": [
       "      Código de país Nombre del país                   Región   Año  CO2 (kt)  \\\n",
       "26               ABW           Aruba  América Latina y Caribe  1986   179,683   \n",
       "27               ABW           Aruba  América Latina y Caribe  1987   447,374   \n",
       "28               ABW           Aruba  América Latina y Caribe  1988   612,389   \n",
       "29               ABW           Aruba  América Latina y Caribe  1989   649,059   \n",
       "30               ABW           Aruba  América Latina y Caribe  1990  1.840,83   \n",
       "...              ...             ...                      ...   ...       ...   \n",
       "11122            ZWE        Zimbabue      África subsahariana  2007  9.732,22   \n",
       "11123            ZWE        Zimbabue      África subsahariana  2008  7.682,37   \n",
       "11124            ZWE        Zimbabue      África subsahariana  2009  8.239,75   \n",
       "11125            ZWE        Zimbabue      África subsahariana  2010  9.028,15   \n",
       "11126            ZWE        Zimbabue      África subsahariana  2011  9.860,56   \n",
       "\n",
       "       CO2 per cápita (toneladas métricas)             Clave_Hash  \n",
       "26                                2.868319  2602643480x410x420x57  \n",
       "27                                7.234964  2602643480x410x420x57  \n",
       "28                               10.026508  2602643480x410x420x57  \n",
       "29                               10.634733  2602643480x410x420x57  \n",
       "30                               29.620165  2602643480x410x420x57  \n",
       "...                                    ...                    ...  \n",
       "11122                             0.731867  3603482760x5a0x570x45  \n",
       "11123                             0.569255  3603482760x5a0x570x45  \n",
       "11124                             0.600521  3603482760x5a0x570x45  \n",
       "11125                             0.646073  3603482760x5a0x570x45  \n",
       "11126                             0.691698  3603482760x5a0x570x45  \n",
       "\n",
       "[9029 rows x 7 columns]"
      ]
     },
     "execution_count": 21,
     "metadata": {},
     "output_type": "execute_result"
    }
   ],
   "source": [
    "df_nuevo"
   ]
  },
  {
   "cell_type": "markdown",
   "metadata": {},
   "source": [
    "Ahora vamos a sacar los valores únicos que pide la consigna:"
   ]
  },
  {
   "cell_type": "code",
   "execution_count": 29,
   "metadata": {},
   "outputs": [
    {
     "data": {
      "text/html": [
       "<div>\n",
       "<style scoped>\n",
       "    .dataframe tbody tr th:only-of-type {\n",
       "        vertical-align: middle;\n",
       "    }\n",
       "\n",
       "    .dataframe tbody tr th {\n",
       "        vertical-align: top;\n",
       "    }\n",
       "\n",
       "    .dataframe thead th {\n",
       "        text-align: right;\n",
       "    }\n",
       "</style>\n",
       "<table border=\"1\" class=\"dataframe\">\n",
       "  <thead>\n",
       "    <tr style=\"text-align: right;\">\n",
       "      <th></th>\n",
       "      <th>Clave_Hash</th>\n",
       "      <th>Código de país</th>\n",
       "      <th>Nombre del país</th>\n",
       "      <th>Región</th>\n",
       "    </tr>\n",
       "  </thead>\n",
       "  <tbody>\n",
       "    <tr>\n",
       "      <th>26</th>\n",
       "      <td>2602643480x410x420x57</td>\n",
       "      <td>ABW</td>\n",
       "      <td>Aruba</td>\n",
       "      <td>América Latina y Caribe</td>\n",
       "    </tr>\n",
       "    <tr>\n",
       "      <th>27</th>\n",
       "      <td>2602643480x410x420x57</td>\n",
       "      <td>ABW</td>\n",
       "      <td>Aruba</td>\n",
       "      <td>América Latina y Caribe</td>\n",
       "    </tr>\n",
       "    <tr>\n",
       "      <th>28</th>\n",
       "      <td>2602643480x410x420x57</td>\n",
       "      <td>ABW</td>\n",
       "      <td>Aruba</td>\n",
       "      <td>América Latina y Caribe</td>\n",
       "    </tr>\n",
       "    <tr>\n",
       "      <th>29</th>\n",
       "      <td>2602643480x410x420x57</td>\n",
       "      <td>ABW</td>\n",
       "      <td>Aruba</td>\n",
       "      <td>América Latina y Caribe</td>\n",
       "    </tr>\n",
       "    <tr>\n",
       "      <th>30</th>\n",
       "      <td>2602643480x410x420x57</td>\n",
       "      <td>ABW</td>\n",
       "      <td>Aruba</td>\n",
       "      <td>América Latina y Caribe</td>\n",
       "    </tr>\n",
       "    <tr>\n",
       "      <th>...</th>\n",
       "      <td>...</td>\n",
       "      <td>...</td>\n",
       "      <td>...</td>\n",
       "      <td>...</td>\n",
       "    </tr>\n",
       "    <tr>\n",
       "      <th>11122</th>\n",
       "      <td>3603482760x5a0x570x45</td>\n",
       "      <td>ZWE</td>\n",
       "      <td>Zimbabue</td>\n",
       "      <td>África subsahariana</td>\n",
       "    </tr>\n",
       "    <tr>\n",
       "      <th>11123</th>\n",
       "      <td>3603482760x5a0x570x45</td>\n",
       "      <td>ZWE</td>\n",
       "      <td>Zimbabue</td>\n",
       "      <td>África subsahariana</td>\n",
       "    </tr>\n",
       "    <tr>\n",
       "      <th>11124</th>\n",
       "      <td>3603482760x5a0x570x45</td>\n",
       "      <td>ZWE</td>\n",
       "      <td>Zimbabue</td>\n",
       "      <td>África subsahariana</td>\n",
       "    </tr>\n",
       "    <tr>\n",
       "      <th>11125</th>\n",
       "      <td>3603482760x5a0x570x45</td>\n",
       "      <td>ZWE</td>\n",
       "      <td>Zimbabue</td>\n",
       "      <td>África subsahariana</td>\n",
       "    </tr>\n",
       "    <tr>\n",
       "      <th>11126</th>\n",
       "      <td>3603482760x5a0x570x45</td>\n",
       "      <td>ZWE</td>\n",
       "      <td>Zimbabue</td>\n",
       "      <td>África subsahariana</td>\n",
       "    </tr>\n",
       "  </tbody>\n",
       "</table>\n",
       "<p>9029 rows × 4 columns</p>\n",
       "</div>"
      ],
      "text/plain": [
       "                  Clave_Hash Código de país Nombre del país  \\\n",
       "26     2602643480x410x420x57            ABW           Aruba   \n",
       "27     2602643480x410x420x57            ABW           Aruba   \n",
       "28     2602643480x410x420x57            ABW           Aruba   \n",
       "29     2602643480x410x420x57            ABW           Aruba   \n",
       "30     2602643480x410x420x57            ABW           Aruba   \n",
       "...                      ...            ...             ...   \n",
       "11122  3603482760x5a0x570x45            ZWE        Zimbabue   \n",
       "11123  3603482760x5a0x570x45            ZWE        Zimbabue   \n",
       "11124  3603482760x5a0x570x45            ZWE        Zimbabue   \n",
       "11125  3603482760x5a0x570x45            ZWE        Zimbabue   \n",
       "11126  3603482760x5a0x570x45            ZWE        Zimbabue   \n",
       "\n",
       "                        Región  \n",
       "26     América Latina y Caribe  \n",
       "27     América Latina y Caribe  \n",
       "28     América Latina y Caribe  \n",
       "29     América Latina y Caribe  \n",
       "30     América Latina y Caribe  \n",
       "...                        ...  \n",
       "11122      África subsahariana  \n",
       "11123      África subsahariana  \n",
       "11124      África subsahariana  \n",
       "11125      África subsahariana  \n",
       "11126      África subsahariana  \n",
       "\n",
       "[9029 rows x 4 columns]"
      ]
     },
     "execution_count": 29,
     "metadata": {},
     "output_type": "execute_result"
    }
   ],
   "source": [
    "df_nuevo[['Clave_Hash', 'Código de país','Nombre del país', 'Región']]"
   ]
  },
  {
   "cell_type": "markdown",
   "metadata": {},
   "source": [
    "Vemos que hay 9029 registros."
   ]
  },
  {
   "cell_type": "code",
   "execution_count": 30,
   "metadata": {},
   "outputs": [
    {
     "data": {
      "text/html": [
       "<div>\n",
       "<style scoped>\n",
       "    .dataframe tbody tr th:only-of-type {\n",
       "        vertical-align: middle;\n",
       "    }\n",
       "\n",
       "    .dataframe tbody tr th {\n",
       "        vertical-align: top;\n",
       "    }\n",
       "\n",
       "    .dataframe thead th {\n",
       "        text-align: right;\n",
       "    }\n",
       "</style>\n",
       "<table border=\"1\" class=\"dataframe\">\n",
       "  <thead>\n",
       "    <tr style=\"text-align: right;\">\n",
       "      <th></th>\n",
       "      <th>Clave_Hash</th>\n",
       "      <th>Código de país</th>\n",
       "      <th>Nombre del país</th>\n",
       "      <th>Región</th>\n",
       "    </tr>\n",
       "  </thead>\n",
       "  <tbody>\n",
       "    <tr>\n",
       "      <th>26</th>\n",
       "      <td>2602643480x410x420x57</td>\n",
       "      <td>ABW</td>\n",
       "      <td>Aruba</td>\n",
       "      <td>América Latina y Caribe</td>\n",
       "    </tr>\n",
       "    <tr>\n",
       "      <th>87</th>\n",
       "      <td>2603122720x410x4e0x44</td>\n",
       "      <td>AND</td>\n",
       "      <td>Andorra</td>\n",
       "      <td>Europa y Asia Central</td>\n",
       "    </tr>\n",
       "    <tr>\n",
       "      <th>104</th>\n",
       "      <td>2602802840x410x460x47</td>\n",
       "      <td>AFG</td>\n",
       "      <td>Afganistán</td>\n",
       "      <td>Sur de Asia</td>\n",
       "    </tr>\n",
       "    <tr>\n",
       "      <th>156</th>\n",
       "      <td>2602843160x410x470x4f</td>\n",
       "      <td>AGO</td>\n",
       "      <td>Angola</td>\n",
       "      <td>África subsahariana</td>\n",
       "    </tr>\n",
       "    <tr>\n",
       "      <th>208</th>\n",
       "      <td>2603042640x410x4c0x42</td>\n",
       "      <td>ALB</td>\n",
       "      <td>Albania</td>\n",
       "      <td>Europa y Asia Central</td>\n",
       "    </tr>\n",
       "    <tr>\n",
       "      <th>...</th>\n",
       "      <td>...</td>\n",
       "      <td>...</td>\n",
       "      <td>...</td>\n",
       "      <td>...</td>\n",
       "    </tr>\n",
       "    <tr>\n",
       "      <th>10867</th>\n",
       "      <td>3562763080x590x450x4d</td>\n",
       "      <td>YEM</td>\n",
       "      <td>Yemen</td>\n",
       "      <td>Oriente Medio y Norte de África</td>\n",
       "    </tr>\n",
       "    <tr>\n",
       "      <th>10919</th>\n",
       "      <td>3602602800x5a0x410x46</td>\n",
       "      <td>ZAF</td>\n",
       "      <td>Sudáfrica</td>\n",
       "      <td>África subsahariana</td>\n",
       "    </tr>\n",
       "    <tr>\n",
       "      <th>10971</th>\n",
       "      <td>2683162720x430x4f0x44</td>\n",
       "      <td>COD</td>\n",
       "      <td>Congo (República Democrática)</td>\n",
       "      <td>África subsahariana</td>\n",
       "    </tr>\n",
       "    <tr>\n",
       "      <th>11027</th>\n",
       "      <td>3603082640x5a0x4d0x42</td>\n",
       "      <td>ZMB</td>\n",
       "      <td>Zambia</td>\n",
       "      <td>África subsahariana</td>\n",
       "    </tr>\n",
       "    <tr>\n",
       "      <th>11079</th>\n",
       "      <td>3603482760x5a0x570x45</td>\n",
       "      <td>ZWE</td>\n",
       "      <td>Zimbabue</td>\n",
       "      <td>África subsahariana</td>\n",
       "    </tr>\n",
       "  </tbody>\n",
       "</table>\n",
       "<p>199 rows × 4 columns</p>\n",
       "</div>"
      ],
      "text/plain": [
       "                  Clave_Hash Código de país                Nombre del país  \\\n",
       "26     2602643480x410x420x57            ABW                          Aruba   \n",
       "87     2603122720x410x4e0x44            AND                        Andorra   \n",
       "104    2602802840x410x460x47            AFG                     Afganistán   \n",
       "156    2602843160x410x470x4f            AGO                         Angola   \n",
       "208    2603042640x410x4c0x42            ALB                        Albania   \n",
       "...                      ...            ...                            ...   \n",
       "10867  3562763080x590x450x4d            YEM                          Yemen   \n",
       "10919  3602602800x5a0x410x46            ZAF                      Sudáfrica   \n",
       "10971  2683162720x430x4f0x44            COD  Congo (República Democrática)   \n",
       "11027  3603082640x5a0x4d0x42            ZMB                         Zambia   \n",
       "11079  3603482760x5a0x570x45            ZWE                       Zimbabue   \n",
       "\n",
       "                                Región  \n",
       "26             América Latina y Caribe  \n",
       "87               Europa y Asia Central  \n",
       "104                        Sur de Asia  \n",
       "156                África subsahariana  \n",
       "208              Europa y Asia Central  \n",
       "...                                ...  \n",
       "10867  Oriente Medio y Norte de África  \n",
       "10919              África subsahariana  \n",
       "10971              África subsahariana  \n",
       "11027              África subsahariana  \n",
       "11079              África subsahariana  \n",
       "\n",
       "[199 rows x 4 columns]"
      ]
     },
     "execution_count": 30,
     "metadata": {},
     "output_type": "execute_result"
    }
   ],
   "source": [
    "df_nuevo[['Clave_Hash', 'Código de país','Nombre del país', 'Región']].drop_duplicates()"
   ]
  },
  {
   "cell_type": "markdown",
   "metadata": {},
   "source": [
    "Y luego de dejar los valores únicos, 199. Para verificarlo, voy a crear un .csv."
   ]
  },
  {
   "cell_type": "code",
   "execution_count": 31,
   "metadata": {},
   "outputs": [],
   "source": [
    "df_prueba = df_nuevo[['Clave_Hash', 'Código de país','Nombre del país', 'Región']].drop_duplicates()"
   ]
  },
  {
   "cell_type": "code",
   "execution_count": 33,
   "metadata": {},
   "outputs": [],
   "source": [
    "df_prueba.to_csv('pruebaHomework.csv', sep=',')"
   ]
  },
  {
   "cell_type": "markdown",
   "metadata": {},
   "source": [
    "Perfecto. Acá solo dejamos los campos especificados sin duplicados. Ya que todo está correcto, creo el nuevo df."
   ]
  },
  {
   "cell_type": "code",
   "execution_count": 71,
   "metadata": {},
   "outputs": [],
   "source": [
    "df_paises = df_prueba.copy()"
   ]
  },
  {
   "cell_type": "code",
   "execution_count": 72,
   "metadata": {},
   "outputs": [
    {
     "data": {
      "text/html": [
       "<div>\n",
       "<style scoped>\n",
       "    .dataframe tbody tr th:only-of-type {\n",
       "        vertical-align: middle;\n",
       "    }\n",
       "\n",
       "    .dataframe tbody tr th {\n",
       "        vertical-align: top;\n",
       "    }\n",
       "\n",
       "    .dataframe thead th {\n",
       "        text-align: right;\n",
       "    }\n",
       "</style>\n",
       "<table border=\"1\" class=\"dataframe\">\n",
       "  <thead>\n",
       "    <tr style=\"text-align: right;\">\n",
       "      <th></th>\n",
       "      <th>Clave_Hash</th>\n",
       "      <th>Código de país</th>\n",
       "      <th>Nombre del país</th>\n",
       "      <th>Región</th>\n",
       "    </tr>\n",
       "  </thead>\n",
       "  <tbody>\n",
       "    <tr>\n",
       "      <th>26</th>\n",
       "      <td>2602643480x410x420x57</td>\n",
       "      <td>ABW</td>\n",
       "      <td>Aruba</td>\n",
       "      <td>América Latina y Caribe</td>\n",
       "    </tr>\n",
       "    <tr>\n",
       "      <th>87</th>\n",
       "      <td>2603122720x410x4e0x44</td>\n",
       "      <td>AND</td>\n",
       "      <td>Andorra</td>\n",
       "      <td>Europa y Asia Central</td>\n",
       "    </tr>\n",
       "    <tr>\n",
       "      <th>104</th>\n",
       "      <td>2602802840x410x460x47</td>\n",
       "      <td>AFG</td>\n",
       "      <td>Afganistán</td>\n",
       "      <td>Sur de Asia</td>\n",
       "    </tr>\n",
       "    <tr>\n",
       "      <th>156</th>\n",
       "      <td>2602843160x410x470x4f</td>\n",
       "      <td>AGO</td>\n",
       "      <td>Angola</td>\n",
       "      <td>África subsahariana</td>\n",
       "    </tr>\n",
       "    <tr>\n",
       "      <th>208</th>\n",
       "      <td>2603042640x410x4c0x42</td>\n",
       "      <td>ALB</td>\n",
       "      <td>Albania</td>\n",
       "      <td>Europa y Asia Central</td>\n",
       "    </tr>\n",
       "    <tr>\n",
       "      <th>...</th>\n",
       "      <td>...</td>\n",
       "      <td>...</td>\n",
       "      <td>...</td>\n",
       "      <td>...</td>\n",
       "    </tr>\n",
       "    <tr>\n",
       "      <th>10867</th>\n",
       "      <td>3562763080x590x450x4d</td>\n",
       "      <td>YEM</td>\n",
       "      <td>Yemen</td>\n",
       "      <td>Oriente Medio y Norte de África</td>\n",
       "    </tr>\n",
       "    <tr>\n",
       "      <th>10919</th>\n",
       "      <td>3602602800x5a0x410x46</td>\n",
       "      <td>ZAF</td>\n",
       "      <td>Sudáfrica</td>\n",
       "      <td>África subsahariana</td>\n",
       "    </tr>\n",
       "    <tr>\n",
       "      <th>10971</th>\n",
       "      <td>2683162720x430x4f0x44</td>\n",
       "      <td>COD</td>\n",
       "      <td>Congo (República Democrática)</td>\n",
       "      <td>África subsahariana</td>\n",
       "    </tr>\n",
       "    <tr>\n",
       "      <th>11027</th>\n",
       "      <td>3603082640x5a0x4d0x42</td>\n",
       "      <td>ZMB</td>\n",
       "      <td>Zambia</td>\n",
       "      <td>África subsahariana</td>\n",
       "    </tr>\n",
       "    <tr>\n",
       "      <th>11079</th>\n",
       "      <td>3603482760x5a0x570x45</td>\n",
       "      <td>ZWE</td>\n",
       "      <td>Zimbabue</td>\n",
       "      <td>África subsahariana</td>\n",
       "    </tr>\n",
       "  </tbody>\n",
       "</table>\n",
       "<p>199 rows × 4 columns</p>\n",
       "</div>"
      ],
      "text/plain": [
       "                  Clave_Hash Código de país                Nombre del país  \\\n",
       "26     2602643480x410x420x57            ABW                          Aruba   \n",
       "87     2603122720x410x4e0x44            AND                        Andorra   \n",
       "104    2602802840x410x460x47            AFG                     Afganistán   \n",
       "156    2602843160x410x470x4f            AGO                         Angola   \n",
       "208    2603042640x410x4c0x42            ALB                        Albania   \n",
       "...                      ...            ...                            ...   \n",
       "10867  3562763080x590x450x4d            YEM                          Yemen   \n",
       "10919  3602602800x5a0x410x46            ZAF                      Sudáfrica   \n",
       "10971  2683162720x430x4f0x44            COD  Congo (República Democrática)   \n",
       "11027  3603082640x5a0x4d0x42            ZMB                         Zambia   \n",
       "11079  3603482760x5a0x570x45            ZWE                       Zimbabue   \n",
       "\n",
       "                                Región  \n",
       "26             América Latina y Caribe  \n",
       "87               Europa y Asia Central  \n",
       "104                        Sur de Asia  \n",
       "156                África subsahariana  \n",
       "208              Europa y Asia Central  \n",
       "...                                ...  \n",
       "10867  Oriente Medio y Norte de África  \n",
       "10919              África subsahariana  \n",
       "10971              África subsahariana  \n",
       "11027              África subsahariana  \n",
       "11079              África subsahariana  \n",
       "\n",
       "[199 rows x 4 columns]"
      ]
     },
     "execution_count": 72,
     "metadata": {},
     "output_type": "execute_result"
    }
   ],
   "source": [
    "df_paises"
   ]
  },
  {
   "cell_type": "markdown",
   "metadata": {},
   "source": [
    "Para que quede más prolijo, reseteo los índices."
   ]
  },
  {
   "cell_type": "code",
   "execution_count": 73,
   "metadata": {},
   "outputs": [],
   "source": [
    "df_paises.reset_index(drop=True, inplace=True)"
   ]
  },
  {
   "cell_type": "markdown",
   "metadata": {},
   "source": [
    "Y para que empiece en 1 y no en 0:\n"
   ]
  },
  {
   "cell_type": "code",
   "execution_count": 74,
   "metadata": {},
   "outputs": [],
   "source": [
    "df_paises.index = df_paises.index + 1"
   ]
  },
  {
   "cell_type": "code",
   "execution_count": 75,
   "metadata": {},
   "outputs": [
    {
     "data": {
      "text/html": [
       "<div>\n",
       "<style scoped>\n",
       "    .dataframe tbody tr th:only-of-type {\n",
       "        vertical-align: middle;\n",
       "    }\n",
       "\n",
       "    .dataframe tbody tr th {\n",
       "        vertical-align: top;\n",
       "    }\n",
       "\n",
       "    .dataframe thead th {\n",
       "        text-align: right;\n",
       "    }\n",
       "</style>\n",
       "<table border=\"1\" class=\"dataframe\">\n",
       "  <thead>\n",
       "    <tr style=\"text-align: right;\">\n",
       "      <th></th>\n",
       "      <th>Clave_Hash</th>\n",
       "      <th>Código de país</th>\n",
       "      <th>Nombre del país</th>\n",
       "      <th>Región</th>\n",
       "    </tr>\n",
       "  </thead>\n",
       "  <tbody>\n",
       "    <tr>\n",
       "      <th>1</th>\n",
       "      <td>2602643480x410x420x57</td>\n",
       "      <td>ABW</td>\n",
       "      <td>Aruba</td>\n",
       "      <td>América Latina y Caribe</td>\n",
       "    </tr>\n",
       "    <tr>\n",
       "      <th>2</th>\n",
       "      <td>2603122720x410x4e0x44</td>\n",
       "      <td>AND</td>\n",
       "      <td>Andorra</td>\n",
       "      <td>Europa y Asia Central</td>\n",
       "    </tr>\n",
       "    <tr>\n",
       "      <th>3</th>\n",
       "      <td>2602802840x410x460x47</td>\n",
       "      <td>AFG</td>\n",
       "      <td>Afganistán</td>\n",
       "      <td>Sur de Asia</td>\n",
       "    </tr>\n",
       "    <tr>\n",
       "      <th>4</th>\n",
       "      <td>2602843160x410x470x4f</td>\n",
       "      <td>AGO</td>\n",
       "      <td>Angola</td>\n",
       "      <td>África subsahariana</td>\n",
       "    </tr>\n",
       "    <tr>\n",
       "      <th>5</th>\n",
       "      <td>2603042640x410x4c0x42</td>\n",
       "      <td>ALB</td>\n",
       "      <td>Albania</td>\n",
       "      <td>Europa y Asia Central</td>\n",
       "    </tr>\n",
       "    <tr>\n",
       "      <th>...</th>\n",
       "      <td>...</td>\n",
       "      <td>...</td>\n",
       "      <td>...</td>\n",
       "      <td>...</td>\n",
       "    </tr>\n",
       "    <tr>\n",
       "      <th>195</th>\n",
       "      <td>3562763080x590x450x4d</td>\n",
       "      <td>YEM</td>\n",
       "      <td>Yemen</td>\n",
       "      <td>Oriente Medio y Norte de África</td>\n",
       "    </tr>\n",
       "    <tr>\n",
       "      <th>196</th>\n",
       "      <td>3602602800x5a0x410x46</td>\n",
       "      <td>ZAF</td>\n",
       "      <td>Sudáfrica</td>\n",
       "      <td>África subsahariana</td>\n",
       "    </tr>\n",
       "    <tr>\n",
       "      <th>197</th>\n",
       "      <td>2683162720x430x4f0x44</td>\n",
       "      <td>COD</td>\n",
       "      <td>Congo (República Democrática)</td>\n",
       "      <td>África subsahariana</td>\n",
       "    </tr>\n",
       "    <tr>\n",
       "      <th>198</th>\n",
       "      <td>3603082640x5a0x4d0x42</td>\n",
       "      <td>ZMB</td>\n",
       "      <td>Zambia</td>\n",
       "      <td>África subsahariana</td>\n",
       "    </tr>\n",
       "    <tr>\n",
       "      <th>199</th>\n",
       "      <td>3603482760x5a0x570x45</td>\n",
       "      <td>ZWE</td>\n",
       "      <td>Zimbabue</td>\n",
       "      <td>África subsahariana</td>\n",
       "    </tr>\n",
       "  </tbody>\n",
       "</table>\n",
       "<p>199 rows × 4 columns</p>\n",
       "</div>"
      ],
      "text/plain": [
       "                Clave_Hash Código de país                Nombre del país  \\\n",
       "1    2602643480x410x420x57            ABW                          Aruba   \n",
       "2    2603122720x410x4e0x44            AND                        Andorra   \n",
       "3    2602802840x410x460x47            AFG                     Afganistán   \n",
       "4    2602843160x410x470x4f            AGO                         Angola   \n",
       "5    2603042640x410x4c0x42            ALB                        Albania   \n",
       "..                     ...            ...                            ...   \n",
       "195  3562763080x590x450x4d            YEM                          Yemen   \n",
       "196  3602602800x5a0x410x46            ZAF                      Sudáfrica   \n",
       "197  2683162720x430x4f0x44            COD  Congo (República Democrática)   \n",
       "198  3603082640x5a0x4d0x42            ZMB                         Zambia   \n",
       "199  3603482760x5a0x570x45            ZWE                       Zimbabue   \n",
       "\n",
       "                              Región  \n",
       "1            América Latina y Caribe  \n",
       "2              Europa y Asia Central  \n",
       "3                        Sur de Asia  \n",
       "4                África subsahariana  \n",
       "5              Europa y Asia Central  \n",
       "..                               ...  \n",
       "195  Oriente Medio y Norte de África  \n",
       "196              África subsahariana  \n",
       "197              África subsahariana  \n",
       "198              África subsahariana  \n",
       "199              África subsahariana  \n",
       "\n",
       "[199 rows x 4 columns]"
      ]
     },
     "execution_count": 75,
     "metadata": {},
     "output_type": "execute_result"
    }
   ],
   "source": [
    "df_paises"
   ]
  },
  {
   "cell_type": "markdown",
   "metadata": {},
   "source": [
    "Ahora vamos a sacar del df original (df_nuevo) los campos \"Código de país\" , \"Nombre del país\" y \"Región\""
   ]
  },
  {
   "cell_type": "code",
   "execution_count": 77,
   "metadata": {},
   "outputs": [
    {
     "data": {
      "text/html": [
       "<div>\n",
       "<style scoped>\n",
       "    .dataframe tbody tr th:only-of-type {\n",
       "        vertical-align: middle;\n",
       "    }\n",
       "\n",
       "    .dataframe tbody tr th {\n",
       "        vertical-align: top;\n",
       "    }\n",
       "\n",
       "    .dataframe thead th {\n",
       "        text-align: right;\n",
       "    }\n",
       "</style>\n",
       "<table border=\"1\" class=\"dataframe\">\n",
       "  <thead>\n",
       "    <tr style=\"text-align: right;\">\n",
       "      <th></th>\n",
       "      <th>Año</th>\n",
       "      <th>CO2 (kt)</th>\n",
       "      <th>CO2 per cápita (toneladas métricas)</th>\n",
       "      <th>Clave_Hash</th>\n",
       "    </tr>\n",
       "  </thead>\n",
       "  <tbody>\n",
       "    <tr>\n",
       "      <th>26</th>\n",
       "      <td>1986</td>\n",
       "      <td>179,683</td>\n",
       "      <td>2.868319</td>\n",
       "      <td>2602643480x410x420x57</td>\n",
       "    </tr>\n",
       "    <tr>\n",
       "      <th>27</th>\n",
       "      <td>1987</td>\n",
       "      <td>447,374</td>\n",
       "      <td>7.234964</td>\n",
       "      <td>2602643480x410x420x57</td>\n",
       "    </tr>\n",
       "    <tr>\n",
       "      <th>28</th>\n",
       "      <td>1988</td>\n",
       "      <td>612,389</td>\n",
       "      <td>10.026508</td>\n",
       "      <td>2602643480x410x420x57</td>\n",
       "    </tr>\n",
       "    <tr>\n",
       "      <th>29</th>\n",
       "      <td>1989</td>\n",
       "      <td>649,059</td>\n",
       "      <td>10.634733</td>\n",
       "      <td>2602643480x410x420x57</td>\n",
       "    </tr>\n",
       "    <tr>\n",
       "      <th>30</th>\n",
       "      <td>1990</td>\n",
       "      <td>1.840,83</td>\n",
       "      <td>29.620165</td>\n",
       "      <td>2602643480x410x420x57</td>\n",
       "    </tr>\n",
       "    <tr>\n",
       "      <th>...</th>\n",
       "      <td>...</td>\n",
       "      <td>...</td>\n",
       "      <td>...</td>\n",
       "      <td>...</td>\n",
       "    </tr>\n",
       "    <tr>\n",
       "      <th>11122</th>\n",
       "      <td>2007</td>\n",
       "      <td>9.732,22</td>\n",
       "      <td>0.731867</td>\n",
       "      <td>3603482760x5a0x570x45</td>\n",
       "    </tr>\n",
       "    <tr>\n",
       "      <th>11123</th>\n",
       "      <td>2008</td>\n",
       "      <td>7.682,37</td>\n",
       "      <td>0.569255</td>\n",
       "      <td>3603482760x5a0x570x45</td>\n",
       "    </tr>\n",
       "    <tr>\n",
       "      <th>11124</th>\n",
       "      <td>2009</td>\n",
       "      <td>8.239,75</td>\n",
       "      <td>0.600521</td>\n",
       "      <td>3603482760x5a0x570x45</td>\n",
       "    </tr>\n",
       "    <tr>\n",
       "      <th>11125</th>\n",
       "      <td>2010</td>\n",
       "      <td>9.028,15</td>\n",
       "      <td>0.646073</td>\n",
       "      <td>3603482760x5a0x570x45</td>\n",
       "    </tr>\n",
       "    <tr>\n",
       "      <th>11126</th>\n",
       "      <td>2011</td>\n",
       "      <td>9.860,56</td>\n",
       "      <td>0.691698</td>\n",
       "      <td>3603482760x5a0x570x45</td>\n",
       "    </tr>\n",
       "  </tbody>\n",
       "</table>\n",
       "<p>9029 rows × 4 columns</p>\n",
       "</div>"
      ],
      "text/plain": [
       "        Año  CO2 (kt)  CO2 per cápita (toneladas métricas)  \\\n",
       "26     1986   179,683                             2.868319   \n",
       "27     1987   447,374                             7.234964   \n",
       "28     1988   612,389                            10.026508   \n",
       "29     1989   649,059                            10.634733   \n",
       "30     1990  1.840,83                            29.620165   \n",
       "...     ...       ...                                  ...   \n",
       "11122  2007  9.732,22                             0.731867   \n",
       "11123  2008  7.682,37                             0.569255   \n",
       "11124  2009  8.239,75                             0.600521   \n",
       "11125  2010  9.028,15                             0.646073   \n",
       "11126  2011  9.860,56                             0.691698   \n",
       "\n",
       "                  Clave_Hash  \n",
       "26     2602643480x410x420x57  \n",
       "27     2602643480x410x420x57  \n",
       "28     2602643480x410x420x57  \n",
       "29     2602643480x410x420x57  \n",
       "30     2602643480x410x420x57  \n",
       "...                      ...  \n",
       "11122  3603482760x5a0x570x45  \n",
       "11123  3603482760x5a0x570x45  \n",
       "11124  3603482760x5a0x570x45  \n",
       "11125  3603482760x5a0x570x45  \n",
       "11126  3603482760x5a0x570x45  \n",
       "\n",
       "[9029 rows x 4 columns]"
      ]
     },
     "execution_count": 77,
     "metadata": {},
     "output_type": "execute_result"
    }
   ],
   "source": [
    "df_nuevo.drop(['Código de país', 'Nombre del país', 'Región'], axis=1)"
   ]
  },
  {
   "cell_type": "markdown",
   "metadata": {},
   "source": [
    "Está bien, por lo que vamos a guardarlo en otro df. Estoy guardando todo en distintos df para mantener los originales, pero no por lo que pide el ejercicio en sí. Se podrían modificar directamente. Solo para que quede más claro y veamos con qué campos trabajamos en cada momento."
   ]
  },
  {
   "cell_type": "code",
   "execution_count": 78,
   "metadata": {},
   "outputs": [],
   "source": [
    "df_datos = df_nuevo.drop(['Código de país', 'Nombre del país', 'Región'], axis=1)"
   ]
  },
  {
   "cell_type": "code",
   "execution_count": 79,
   "metadata": {},
   "outputs": [
    {
     "data": {
      "text/html": [
       "<div>\n",
       "<style scoped>\n",
       "    .dataframe tbody tr th:only-of-type {\n",
       "        vertical-align: middle;\n",
       "    }\n",
       "\n",
       "    .dataframe tbody tr th {\n",
       "        vertical-align: top;\n",
       "    }\n",
       "\n",
       "    .dataframe thead th {\n",
       "        text-align: right;\n",
       "    }\n",
       "</style>\n",
       "<table border=\"1\" class=\"dataframe\">\n",
       "  <thead>\n",
       "    <tr style=\"text-align: right;\">\n",
       "      <th></th>\n",
       "      <th>Año</th>\n",
       "      <th>CO2 (kt)</th>\n",
       "      <th>CO2 per cápita (toneladas métricas)</th>\n",
       "      <th>Clave_Hash</th>\n",
       "    </tr>\n",
       "  </thead>\n",
       "  <tbody>\n",
       "    <tr>\n",
       "      <th>26</th>\n",
       "      <td>1986</td>\n",
       "      <td>179,683</td>\n",
       "      <td>2.868319</td>\n",
       "      <td>2602643480x410x420x57</td>\n",
       "    </tr>\n",
       "    <tr>\n",
       "      <th>27</th>\n",
       "      <td>1987</td>\n",
       "      <td>447,374</td>\n",
       "      <td>7.234964</td>\n",
       "      <td>2602643480x410x420x57</td>\n",
       "    </tr>\n",
       "    <tr>\n",
       "      <th>28</th>\n",
       "      <td>1988</td>\n",
       "      <td>612,389</td>\n",
       "      <td>10.026508</td>\n",
       "      <td>2602643480x410x420x57</td>\n",
       "    </tr>\n",
       "    <tr>\n",
       "      <th>29</th>\n",
       "      <td>1989</td>\n",
       "      <td>649,059</td>\n",
       "      <td>10.634733</td>\n",
       "      <td>2602643480x410x420x57</td>\n",
       "    </tr>\n",
       "    <tr>\n",
       "      <th>30</th>\n",
       "      <td>1990</td>\n",
       "      <td>1.840,83</td>\n",
       "      <td>29.620165</td>\n",
       "      <td>2602643480x410x420x57</td>\n",
       "    </tr>\n",
       "    <tr>\n",
       "      <th>...</th>\n",
       "      <td>...</td>\n",
       "      <td>...</td>\n",
       "      <td>...</td>\n",
       "      <td>...</td>\n",
       "    </tr>\n",
       "    <tr>\n",
       "      <th>11122</th>\n",
       "      <td>2007</td>\n",
       "      <td>9.732,22</td>\n",
       "      <td>0.731867</td>\n",
       "      <td>3603482760x5a0x570x45</td>\n",
       "    </tr>\n",
       "    <tr>\n",
       "      <th>11123</th>\n",
       "      <td>2008</td>\n",
       "      <td>7.682,37</td>\n",
       "      <td>0.569255</td>\n",
       "      <td>3603482760x5a0x570x45</td>\n",
       "    </tr>\n",
       "    <tr>\n",
       "      <th>11124</th>\n",
       "      <td>2009</td>\n",
       "      <td>8.239,75</td>\n",
       "      <td>0.600521</td>\n",
       "      <td>3603482760x5a0x570x45</td>\n",
       "    </tr>\n",
       "    <tr>\n",
       "      <th>11125</th>\n",
       "      <td>2010</td>\n",
       "      <td>9.028,15</td>\n",
       "      <td>0.646073</td>\n",
       "      <td>3603482760x5a0x570x45</td>\n",
       "    </tr>\n",
       "    <tr>\n",
       "      <th>11126</th>\n",
       "      <td>2011</td>\n",
       "      <td>9.860,56</td>\n",
       "      <td>0.691698</td>\n",
       "      <td>3603482760x5a0x570x45</td>\n",
       "    </tr>\n",
       "  </tbody>\n",
       "</table>\n",
       "<p>9029 rows × 4 columns</p>\n",
       "</div>"
      ],
      "text/plain": [
       "        Año  CO2 (kt)  CO2 per cápita (toneladas métricas)  \\\n",
       "26     1986   179,683                             2.868319   \n",
       "27     1987   447,374                             7.234964   \n",
       "28     1988   612,389                            10.026508   \n",
       "29     1989   649,059                            10.634733   \n",
       "30     1990  1.840,83                            29.620165   \n",
       "...     ...       ...                                  ...   \n",
       "11122  2007  9.732,22                             0.731867   \n",
       "11123  2008  7.682,37                             0.569255   \n",
       "11124  2009  8.239,75                             0.600521   \n",
       "11125  2010  9.028,15                             0.646073   \n",
       "11126  2011  9.860,56                             0.691698   \n",
       "\n",
       "                  Clave_Hash  \n",
       "26     2602643480x410x420x57  \n",
       "27     2602643480x410x420x57  \n",
       "28     2602643480x410x420x57  \n",
       "29     2602643480x410x420x57  \n",
       "30     2602643480x410x420x57  \n",
       "...                      ...  \n",
       "11122  3603482760x5a0x570x45  \n",
       "11123  3603482760x5a0x570x45  \n",
       "11124  3603482760x5a0x570x45  \n",
       "11125  3603482760x5a0x570x45  \n",
       "11126  3603482760x5a0x570x45  \n",
       "\n",
       "[9029 rows x 4 columns]"
      ]
     },
     "execution_count": 79,
     "metadata": {},
     "output_type": "execute_result"
    }
   ],
   "source": [
    "df_datos"
   ]
  },
  {
   "cell_type": "markdown",
   "metadata": {},
   "source": [
    "Ahora solo falta unir ambas tablas por el campo común (\"Clave_Hasf\"):\n"
   ]
  },
  {
   "cell_type": "code",
   "execution_count": 80,
   "metadata": {},
   "outputs": [
    {
     "data": {
      "text/html": [
       "<div>\n",
       "<style scoped>\n",
       "    .dataframe tbody tr th:only-of-type {\n",
       "        vertical-align: middle;\n",
       "    }\n",
       "\n",
       "    .dataframe tbody tr th {\n",
       "        vertical-align: top;\n",
       "    }\n",
       "\n",
       "    .dataframe thead th {\n",
       "        text-align: right;\n",
       "    }\n",
       "</style>\n",
       "<table border=\"1\" class=\"dataframe\">\n",
       "  <thead>\n",
       "    <tr style=\"text-align: right;\">\n",
       "      <th></th>\n",
       "      <th>Año</th>\n",
       "      <th>CO2 (kt)</th>\n",
       "      <th>CO2 per cápita (toneladas métricas)</th>\n",
       "      <th>Clave_Hash</th>\n",
       "      <th>Código de país</th>\n",
       "      <th>Nombre del país</th>\n",
       "      <th>Región</th>\n",
       "    </tr>\n",
       "  </thead>\n",
       "  <tbody>\n",
       "    <tr>\n",
       "      <th>0</th>\n",
       "      <td>1986</td>\n",
       "      <td>179,683</td>\n",
       "      <td>2.868319</td>\n",
       "      <td>2602643480x410x420x57</td>\n",
       "      <td>ABW</td>\n",
       "      <td>Aruba</td>\n",
       "      <td>América Latina y Caribe</td>\n",
       "    </tr>\n",
       "    <tr>\n",
       "      <th>1</th>\n",
       "      <td>1987</td>\n",
       "      <td>447,374</td>\n",
       "      <td>7.234964</td>\n",
       "      <td>2602643480x410x420x57</td>\n",
       "      <td>ABW</td>\n",
       "      <td>Aruba</td>\n",
       "      <td>América Latina y Caribe</td>\n",
       "    </tr>\n",
       "    <tr>\n",
       "      <th>2</th>\n",
       "      <td>1988</td>\n",
       "      <td>612,389</td>\n",
       "      <td>10.026508</td>\n",
       "      <td>2602643480x410x420x57</td>\n",
       "      <td>ABW</td>\n",
       "      <td>Aruba</td>\n",
       "      <td>América Latina y Caribe</td>\n",
       "    </tr>\n",
       "    <tr>\n",
       "      <th>3</th>\n",
       "      <td>1989</td>\n",
       "      <td>649,059</td>\n",
       "      <td>10.634733</td>\n",
       "      <td>2602643480x410x420x57</td>\n",
       "      <td>ABW</td>\n",
       "      <td>Aruba</td>\n",
       "      <td>América Latina y Caribe</td>\n",
       "    </tr>\n",
       "    <tr>\n",
       "      <th>4</th>\n",
       "      <td>1990</td>\n",
       "      <td>1.840,83</td>\n",
       "      <td>29.620165</td>\n",
       "      <td>2602643480x410x420x57</td>\n",
       "      <td>ABW</td>\n",
       "      <td>Aruba</td>\n",
       "      <td>América Latina y Caribe</td>\n",
       "    </tr>\n",
       "    <tr>\n",
       "      <th>...</th>\n",
       "      <td>...</td>\n",
       "      <td>...</td>\n",
       "      <td>...</td>\n",
       "      <td>...</td>\n",
       "      <td>...</td>\n",
       "      <td>...</td>\n",
       "      <td>...</td>\n",
       "    </tr>\n",
       "    <tr>\n",
       "      <th>9024</th>\n",
       "      <td>2007</td>\n",
       "      <td>9.732,22</td>\n",
       "      <td>0.731867</td>\n",
       "      <td>3603482760x5a0x570x45</td>\n",
       "      <td>ZWE</td>\n",
       "      <td>Zimbabue</td>\n",
       "      <td>África subsahariana</td>\n",
       "    </tr>\n",
       "    <tr>\n",
       "      <th>9025</th>\n",
       "      <td>2008</td>\n",
       "      <td>7.682,37</td>\n",
       "      <td>0.569255</td>\n",
       "      <td>3603482760x5a0x570x45</td>\n",
       "      <td>ZWE</td>\n",
       "      <td>Zimbabue</td>\n",
       "      <td>África subsahariana</td>\n",
       "    </tr>\n",
       "    <tr>\n",
       "      <th>9026</th>\n",
       "      <td>2009</td>\n",
       "      <td>8.239,75</td>\n",
       "      <td>0.600521</td>\n",
       "      <td>3603482760x5a0x570x45</td>\n",
       "      <td>ZWE</td>\n",
       "      <td>Zimbabue</td>\n",
       "      <td>África subsahariana</td>\n",
       "    </tr>\n",
       "    <tr>\n",
       "      <th>9027</th>\n",
       "      <td>2010</td>\n",
       "      <td>9.028,15</td>\n",
       "      <td>0.646073</td>\n",
       "      <td>3603482760x5a0x570x45</td>\n",
       "      <td>ZWE</td>\n",
       "      <td>Zimbabue</td>\n",
       "      <td>África subsahariana</td>\n",
       "    </tr>\n",
       "    <tr>\n",
       "      <th>9028</th>\n",
       "      <td>2011</td>\n",
       "      <td>9.860,56</td>\n",
       "      <td>0.691698</td>\n",
       "      <td>3603482760x5a0x570x45</td>\n",
       "      <td>ZWE</td>\n",
       "      <td>Zimbabue</td>\n",
       "      <td>África subsahariana</td>\n",
       "    </tr>\n",
       "  </tbody>\n",
       "</table>\n",
       "<p>9029 rows × 7 columns</p>\n",
       "</div>"
      ],
      "text/plain": [
       "       Año  CO2 (kt)  CO2 per cápita (toneladas métricas)  \\\n",
       "0     1986   179,683                             2.868319   \n",
       "1     1987   447,374                             7.234964   \n",
       "2     1988   612,389                            10.026508   \n",
       "3     1989   649,059                            10.634733   \n",
       "4     1990  1.840,83                            29.620165   \n",
       "...    ...       ...                                  ...   \n",
       "9024  2007  9.732,22                             0.731867   \n",
       "9025  2008  7.682,37                             0.569255   \n",
       "9026  2009  8.239,75                             0.600521   \n",
       "9027  2010  9.028,15                             0.646073   \n",
       "9028  2011  9.860,56                             0.691698   \n",
       "\n",
       "                 Clave_Hash Código de país Nombre del país  \\\n",
       "0     2602643480x410x420x57            ABW           Aruba   \n",
       "1     2602643480x410x420x57            ABW           Aruba   \n",
       "2     2602643480x410x420x57            ABW           Aruba   \n",
       "3     2602643480x410x420x57            ABW           Aruba   \n",
       "4     2602643480x410x420x57            ABW           Aruba   \n",
       "...                     ...            ...             ...   \n",
       "9024  3603482760x5a0x570x45            ZWE        Zimbabue   \n",
       "9025  3603482760x5a0x570x45            ZWE        Zimbabue   \n",
       "9026  3603482760x5a0x570x45            ZWE        Zimbabue   \n",
       "9027  3603482760x5a0x570x45            ZWE        Zimbabue   \n",
       "9028  3603482760x5a0x570x45            ZWE        Zimbabue   \n",
       "\n",
       "                       Región  \n",
       "0     América Latina y Caribe  \n",
       "1     América Latina y Caribe  \n",
       "2     América Latina y Caribe  \n",
       "3     América Latina y Caribe  \n",
       "4     América Latina y Caribe  \n",
       "...                       ...  \n",
       "9024      África subsahariana  \n",
       "9025      África subsahariana  \n",
       "9026      África subsahariana  \n",
       "9027      África subsahariana  \n",
       "9028      África subsahariana  \n",
       "\n",
       "[9029 rows x 7 columns]"
      ]
     },
     "execution_count": 80,
     "metadata": {},
     "output_type": "execute_result"
    }
   ],
   "source": [
    "df_datos.merge(df_paises, on=['Clave_Hash'])"
   ]
  },
  {
   "cell_type": "markdown",
   "metadata": {},
   "source": [
    "Vemos que tenemos nuevamente los 9029 registros y que está todo bien. Ahora voy a crear un nuevo df con esta unión."
   ]
  },
  {
   "cell_type": "code",
   "execution_count": 81,
   "metadata": {},
   "outputs": [],
   "source": [
    "df_final = df_datos.merge(df_paises, on=['Clave_Hash'])"
   ]
  },
  {
   "cell_type": "code",
   "execution_count": 82,
   "metadata": {},
   "outputs": [
    {
     "data": {
      "text/html": [
       "<div>\n",
       "<style scoped>\n",
       "    .dataframe tbody tr th:only-of-type {\n",
       "        vertical-align: middle;\n",
       "    }\n",
       "\n",
       "    .dataframe tbody tr th {\n",
       "        vertical-align: top;\n",
       "    }\n",
       "\n",
       "    .dataframe thead th {\n",
       "        text-align: right;\n",
       "    }\n",
       "</style>\n",
       "<table border=\"1\" class=\"dataframe\">\n",
       "  <thead>\n",
       "    <tr style=\"text-align: right;\">\n",
       "      <th></th>\n",
       "      <th>Año</th>\n",
       "      <th>CO2 (kt)</th>\n",
       "      <th>CO2 per cápita (toneladas métricas)</th>\n",
       "      <th>Clave_Hash</th>\n",
       "      <th>Código de país</th>\n",
       "      <th>Nombre del país</th>\n",
       "      <th>Región</th>\n",
       "    </tr>\n",
       "  </thead>\n",
       "  <tbody>\n",
       "    <tr>\n",
       "      <th>0</th>\n",
       "      <td>1986</td>\n",
       "      <td>179,683</td>\n",
       "      <td>2.868319</td>\n",
       "      <td>2602643480x410x420x57</td>\n",
       "      <td>ABW</td>\n",
       "      <td>Aruba</td>\n",
       "      <td>América Latina y Caribe</td>\n",
       "    </tr>\n",
       "    <tr>\n",
       "      <th>1</th>\n",
       "      <td>1987</td>\n",
       "      <td>447,374</td>\n",
       "      <td>7.234964</td>\n",
       "      <td>2602643480x410x420x57</td>\n",
       "      <td>ABW</td>\n",
       "      <td>Aruba</td>\n",
       "      <td>América Latina y Caribe</td>\n",
       "    </tr>\n",
       "    <tr>\n",
       "      <th>2</th>\n",
       "      <td>1988</td>\n",
       "      <td>612,389</td>\n",
       "      <td>10.026508</td>\n",
       "      <td>2602643480x410x420x57</td>\n",
       "      <td>ABW</td>\n",
       "      <td>Aruba</td>\n",
       "      <td>América Latina y Caribe</td>\n",
       "    </tr>\n",
       "    <tr>\n",
       "      <th>3</th>\n",
       "      <td>1989</td>\n",
       "      <td>649,059</td>\n",
       "      <td>10.634733</td>\n",
       "      <td>2602643480x410x420x57</td>\n",
       "      <td>ABW</td>\n",
       "      <td>Aruba</td>\n",
       "      <td>América Latina y Caribe</td>\n",
       "    </tr>\n",
       "    <tr>\n",
       "      <th>4</th>\n",
       "      <td>1990</td>\n",
       "      <td>1.840,83</td>\n",
       "      <td>29.620165</td>\n",
       "      <td>2602643480x410x420x57</td>\n",
       "      <td>ABW</td>\n",
       "      <td>Aruba</td>\n",
       "      <td>América Latina y Caribe</td>\n",
       "    </tr>\n",
       "    <tr>\n",
       "      <th>...</th>\n",
       "      <td>...</td>\n",
       "      <td>...</td>\n",
       "      <td>...</td>\n",
       "      <td>...</td>\n",
       "      <td>...</td>\n",
       "      <td>...</td>\n",
       "      <td>...</td>\n",
       "    </tr>\n",
       "    <tr>\n",
       "      <th>9024</th>\n",
       "      <td>2007</td>\n",
       "      <td>9.732,22</td>\n",
       "      <td>0.731867</td>\n",
       "      <td>3603482760x5a0x570x45</td>\n",
       "      <td>ZWE</td>\n",
       "      <td>Zimbabue</td>\n",
       "      <td>África subsahariana</td>\n",
       "    </tr>\n",
       "    <tr>\n",
       "      <th>9025</th>\n",
       "      <td>2008</td>\n",
       "      <td>7.682,37</td>\n",
       "      <td>0.569255</td>\n",
       "      <td>3603482760x5a0x570x45</td>\n",
       "      <td>ZWE</td>\n",
       "      <td>Zimbabue</td>\n",
       "      <td>África subsahariana</td>\n",
       "    </tr>\n",
       "    <tr>\n",
       "      <th>9026</th>\n",
       "      <td>2009</td>\n",
       "      <td>8.239,75</td>\n",
       "      <td>0.600521</td>\n",
       "      <td>3603482760x5a0x570x45</td>\n",
       "      <td>ZWE</td>\n",
       "      <td>Zimbabue</td>\n",
       "      <td>África subsahariana</td>\n",
       "    </tr>\n",
       "    <tr>\n",
       "      <th>9027</th>\n",
       "      <td>2010</td>\n",
       "      <td>9.028,15</td>\n",
       "      <td>0.646073</td>\n",
       "      <td>3603482760x5a0x570x45</td>\n",
       "      <td>ZWE</td>\n",
       "      <td>Zimbabue</td>\n",
       "      <td>África subsahariana</td>\n",
       "    </tr>\n",
       "    <tr>\n",
       "      <th>9028</th>\n",
       "      <td>2011</td>\n",
       "      <td>9.860,56</td>\n",
       "      <td>0.691698</td>\n",
       "      <td>3603482760x5a0x570x45</td>\n",
       "      <td>ZWE</td>\n",
       "      <td>Zimbabue</td>\n",
       "      <td>África subsahariana</td>\n",
       "    </tr>\n",
       "  </tbody>\n",
       "</table>\n",
       "<p>9029 rows × 7 columns</p>\n",
       "</div>"
      ],
      "text/plain": [
       "       Año  CO2 (kt)  CO2 per cápita (toneladas métricas)  \\\n",
       "0     1986   179,683                             2.868319   \n",
       "1     1987   447,374                             7.234964   \n",
       "2     1988   612,389                            10.026508   \n",
       "3     1989   649,059                            10.634733   \n",
       "4     1990  1.840,83                            29.620165   \n",
       "...    ...       ...                                  ...   \n",
       "9024  2007  9.732,22                             0.731867   \n",
       "9025  2008  7.682,37                             0.569255   \n",
       "9026  2009  8.239,75                             0.600521   \n",
       "9027  2010  9.028,15                             0.646073   \n",
       "9028  2011  9.860,56                             0.691698   \n",
       "\n",
       "                 Clave_Hash Código de país Nombre del país  \\\n",
       "0     2602643480x410x420x57            ABW           Aruba   \n",
       "1     2602643480x410x420x57            ABW           Aruba   \n",
       "2     2602643480x410x420x57            ABW           Aruba   \n",
       "3     2602643480x410x420x57            ABW           Aruba   \n",
       "4     2602643480x410x420x57            ABW           Aruba   \n",
       "...                     ...            ...             ...   \n",
       "9024  3603482760x5a0x570x45            ZWE        Zimbabue   \n",
       "9025  3603482760x5a0x570x45            ZWE        Zimbabue   \n",
       "9026  3603482760x5a0x570x45            ZWE        Zimbabue   \n",
       "9027  3603482760x5a0x570x45            ZWE        Zimbabue   \n",
       "9028  3603482760x5a0x570x45            ZWE        Zimbabue   \n",
       "\n",
       "                       Región  \n",
       "0     América Latina y Caribe  \n",
       "1     América Latina y Caribe  \n",
       "2     América Latina y Caribe  \n",
       "3     América Latina y Caribe  \n",
       "4     América Latina y Caribe  \n",
       "...                       ...  \n",
       "9024      África subsahariana  \n",
       "9025      África subsahariana  \n",
       "9026      África subsahariana  \n",
       "9027      África subsahariana  \n",
       "9028      África subsahariana  \n",
       "\n",
       "[9029 rows x 7 columns]"
      ]
     },
     "execution_count": 82,
     "metadata": {},
     "output_type": "execute_result"
    }
   ],
   "source": [
    "df_final"
   ]
  }
 ],
 "metadata": {
  "kernelspec": {
   "display_name": "Python 3",
   "language": "python",
   "name": "python3"
  },
  "language_info": {
   "codemirror_mode": {
    "name": "ipython",
    "version": 3
   },
   "file_extension": ".py",
   "mimetype": "text/x-python",
   "name": "python",
   "nbconvert_exporter": "python",
   "pygments_lexer": "ipython3",
   "version": "3.11.2"
  }
 },
 "nbformat": 4,
 "nbformat_minor": 4
}
