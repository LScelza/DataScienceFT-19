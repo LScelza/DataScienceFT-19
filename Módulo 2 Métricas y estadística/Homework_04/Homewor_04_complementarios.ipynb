{
 "cells": [
  {
   "cell_type": "markdown",
   "metadata": {},
   "source": [
    "11. Cada 3 días ingresan 10 estudiantes nuevos al Prep Course de Henry, calcule la probabilidad de que ingresen 15 nuevos estudiantes en un período de 6 días."
   ]
  },
  {
   "cell_type": "code",
   "execution_count": 1,
   "metadata": {},
   "outputs": [],
   "source": [
    "import scipy.stats as sp"
   ]
  },
  {
   "cell_type": "code",
   "execution_count": 3,
   "metadata": {},
   "outputs": [
    {
     "name": "stdout",
     "output_type": "stream",
     "text": [
      "La probabilidad de que ingresen 15 alumnos en 6 días es de 0.05.\n"
     ]
    }
   ],
   "source": [
    "# Estamos hablando de nuevo de tiempo, por lo que usamos la distribución de Poisson.\n",
    "# En este caso, el promedio está para 3 días y necesitamos un intervalo de 6 días.\n",
    "promedio_6_dias = 10/3*6\n",
    "p_15_6 = round(sp.poisson.pmf(15,promedio_6_dias),2)\n",
    "print(f'La probabilidad de que ingresen 15 alumnos en 6 días es de {p_15_6}.')\n"
   ]
  },
  {
   "cell_type": "markdown",
   "metadata": {},
   "source": [
    "12. En una distribución de Poisson de lamba_np=3, cual es la probabilidad de x>=1.<br>\n"
   ]
  },
  {
   "cell_type": "code",
   "execution_count": 12,
   "metadata": {},
   "outputs": [
    {
     "name": "stdout",
     "output_type": "stream",
     "text": [
      "La probabilidad de que ocurra algún evento es de 0.95.\n"
     ]
    }
   ],
   "source": [
    "\"\"\"\n",
    "La fórmula de esta distibución es:\n",
    "P(x = k) = (l ** k) * (e ** -l) / (K!)\n",
    "l(lambda) = espacio muestral\n",
    "k = número de éxitos\n",
    "Piden la probabilidad de x >= 1. Si sabemos P(x = 0), el complemento nos daría la probabilidad de que ocurra cualquier evento. \n",
    "\"\"\"\n",
    "\n",
    "\n",
    "l = 3  # Lo da la consigna\n",
    "k = 0  # Para P(x = 0)\n",
    "# si queremos calcular la cantidad de veces que van a ocurrir 0 eventos en lambda = 3 podemos usar \n",
    "# poisson.pmf() como antes.\n",
    "p_x_0 = sp.poisson.pmf(0,3)\n",
    "# Y el complemento nos va a dar la probabilidad de que ocurra algún evento.\n",
    "\"\"\"\n",
    "Para entenderlo mejor:\n",
    "\n",
    "\n",
    "Pongamos el ejemplo del dado. Sabemos que la probabilidad de que salga un número del espacio muestral (1, 2, 3, 4, 5, 6 ) es de 1/6. También sabemos que la probabilidad total es la suma de todas las probabilidades. O sea que podemos calcular la probabilidad de un número como 1 - 5/6, usando el complemento.\n",
    "\n",
    "En el ejercicio nos pide la probabilidad de que ocurra al menos un evento (x >= 1). No podemos calcularla, pero sí podemos calcular la de que no ocurra ningún evento y usar el complemento. \n",
    "\"\"\"\n",
    "\n",
    "p_x_1_o_mas = round(1-p_x_0, 2)\n",
    "\n",
    "print(f'La probabilidad de que ocurra algún evento es de {p_x_1_o_mas}.')\n",
    "\n",
    "\n"
   ]
  },
  {
   "cell_type": "markdown",
   "metadata": {},
   "source": [
    "13. La calificación promedio de los estudiantes de Henry es de 78 con una desviación estandar de 25. Cual es la probabilidad de tener estudiantes con calificaciones mayores o iguales 90."
   ]
  },
  {
   "cell_type": "code",
   "execution_count": 18,
   "metadata": {},
   "outputs": [
    {
     "name": "stdout",
     "output_type": "stream",
     "text": [
      "La probabilidad es de 0.32.\n"
     ]
    }
   ],
   "source": [
    "\"\"\"\n",
    " En una distribución normal de probabilidad sabemos que:\n",
    "\n",
    " z = (x - m) / s \n",
    "\n",
    "x = probabilidad que queremos saber \n",
    "m = media\n",
    "s = desviación estándar\n",
    "\n",
    "El ejercicio da los valores de x, m y s. \n",
    "\n",
    "Podemos calcular la probabilidad con el método norm.cdf() de scipy para calcular probabilidad mayor o igual a x.\n",
    "Recibe 3 argumentos:\n",
    "x\n",
    "loc= media\n",
    "scale = desviación estándar\n",
    "\n",
    "\"\"\"\n",
    "p_mayor_igual_90 = round(1 - sp.norm.cdf(90, loc=78, scale=25), 2)\n",
    "\n",
    "print(f'La probabilidad es de {p_mayor_igual_90}.')\n"
   ]
  }
 ],
 "metadata": {
  "kernelspec": {
   "display_name": "Python 3",
   "language": "python",
   "name": "python3"
  },
  "language_info": {
   "codemirror_mode": {
    "name": "ipython",
    "version": 3
   },
   "file_extension": ".py",
   "mimetype": "text/x-python",
   "name": "python",
   "nbconvert_exporter": "python",
   "pygments_lexer": "ipython3",
   "version": "3.11.2"
  }
 },
 "nbformat": 4,
 "nbformat_minor": 2
}
