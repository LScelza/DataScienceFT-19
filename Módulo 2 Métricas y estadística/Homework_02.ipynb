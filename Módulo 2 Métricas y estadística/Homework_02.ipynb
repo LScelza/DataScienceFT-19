{
 "cells": [
  {
   "cell_type": "markdown",
   "metadata": {},
   "source": [
    "Utilizando Python calcular las siguientes probabilidades. Para cada uno intenta determinar qué método aplicaste."
   ]
  },
  {
   "cell_type": "markdown",
   "metadata": {},
   "source": [
    "1. Lanza una moneda al aire 10 veces, ¿cuantos resultados posibles forman parte del espacio muestral?\n"
   ]
  },
  {
   "cell_type": "code",
   "execution_count": 19,
   "metadata": {},
   "outputs": [],
   "source": [
    "import math\n",
    "import pandas as pd"
   ]
  },
  {
   "cell_type": "markdown",
   "metadata": {},
   "source": [
    "El espacio muestral para un lanzamiento está formado por dos resultados. Para n lanzamientos, 2 ** n."
   ]
  },
  {
   "cell_type": "code",
   "execution_count": 2,
   "metadata": {},
   "outputs": [
    {
     "name": "stdout",
     "output_type": "stream",
     "text": [
      "2\n",
      "1024\n"
     ]
    }
   ],
   "source": [
    "espacio_muestral_1_lanzamiento = ['Cara', 'Cruz']\n",
    "print(len(espacio_muestral_1_lanzamiento))\n",
    "lanzamientos = 10\n",
    "espacio_muestral = len(espacio_muestral_1_lanzamiento) ** lanzamientos\n",
    "print(espacio_muestral)"
   ]
  },
  {
   "cell_type": "markdown",
   "metadata": {},
   "source": [
    "2. En un aeropuerto se tiene a 10 pasajeros esperando en la sala de preembarque, la polícia debe controlar a 3 de ellos. ¿Cuantas combinaciones posibles se pueden obtener?"
   ]
  },
  {
   "cell_type": "markdown",
   "metadata": {},
   "source": [
    "En este caso no es importante el orden, por lo que se trata de una combinación."
   ]
  },
  {
   "cell_type": "code",
   "execution_count": 3,
   "metadata": {},
   "outputs": [
    {
     "name": "stdout",
     "output_type": "stream",
     "text": [
      "120\n"
     ]
    }
   ],
   "source": [
    "pasajeros_en_espera = 10\n",
    "pasajeros_a_seleccionar = 3\n",
    "combinaciones = math.comb(pasajeros_en_espera, pasajeros_a_seleccionar)\n",
    "print(combinaciones)"
   ]
  },
  {
   "cell_type": "markdown",
   "metadata": {},
   "source": [
    "3. La Agencia Nacional de Seguridad Vial realizó una investigación para saber si los conductores de están usando sus cinturones de seguridad. Los datos muestrales fueron los siguientes:"
   ]
  },
  {
   "cell_type": "code",
   "execution_count": 32,
   "metadata": {},
   "outputs": [
    {
     "data": {
      "text/html": [
       "<div>\n",
       "<style scoped>\n",
       "    .dataframe tbody tr th:only-of-type {\n",
       "        vertical-align: middle;\n",
       "    }\n",
       "\n",
       "    .dataframe tbody tr th {\n",
       "        vertical-align: top;\n",
       "    }\n",
       "\n",
       "    .dataframe thead th {\n",
       "        text-align: right;\n",
       "    }\n",
       "</style>\n",
       "<table border=\"1\" class=\"dataframe\">\n",
       "  <thead>\n",
       "    <tr style=\"text-align: right;\">\n",
       "      <th></th>\n",
       "      <th>Región</th>\n",
       "      <th>si</th>\n",
       "      <th>no</th>\n",
       "    </tr>\n",
       "  </thead>\n",
       "  <tbody>\n",
       "    <tr>\n",
       "      <th>0</th>\n",
       "      <td>Norte</td>\n",
       "      <td>148</td>\n",
       "      <td>52</td>\n",
       "    </tr>\n",
       "    <tr>\n",
       "      <th>1</th>\n",
       "      <td>Noroeste</td>\n",
       "      <td>162</td>\n",
       "      <td>54</td>\n",
       "    </tr>\n",
       "    <tr>\n",
       "      <th>2</th>\n",
       "      <td>Sur</td>\n",
       "      <td>296</td>\n",
       "      <td>74</td>\n",
       "    </tr>\n",
       "    <tr>\n",
       "      <th>3</th>\n",
       "      <td>Centro</td>\n",
       "      <td>252</td>\n",
       "      <td>48</td>\n",
       "    </tr>\n",
       "    <tr>\n",
       "      <th>4</th>\n",
       "      <td>Total</td>\n",
       "      <td>858</td>\n",
       "      <td>228</td>\n",
       "    </tr>\n",
       "  </tbody>\n",
       "</table>\n",
       "</div>"
      ],
      "text/plain": [
       "     Región   si   no\n",
       "0     Norte  148   52\n",
       "1  Noroeste  162   54\n",
       "2       Sur  296   74\n",
       "3    Centro  252   48\n",
       "4     Total  858  228"
      ]
     },
     "execution_count": 32,
     "metadata": {},
     "output_type": "execute_result"
    }
   ],
   "source": [
    "tabla = {'Región': ['Norte', 'Noroeste', 'Sur', 'Centro', 'Total'],\n",
    "        'si': [148, 162, 296, 252, 858],\n",
    "        'no': [52, 54, 74, 48, 228]}\n",
    "\n",
    "df = pd.DataFrame(tabla)\n",
    "\n",
    "\n",
    "df"
   ]
  },
  {
   "cell_type": "markdown",
   "metadata": {},
   "source": [
    "a) ¿Qué metodo cree que se utilizo para asignar probabilidades?"
   ]
  },
  {
   "cell_type": "markdown",
   "metadata": {},
   "source": [
    "Frecuencia"
   ]
  },
  {
   "cell_type": "markdown",
   "metadata": {},
   "source": [
    "b) Construya un cuadro similar, pero con la asignación de probabilidades."
   ]
  },
  {
   "cell_type": "code",
   "execution_count": 34,
   "metadata": {},
   "outputs": [
    {
     "data": {
      "text/html": [
       "<div>\n",
       "<style scoped>\n",
       "    .dataframe tbody tr th:only-of-type {\n",
       "        vertical-align: middle;\n",
       "    }\n",
       "\n",
       "    .dataframe tbody tr th {\n",
       "        vertical-align: top;\n",
       "    }\n",
       "\n",
       "    .dataframe thead th {\n",
       "        text-align: right;\n",
       "    }\n",
       "</style>\n",
       "<table border=\"1\" class=\"dataframe\">\n",
       "  <thead>\n",
       "    <tr style=\"text-align: right;\">\n",
       "      <th></th>\n",
       "      <th>Región</th>\n",
       "      <th>si</th>\n",
       "      <th>no</th>\n",
       "    </tr>\n",
       "  </thead>\n",
       "  <tbody>\n",
       "    <tr>\n",
       "      <th>0</th>\n",
       "      <td>Norte</td>\n",
       "      <td>0.740000</td>\n",
       "      <td>0.260000</td>\n",
       "    </tr>\n",
       "    <tr>\n",
       "      <th>1</th>\n",
       "      <td>Noroeste</td>\n",
       "      <td>0.750000</td>\n",
       "      <td>0.250000</td>\n",
       "    </tr>\n",
       "    <tr>\n",
       "      <th>2</th>\n",
       "      <td>Sur</td>\n",
       "      <td>0.800000</td>\n",
       "      <td>0.200000</td>\n",
       "    </tr>\n",
       "    <tr>\n",
       "      <th>3</th>\n",
       "      <td>Centro</td>\n",
       "      <td>0.840000</td>\n",
       "      <td>0.160000</td>\n",
       "    </tr>\n",
       "    <tr>\n",
       "      <th>4</th>\n",
       "      <td>Total</td>\n",
       "      <td>0.790055</td>\n",
       "      <td>0.209945</td>\n",
       "    </tr>\n",
       "  </tbody>\n",
       "</table>\n",
       "</div>"
      ],
      "text/plain": [
       "     Región        si        no\n",
       "0     Norte  0.740000  0.260000\n",
       "1  Noroeste  0.750000  0.250000\n",
       "2       Sur  0.800000  0.200000\n",
       "3    Centro  0.840000  0.160000\n",
       "4     Total  0.790055  0.209945"
      ]
     },
     "execution_count": 34,
     "metadata": {},
     "output_type": "execute_result"
    }
   ],
   "source": [
    "p_norte = 148/(148+52)\n",
    "p_noroeste = 162/(162+54)\n",
    "p_sur = 296/(296+74)\n",
    "p_centro = 252/(252+48)\n",
    "p_total = 858/(858+228)\n",
    "\n",
    "tabla_1 = {'Región': ['Norte', 'Noroeste', 'Sur', 'Centro', 'Total'],\n",
    "            'si': [p_norte, p_noroeste, p_sur, p_centro, p_total],\n",
    "            'no': [1-p_norte, 1-p_noroeste, 1-p_sur, 1-p_centro, 1-p_total]}\n",
    "\n",
    "df_1 = pd.DataFrame(tabla_1)\n",
    "df_1\n"
   ]
  },
  {
   "cell_type": "markdown",
   "metadata": {},
   "source": [
    "c) ¿Cuál sería el mejor método pára estimar la probabilidad de que en Estados Unidos un conductor lleve puesto el cinturón?"
   ]
  },
  {
   "cell_type": "markdown",
   "metadata": {},
   "source": [
    "Desde mi punto de vista, el enfoque bayesiano."
   ]
  },
  {
   "cell_type": "markdown",
   "metadata": {},
   "source": [
    "d) Un año antes, la probabilidad en Argentina de que un conductor llevara puesto el cinturón era 0.75. El director de ANSV, se esperaba que la probabilidad llegara a 0.78. ¿Estará satisfecho con los resultados del estudio?"
   ]
  },
  {
   "cell_type": "markdown",
   "metadata": {},
   "source": [
    "En función de la tabla, sí, ya que da una probabilidad de 0.79. No obstante, es una muestra muy chica para el problema planteado."
   ]
  },
  {
   "cell_type": "markdown",
   "metadata": {},
   "source": [
    "e) ¿Cuál es la probabilidad de que se use el cinturón en las distintas regiones del país? ¿En qué región se usa más el cinturón?(Utilizar misma tabla que el ejercicio anterior)"
   ]
  },
  {
   "cell_type": "markdown",
   "metadata": {},
   "source": [
    "Las probabilidades están indicadas en la tabla. Se usa más en la región del centro. Pero, de nuevo, es una muestra muy chica como para sacar una conclusión."
   ]
  },
  {
   "cell_type": "markdown",
   "metadata": {},
   "source": [
    "4. Crear una funcion que permita calcular a probabilidad de los siguientes eventos en un baraja de 52 cartas.\n",
    "- Obtener una carta roja.\n",
    "- Obtener una carta negra.\n",
    "- Obtener una pica.\n",
    "- Obtener un trébol.\n",
    "- Obtener un corazón.\n",
    "- Obtener un diamante."
   ]
  },
  {
   "cell_type": "code",
   "execution_count": 4,
   "metadata": {},
   "outputs": [],
   "source": [
    "\"\"\"\n",
    "Cartas totales: 52\n",
    "Cartas rojas: 26\n",
    "Cartas negras: 26\n",
    "Cartas de pica: 13\n",
    "Cartas de trébol: 13\n",
    "Cartas de corazón: 13\n",
    "Cartas de diamante: 13\n",
    "\"\"\"\n",
    "\n",
    "\n",
    "def probabilidad() -> str:\n",
    "    opcion = input('Elija una opción [Roja/Negra/Pica/Trébol/Corazón/Diamante]: ').replace('é', 'e').replace('ó', 'o').lower()\n",
    "    OPCIONES = ['roja', 'negra', 'pica', 'trebol', 'corazon', 'diamante']\n",
    "    while True:\n",
    "        if opcion not in OPCIONES:\n",
    "            opcion = input('Error. Elija una opción válida [Roja/Negra/Pica/Trébol/Corazón/Diamante]: ').replace('é', 'e').replace('ó', 'o').lower()\n",
    "        else:\n",
    "            break\n",
    "    if opcion == 'negra' or opcion == 'roja':\n",
    "        return f'La probabilidad de que salga una carta {opcion} es de {26/52} ({26/52*100} %).'\n",
    "    else:\n",
    "        return f'La probabilidad de que salga una carta de {opcion} es de {13/52} ({13/52*100} %).'\n",
    "     "
   ]
  },
  {
   "cell_type": "code",
   "execution_count": 5,
   "metadata": {},
   "outputs": [
    {
     "data": {
      "text/plain": [
       "'La probabilidad de que salga una carta roja es de 0.5 (50.0 %).'"
      ]
     },
     "execution_count": 5,
     "metadata": {},
     "output_type": "execute_result"
    }
   ],
   "source": [
    "# Carta roja\n",
    "probabilidad()"
   ]
  },
  {
   "cell_type": "code",
   "execution_count": 6,
   "metadata": {},
   "outputs": [
    {
     "data": {
      "text/plain": [
       "'La probabilidad de que salga una carta negra es de 0.5 (50.0 %).'"
      ]
     },
     "execution_count": 6,
     "metadata": {},
     "output_type": "execute_result"
    }
   ],
   "source": [
    "# Carta negra\n",
    "probabilidad()"
   ]
  },
  {
   "cell_type": "code",
   "execution_count": 7,
   "metadata": {},
   "outputs": [
    {
     "data": {
      "text/plain": [
       "'La probabilidad de que salga una carta de pica es de 0.25 (25.0 %).'"
      ]
     },
     "execution_count": 7,
     "metadata": {},
     "output_type": "execute_result"
    }
   ],
   "source": [
    "# Carta de pica\n",
    "probabilidad()"
   ]
  },
  {
   "cell_type": "code",
   "execution_count": 8,
   "metadata": {},
   "outputs": [
    {
     "data": {
      "text/plain": [
       "'La probabilidad de que salga una carta de trebol es de 0.25 (25.0 %).'"
      ]
     },
     "execution_count": 8,
     "metadata": {},
     "output_type": "execute_result"
    }
   ],
   "source": [
    "# Carta de trébol\n",
    "probabilidad()"
   ]
  },
  {
   "cell_type": "code",
   "execution_count": 9,
   "metadata": {},
   "outputs": [
    {
     "data": {
      "text/plain": [
       "'La probabilidad de que salga una carta de corazon es de 0.25 (25.0 %).'"
      ]
     },
     "execution_count": 9,
     "metadata": {},
     "output_type": "execute_result"
    }
   ],
   "source": [
    "# Carta de corazón\n",
    "probabilidad()"
   ]
  },
  {
   "cell_type": "code",
   "execution_count": 10,
   "metadata": {},
   "outputs": [
    {
     "data": {
      "text/plain": [
       "'La probabilidad de que salga una carta de diamante es de 0.25 (25.0 %).'"
      ]
     },
     "execution_count": 10,
     "metadata": {},
     "output_type": "execute_result"
    }
   ],
   "source": [
    "# Carta de diamante\n",
    "probabilidad()"
   ]
  },
  {
   "cell_type": "markdown",
   "metadata": {},
   "source": [
    "5. La probabilidad de que salga un 7 o un 8 al seleccionar una carta de una baraja de las 52 cartas que contiene el mazo."
   ]
  },
  {
   "cell_type": "code",
   "execution_count": 11,
   "metadata": {},
   "outputs": [
    {
     "name": "stdout",
     "output_type": "stream",
     "text": [
      "La probabilidad de que salga un 7 o un 8 es de 0.15385 (15.384999999999998 %).\n"
     ]
    }
   ],
   "source": [
    "probabilidad_7 = 4/52\n",
    "probabilidad_8 = 4/52\n",
    "probabilidad_7_8 = round(probabilidad_7 + probabilidad_8, 5)\n",
    "print(f'La probabilidad de que salga un 7 o un 8 es de {probabilidad_7_8} ({probabilidad_7_8*100} %).')"
   ]
  },
  {
   "cell_type": "markdown",
   "metadata": {},
   "source": [
    "6. La probabilidad de tu país gane el mundial de fútbol."
   ]
  },
  {
   "cell_type": "markdown",
   "metadata": {},
   "source": [
    "En este caso influyen muchos factores para calcular la probabilidad real en términos de probabilidad clásica. Le voy a asignar una probabilidad subjetiva de 0.7883 (78.83 %). Si se refiere a la probabilidad en cuanto a la cantidad de equipos, suponiendo (erróneamente) que todos tienen la misma probabilidad: "
   ]
  },
  {
   "cell_type": "code",
   "execution_count": 12,
   "metadata": {},
   "outputs": [
    {
     "data": {
      "text/plain": [
       "0.03125"
      ]
     },
     "execution_count": 12,
     "metadata": {},
     "output_type": "execute_result"
    }
   ],
   "source": [
    "p = 1/32\n",
    "p"
   ]
  },
  {
   "cell_type": "markdown",
   "metadata": {},
   "source": [
    "7. Un experimento que tiene tres resultados es repetido 50 veces y se ve que E1 aparece 20 veces, E2 13 veces y E3 17 veces. Asigne probabilidades a los resultados."
   ]
  },
  {
   "cell_type": "code",
   "execution_count": 13,
   "metadata": {},
   "outputs": [
    {
     "name": "stdout",
     "output_type": "stream",
     "text": [
      "\n",
      "Probabilidad E1: 0.4 (40.0 %).\n",
      "Probabilidad E2: 0.26 (26.0 %).\n",
      "Probabilidad E3: 0.34 (34.0 %).\n"
     ]
    }
   ],
   "source": [
    "total = 50\n",
    "e1 = 20\n",
    "e2 = 13\n",
    "e3 = 17\n",
    "pe1 = e1/total\n",
    "pe2 = e2/total\n",
    "pe3 = e3/total\n",
    "print(f'\\nProbabilidad E1: {pe1} ({pe1*100} %).\\nProbabilidad E2: {pe2} ({pe2*100} %).\\nProbabilidad E3: {pe3} ({pe3*100} %).')"
   ]
  },
  {
   "cell_type": "code",
   "execution_count": 14,
   "metadata": {},
   "outputs": [
    {
     "data": {
      "text/plain": [
       "True"
      ]
     },
     "execution_count": 14,
     "metadata": {},
     "output_type": "execute_result"
    }
   ],
   "source": [
    "comprobacion = pe1 + pe2 + pe3 == 1\n",
    "comprobacion"
   ]
  },
  {
   "cell_type": "markdown",
   "metadata": {},
   "source": [
    "Desafíos complementarios"
   ]
  },
  {
   "cell_type": "markdown",
   "metadata": {},
   "source": [
    "1. Si la probabilidad de que un cliente pague en efectivo (E) es 6/15, con tarjeta de crédito (TD) es 7/15 y con tarjeta de débito (TD) es 2/15. Hallar la probabilidad de que dos clientes sucesivos que pagan sus cuentas lo hagan:\n",
    "\n",
    " a) el primero en efectivo y el segundo con tarjeta de crédito.\n",
    " \n",
    " b) Los dos clientes en efectivo"
   ]
  },
  {
   "cell_type": "code",
   "execution_count": 15,
   "metadata": {},
   "outputs": [],
   "source": [
    "p_efectivo = 6/15\n",
    "p_credito = 7/15\n",
    "p_debito = 2/15"
   ]
  },
  {
   "cell_type": "code",
   "execution_count": 16,
   "metadata": {},
   "outputs": [
    {
     "data": {
      "text/plain": [
       "0.18666666666666668"
      ]
     },
     "execution_count": 16,
     "metadata": {},
     "output_type": "execute_result"
    }
   ],
   "source": [
    "# El primero en efectivo y el segundo con tarjeta de crédito:\n",
    "pa = p_efectivo*p_credito\n",
    "pa"
   ]
  },
  {
   "cell_type": "code",
   "execution_count": 17,
   "metadata": {},
   "outputs": [
    {
     "data": {
      "text/plain": [
       "0.16000000000000003"
      ]
     },
     "execution_count": 17,
     "metadata": {},
     "output_type": "execute_result"
    }
   ],
   "source": [
    "# Los dos en efectivo:\n",
    "pb = p_efectivo*p_efectivo\n",
    "pb"
   ]
  },
  {
   "cell_type": "markdown",
   "metadata": {},
   "source": [
    "2. La probabilidad de que un Henry repruebe el M1 es de 0.8, de que apruebe M2 es 0.5 y de que repruebe el M3 es de 0.4 (los eventos no interfieren entre si).\n",
    "\n",
    "Determinar la probabilidad de que:\n",
    "\n",
    " a) Apruebe un módulo.\n",
    " \n",
    " b) Repruebe las tres materias."
   ]
  },
  {
   "cell_type": "code",
   "execution_count": 18,
   "metadata": {},
   "outputs": [
    {
     "name": "stdout",
     "output_type": "stream",
     "text": [
      "La probabilidad de aprobar al menos una materia es de 0.84 (84.0 %).\n",
      "La probabilidad de reprobar todas es de 0.16000000000000003 (16.000000000000004 %).\n"
     ]
    }
   ],
   "source": [
    "# Para resolver este ejercicio, primero voy a calcular las probabilidades de que no apruebe ninguna materia. Las probabilidades de aprobar al menos una va a ser el complemento.\n",
    "p_r_m1 = 0.8\n",
    "p_a_m1 = 1 - 0.8\n",
    "p_a_m2 = 0.5\n",
    "p_r_m2 = 1 - 0.5\n",
    "p_r_m3 = 0.4\n",
    "p_a_m3 = 1 - 0.4\n",
    "p_reprobar_todas = p_r_m1 * p_r_m2 * p_r_m3\n",
    "p_aprobar_una = 1 - p_reprobar_todas\n",
    "print(f'La probabilidad de aprobar al menos una materia es de {p_aprobar_una} ({p_aprobar_una*100} %).')\n",
    "print(f'La probabilidad de reprobar todas es de {p_reprobar_todas} ({p_reprobar_todas*100} %).')"
   ]
  }
 ],
 "metadata": {
  "kernelspec": {
   "display_name": "Python 3",
   "language": "python",
   "name": "python3"
  },
  "language_info": {
   "codemirror_mode": {
    "name": "ipython",
    "version": 3
   },
   "file_extension": ".py",
   "mimetype": "text/x-python",
   "name": "python",
   "nbconvert_exporter": "python",
   "pygments_lexer": "ipython3",
   "version": "3.11.2"
  }
 },
 "nbformat": 4,
 "nbformat_minor": 2
}
