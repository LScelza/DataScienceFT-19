{
 "cells": [
  {
   "cell_type": "code",
   "execution_count": 2,
   "metadata": {},
   "outputs": [],
   "source": [
    "import pandas as pd"
   ]
  },
  {
   "cell_type": "markdown",
   "metadata": {},
   "source": [
    "35. El Departamento de Estadística Laboral de Estados Unidos reúne datos sobre las ocupaciones de\n",
    "las personas entre 25 y 64 años. La tabla siguiente presenta el número de hombres y mujeres (en\n",
    "millones) en cada una de las categorías ocupacionales."
   ]
  },
  {
   "cell_type": "markdown",
   "metadata": {},
   "source": [
    "![Ocupaciones](/TablasAnexo/Tabla3.png)"
   ]
  },
  {
   "cell_type": "code",
   "execution_count": 3,
   "metadata": {},
   "outputs": [
    {
     "data": {
      "text/html": [
       "<div>\n",
       "<style scoped>\n",
       "    .dataframe tbody tr th:only-of-type {\n",
       "        vertical-align: middle;\n",
       "    }\n",
       "\n",
       "    .dataframe tbody tr th {\n",
       "        vertical-align: top;\n",
       "    }\n",
       "\n",
       "    .dataframe thead th {\n",
       "        text-align: right;\n",
       "    }\n",
       "</style>\n",
       "<table border=\"1\" class=\"dataframe\">\n",
       "  <thead>\n",
       "    <tr style=\"text-align: right;\">\n",
       "      <th></th>\n",
       "      <th>Ocupación</th>\n",
       "      <th>Hombres</th>\n",
       "      <th>Mujeres</th>\n",
       "    </tr>\n",
       "  </thead>\n",
       "  <tbody>\n",
       "    <tr>\n",
       "      <th>0</th>\n",
       "      <td>Directivo/Profesional</td>\n",
       "      <td>19079</td>\n",
       "      <td>19021</td>\n",
       "    </tr>\n",
       "    <tr>\n",
       "      <th>1</th>\n",
       "      <td>Enzeñanza/Ventas/Administrativo</td>\n",
       "      <td>11079</td>\n",
       "      <td>19315</td>\n",
       "    </tr>\n",
       "    <tr>\n",
       "      <th>2</th>\n",
       "      <td>Servicio</td>\n",
       "      <td>4977</td>\n",
       "      <td>7947</td>\n",
       "    </tr>\n",
       "    <tr>\n",
       "      <th>3</th>\n",
       "      <td>Producción con precisión</td>\n",
       "      <td>11682</td>\n",
       "      <td>1138</td>\n",
       "    </tr>\n",
       "    <tr>\n",
       "      <th>4</th>\n",
       "      <td>Operadores/Obrero</td>\n",
       "      <td>10576</td>\n",
       "      <td>3482</td>\n",
       "    </tr>\n",
       "    <tr>\n",
       "      <th>5</th>\n",
       "      <td>Agricultura/Ganadería/Silvicultura/Pesca</td>\n",
       "      <td>1838</td>\n",
       "      <td>514</td>\n",
       "    </tr>\n",
       "  </tbody>\n",
       "</table>\n",
       "</div>"
      ],
      "text/plain": [
       "                                  Ocupación  Hombres  Mujeres\n",
       "0                     Directivo/Profesional    19079    19021\n",
       "1           Enzeñanza/Ventas/Administrativo    11079    19315\n",
       "2                                  Servicio     4977     7947\n",
       "3                  Producción con precisión    11682     1138\n",
       "4                         Operadores/Obrero    10576     3482\n",
       "5  Agricultura/Ganadería/Silvicultura/Pesca     1838      514"
      ]
     },
     "execution_count": 3,
     "metadata": {},
     "output_type": "execute_result"
    }
   ],
   "source": [
    "df = pd.DataFrame(columns=['Ocupación', 'Hombres', 'Mujeres'])\n",
    "df.loc[len(df)] = ['Directivo/Profesional', 19079, 19021]\n",
    "df.loc[len(df)] = ['Enzeñanza/Ventas/Administrativo', 11079, 19315]\n",
    "df.loc[len(df)] = ['Servicio', 4977, 7947]\n",
    "df.loc[len(df)] = ['Producción con precisión', 11682, 1138]\n",
    "df.loc[len(df)] = ['Operadores/Obrero', 10576, 3482]\n",
    "df.loc[len(df)] = ['Agricultura/Ganadería/Silvicultura/Pesca', 1838, 514]\n",
    "df"
   ]
  },
  {
   "cell_type": "markdown",
   "metadata": {},
   "source": [
    "a. Desarrolle una tabla de probabilidad conjunta."
   ]
  },
  {
   "cell_type": "markdown",
   "metadata": {},
   "source": [
    "Desarrollo de la tabla paso a paso:"
   ]
  },
  {
   "cell_type": "code",
   "execution_count": 4,
   "metadata": {},
   "outputs": [
    {
     "data": {
      "text/html": [
       "<div>\n",
       "<style scoped>\n",
       "    .dataframe tbody tr th:only-of-type {\n",
       "        vertical-align: middle;\n",
       "    }\n",
       "\n",
       "    .dataframe tbody tr th {\n",
       "        vertical-align: top;\n",
       "    }\n",
       "\n",
       "    .dataframe thead th {\n",
       "        text-align: right;\n",
       "    }\n",
       "</style>\n",
       "<table border=\"1\" class=\"dataframe\">\n",
       "  <thead>\n",
       "    <tr style=\"text-align: right;\">\n",
       "      <th></th>\n",
       "      <th>Ocupación</th>\n",
       "      <th>Hombres</th>\n",
       "      <th>Mujeres</th>\n",
       "      <th>Total</th>\n",
       "    </tr>\n",
       "  </thead>\n",
       "  <tbody>\n",
       "    <tr>\n",
       "      <th>0</th>\n",
       "      <td>Directivo/Profesional</td>\n",
       "      <td>0.17243</td>\n",
       "      <td>0.17191</td>\n",
       "      <td>0.34434</td>\n",
       "    </tr>\n",
       "    <tr>\n",
       "      <th>1</th>\n",
       "      <td>Enzeñanza/Ventas/Administrativo</td>\n",
       "      <td>0.10013</td>\n",
       "      <td>0.17456</td>\n",
       "      <td>0.27469</td>\n",
       "    </tr>\n",
       "    <tr>\n",
       "      <th>2</th>\n",
       "      <td>Servicio</td>\n",
       "      <td>0.04498</td>\n",
       "      <td>0.07182</td>\n",
       "      <td>0.11680</td>\n",
       "    </tr>\n",
       "    <tr>\n",
       "      <th>3</th>\n",
       "      <td>Producción con precisión</td>\n",
       "      <td>0.10558</td>\n",
       "      <td>0.01028</td>\n",
       "      <td>0.11586</td>\n",
       "    </tr>\n",
       "    <tr>\n",
       "      <th>4</th>\n",
       "      <td>Operadores/Obrero</td>\n",
       "      <td>0.09558</td>\n",
       "      <td>0.03147</td>\n",
       "      <td>0.12705</td>\n",
       "    </tr>\n",
       "    <tr>\n",
       "      <th>5</th>\n",
       "      <td>Agricultura/Ganadería/Silvicultura/Pesca</td>\n",
       "      <td>0.01661</td>\n",
       "      <td>0.00465</td>\n",
       "      <td>0.02126</td>\n",
       "    </tr>\n",
       "    <tr>\n",
       "      <th>6</th>\n",
       "      <td>Total</td>\n",
       "      <td>0.53531</td>\n",
       "      <td>0.46469</td>\n",
       "      <td>1.00000</td>\n",
       "    </tr>\n",
       "  </tbody>\n",
       "</table>\n",
       "</div>"
      ],
      "text/plain": [
       "                                  Ocupación  Hombres  Mujeres    Total\n",
       "0                     Directivo/Profesional  0.17243  0.17191  0.34434\n",
       "1           Enzeñanza/Ventas/Administrativo  0.10013  0.17456  0.27469\n",
       "2                                  Servicio  0.04498  0.07182  0.11680\n",
       "3                  Producción con precisión  0.10558  0.01028  0.11586\n",
       "4                         Operadores/Obrero  0.09558  0.03147  0.12705\n",
       "5  Agricultura/Ganadería/Silvicultura/Pesca  0.01661  0.00465  0.02126\n",
       "6                                     Total  0.53531  0.46469  1.00000"
      ]
     },
     "execution_count": 4,
     "metadata": {},
     "output_type": "execute_result"
    }
   ],
   "source": [
    "df_probabilidades = df.copy()\n",
    "df_probabilidades['Hombres'] = df_probabilidades['Hombres'].astype(float)  # Cambio el tipo de dato a float.\n",
    "df_probabilidades['Mujeres'] = df_probabilidades['Mujeres'].astype(float)  # Cambio el tipo de dato a float.\n",
    "total = df['Hombres'].sum() + df['Mujeres'].sum()  # Saco el total con la suma de las columnas 'Hombres' y 'Mujeres'.\n",
    "for i in range(len(df_probabilidades)):  # En cada iteración asigno una probabilidad (valor_iteración/total).\n",
    "    df_probabilidades.loc[i, 'Hombres'] = round(df.loc[i, 'Hombres']/total, 5)\n",
    "    df_probabilidades.loc[i, 'Mujeres'] = round(df.loc[i, 'Mujeres']/total, 5)\n",
    "# Agrego una fila y una columna de 'Total'. Podría haberlo hecho antes y evitar un bucle for, pero\n",
    "# lo hice así para que se entienda un poco mejor. \n",
    "df_probabilidades.loc[len(df_probabilidades)] = ['Total', 0, 0]  \n",
    "df_probabilidades['Total'] = 0\n",
    "df_probabilidades['Total'] = df_probabilidades['Total'].astype(float)\n",
    "# En este bucle sumo cada 'Hombres' y 'Mujeres' para tener la probabilidad total de cada empleo.\n",
    "for i in range(len(df_probabilidades)):\n",
    "    df_probabilidades.loc[i, 'Total'] = df_probabilidades.loc[i, 'Hombres'] + df_probabilidades.loc[i, 'Mujeres']\n",
    "df_probabilidades.loc[6, 'Hombres'] = df_probabilidades['Hombres'].sum()  # Sumo el total de 'Hombres'.\n",
    "df_probabilidades.loc[6, 'Mujeres'] = df_probabilidades['Mujeres'].sum()  # Sumo el total de 'Mujeres'.\n",
    "# df_probabilidades['Total'].sum()  # Compruebo que la suma de la columna 'Total' dé 1.\n",
    "# df_probabilidades.loc[6, 'Hombres'] + df_probabilidades.loc[6, 'Mujeres']  # Compruebo que la suma de la fila 'Total' dé 1.\n",
    "df_probabilidades.loc[6, 'Total'] = 1\n",
    "df_probabilidades\n"
   ]
  },
  {
   "cell_type": "markdown",
   "metadata": {},
   "source": [
    "b. ¿Cuál es la probabilidad de que un trabajador mujer sea directivo o profesional?"
   ]
  },
  {
   "cell_type": "code",
   "execution_count": 5,
   "metadata": {},
   "outputs": [
    {
     "name": "stdout",
     "output_type": "stream",
     "text": [
      "La probabilidad es de 0.17191.\n"
     ]
    }
   ],
   "source": [
    "print(f\"La probabilidad es de {df_probabilidades.loc[0, 'Mujeres']}.\")"
   ]
  },
  {
   "cell_type": "markdown",
   "metadata": {},
   "source": [
    "c. ¿Cuál es la probabilidad de que un trabajador hombre esté en producción con precisión?"
   ]
  },
  {
   "cell_type": "code",
   "execution_count": 6,
   "metadata": {},
   "outputs": [
    {
     "name": "stdout",
     "output_type": "stream",
     "text": [
      "La probabilidad es de 0.10558.\n"
     ]
    }
   ],
   "source": [
    "print(f\"La probabilidad es de {df_probabilidades.loc[3, 'Hombres']}.\")"
   ]
  },
  {
   "cell_type": "markdown",
   "metadata": {},
   "source": [
    "d. ¿Es la ocupación independiente del género? Justifique su respuesta con el cálculo de la probabilidad."
   ]
  },
  {
   "cell_type": "markdown",
   "metadata": {},
   "source": [
    "Solo con ver la tabla nos damos cuenta de que en algunos empleos es considerable la diferencia entre cantidad de hombres y mujeres. Para dar una respuesta matemática hay que calcular la probabilidad de una ocupación dado el género y comparar. Pero esto solo nos dice que, en determinados empleos, hay mayor cantidad de personas de algún género. En términos probabilísticos, analizando los resultados, la respuesta sería que no son independientes..."
   ]
  },
  {
   "cell_type": "markdown",
   "metadata": {},
   "source": [
    "P(Trabajo n Genero) = P(Genero) * P(Trabajo|Genero)\n",
    "\n",
    "P(Trabajo|Genero) = P(Trabajo n Genero)/P(Genero)\n",
    "\n",
    "Ej.: fila 0, hombres:\n",
    "\n",
    "df_probabilidades.loc[0,'Hombres']/df_probabilidades.loc[6, 'Hombres']\n",
    "\n",
    "fila 0, mujeres:\n",
    "\n",
    "df_probabilidades.loc[0,'Mujeres']/df_probabilidades.loc[6, 'Mujeres']\n"
   ]
  },
  {
   "cell_type": "code",
   "execution_count": 7,
   "metadata": {},
   "outputs": [
    {
     "name": "stdout",
     "output_type": "stream",
     "text": [
      "\n",
      "0.32211242084026076 0.3699455551012503\n",
      "\n",
      "\n",
      "0.1870504941062188 0.37564828165013237\n",
      "\n",
      "\n",
      "0.08402607834712596 0.15455464933611654\n",
      "\n",
      "\n",
      "0.19723151071341835 0.02212227506509716\n",
      "\n",
      "\n",
      "0.17855074629653844 0.06772256773332759\n",
      "\n",
      "\n",
      "0.031028749696437576 0.01000667111407605\n",
      "\n"
     ]
    }
   ],
   "source": [
    "for i in range(len(df_probabilidades)-1):\n",
    "    print()\n",
    "    print(df_probabilidades.loc[i,'Hombres']/df_probabilidades.loc[6, 'Hombres'], df_probabilidades.loc[i,'Mujeres']/df_probabilidades.loc[6, 'Mujeres'])\n",
    "    print()"
   ]
  },
  {
   "cell_type": "markdown",
   "metadata": {},
   "source": [
    "Otra manera es comparar la intersección con las probabilidades marginales para hombres y mujeres para  cada empleo.\n",
    "\n",
    "P(Trabajo n Genero) = P(Trabajo) * P(Genero)\n",
    "\n",
    "Ej.: fila 0, hombres:\n",
    "\n",
    "df_probabilidades.loc[0, 'Hombres'] == df_probabilidades.loc[0, 'Total'] * df_probabilidades.loc[6, 'Hombres']\n",
    "\n",
    "fila 0, mujeres: \n",
    "\n",
    "df_probabilidades.loc[0, 'Mujeres'] == df_probabilidades.loc[0, 'Total'] * df_probabilidades.loc[6, 'Mujeres']\n",
    "\n"
   ]
  },
  {
   "cell_type": "code",
   "execution_count": 127,
   "metadata": {},
   "outputs": [
    {
     "name": "stdout",
     "output_type": "stream",
     "text": [
      "\n",
      "False False\n",
      "\n",
      "\n",
      "False False\n",
      "\n",
      "\n",
      "False False\n",
      "\n",
      "\n",
      "False False\n",
      "\n",
      "\n",
      "False False\n",
      "\n",
      "\n",
      "False False\n",
      "\n"
     ]
    }
   ],
   "source": [
    "for i in range(len(df_probabilidades)-1):\n",
    "    print()\n",
    "    print(df_probabilidades.loc[i, 'Hombres'] == df_probabilidades.loc[i, 'Total'] * df_probabilidades.loc[6, 'Hombres'], df_probabilidades.loc[i, 'Mujeres'] == df_probabilidades.loc[i, 'Total'] * df_probabilidades.loc[6, 'Mujeres'])\n",
    "    print()"
   ]
  },
  {
   "cell_type": "markdown",
   "metadata": {},
   "source": [
    "Voy a comparar los valores, por si son aproximados y no exactamente iguales."
   ]
  },
  {
   "cell_type": "code",
   "execution_count": 128,
   "metadata": {},
   "outputs": [
    {
     "name": "stdout",
     "output_type": "stream",
     "text": [
      "\n",
      "0.17243 0.18432864540000002 0.17191 0.1600113546\n",
      "\n",
      "\n",
      "0.10013 0.1470443039 0.17456 0.12764569609999998\n",
      "\n",
      "\n",
      "0.04498 0.062524208 0.07182 0.054275791999999996\n",
      "\n",
      "\n",
      "0.10558 0.0620210166 0.01028 0.05383898339999999\n",
      "\n",
      "\n",
      "0.09558 0.0680111355 0.03147 0.059038864499999996\n",
      "\n",
      "\n",
      "0.01661 0.011380690600000002 0.00465 0.009879309400000001\n",
      "\n"
     ]
    }
   ],
   "source": [
    "for i in range(len(df_probabilidades)-1):\n",
    "    print()\n",
    "    print(df_probabilidades.loc[i, 'Hombres'], df_probabilidades.loc[i, 'Total'] * df_probabilidades.loc[6, 'Hombres'], df_probabilidades.loc[i, 'Mujeres'], df_probabilidades.loc[i, 'Total'] * df_probabilidades.loc[6, 'Mujeres'])\n",
    "    print()"
   ]
  },
  {
   "cell_type": "markdown",
   "metadata": {},
   "source": [
    "Conclusión: según estos cálculos, la ocupación y el género no son independientes. "
   ]
  }
 ],
 "metadata": {
  "kernelspec": {
   "display_name": "Python 3",
   "language": "python",
   "name": "python3"
  },
  "language_info": {
   "codemirror_mode": {
    "name": "ipython",
    "version": 3
   },
   "file_extension": ".py",
   "mimetype": "text/x-python",
   "name": "python",
   "nbconvert_exporter": "python",
   "pygments_lexer": "ipython3",
   "version": "3.11.2"
  }
 },
 "nbformat": 4,
 "nbformat_minor": 2
}
